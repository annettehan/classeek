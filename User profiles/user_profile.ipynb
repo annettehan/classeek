{
 "cells": [
  {
   "cell_type": "markdown",
   "metadata": {},
   "source": [
    "## Create 5000 user profiles based on CS and LSA requirements"
   ]
  },
  {
   "cell_type": "code",
   "execution_count": 261,
   "metadata": {},
   "outputs": [],
   "source": [
    "import pandas as pd\n",
    "import pickle\n",
    "import numpy as np\n",
    "\n",
    "import numpy as np\n",
    "import json\n",
    "import glob\n",
    "\n",
    "import nltk\n",
    "from nltk.corpus import stopwords\n",
    "\n",
    "# from top2vec import Top2Vec"
   ]
  },
  {
   "cell_type": "code",
   "execution_count": 2,
   "metadata": {},
   "outputs": [],
   "source": [
    "cs_students = pd.read_pickle('CS requirement/cs_students.pickle')\n",
    "qr1_students = pd.read_pickle('LSA requirements/qr1_students.pickle')\n",
    "qr2_students = pd.read_pickle('LSA requirements/qr2_students.pickle')"
   ]
  },
  {
   "cell_type": "code",
   "execution_count": 5,
   "metadata": {
    "collapsed": true,
    "jupyter": {
     "outputs_hidden": true
    }
   },
   "outputs": [
    {
     "ename": "AttributeError",
     "evalue": "'DataFrame' object has no attribute '_data'",
     "output_type": "error",
     "traceback": [
      "\u001b[0;31m---------------------------------------------------------------------------\u001b[0m",
      "\u001b[0;31mAttributeError\u001b[0m                            Traceback (most recent call last)",
      "\u001b[0;32m<ipython-input-5-31bb7c6766cc>\u001b[0m in \u001b[0;36m<module>\u001b[0;34m\u001b[0m\n\u001b[1;32m      1\u001b[0m \u001b[0mstudent_profiles\u001b[0m \u001b[0;34m=\u001b[0m \u001b[0;34m{\u001b[0m\u001b[0;34m}\u001b[0m\u001b[0;34m\u001b[0m\u001b[0;34m\u001b[0m\u001b[0m\n\u001b[1;32m      2\u001b[0m \u001b[0;32mfor\u001b[0m \u001b[0mi\u001b[0m \u001b[0;32min\u001b[0m \u001b[0mrange\u001b[0m\u001b[0;34m(\u001b[0m\u001b[0;36m2500\u001b[0m\u001b[0;34m)\u001b[0m\u001b[0;34m:\u001b[0m\u001b[0;34m\u001b[0m\u001b[0;34m\u001b[0m\u001b[0m\n\u001b[0;32m----> 3\u001b[0;31m     \u001b[0mstudent_profiles\u001b[0m\u001b[0;34m[\u001b[0m\u001b[0mi\u001b[0m\u001b[0;34m]\u001b[0m \u001b[0;34m=\u001b[0m \u001b[0mpd\u001b[0m\u001b[0;34m.\u001b[0m\u001b[0mconcat\u001b[0m\u001b[0;34m(\u001b[0m\u001b[0;34m[\u001b[0m\u001b[0mcs_students\u001b[0m\u001b[0;34m[\u001b[0m\u001b[0mi\u001b[0m\u001b[0;34m]\u001b[0m\u001b[0;34m,\u001b[0m \u001b[0mqr1_students\u001b[0m\u001b[0;34m[\u001b[0m\u001b[0mi\u001b[0m\u001b[0;34m]\u001b[0m\u001b[0;34m]\u001b[0m\u001b[0;34m,\u001b[0m \u001b[0mignore_index\u001b[0m\u001b[0;34m=\u001b[0m\u001b[0;32mTrue\u001b[0m\u001b[0;34m)\u001b[0m\u001b[0;34m\u001b[0m\u001b[0;34m\u001b[0m\u001b[0m\n\u001b[0m\u001b[1;32m      4\u001b[0m     \u001b[0mstudent_profiles\u001b[0m\u001b[0;34m[\u001b[0m\u001b[0mi\u001b[0m\u001b[0;34m+\u001b[0m\u001b[0;36m2500\u001b[0m\u001b[0;34m]\u001b[0m \u001b[0;34m=\u001b[0m \u001b[0mpd\u001b[0m\u001b[0;34m.\u001b[0m\u001b[0mconcat\u001b[0m\u001b[0;34m(\u001b[0m\u001b[0;34m[\u001b[0m\u001b[0mcs_students\u001b[0m\u001b[0;34m[\u001b[0m\u001b[0mi\u001b[0m\u001b[0;34m+\u001b[0m\u001b[0;36m2500\u001b[0m\u001b[0;34m]\u001b[0m\u001b[0;34m,\u001b[0m \u001b[0mqr2_students\u001b[0m\u001b[0;34m[\u001b[0m\u001b[0mi\u001b[0m\u001b[0;34m]\u001b[0m\u001b[0;34m]\u001b[0m\u001b[0;34m,\u001b[0m \u001b[0mignore_index\u001b[0m\u001b[0;34m=\u001b[0m\u001b[0;32mTrue\u001b[0m\u001b[0;34m)\u001b[0m\u001b[0;34m\u001b[0m\u001b[0;34m\u001b[0m\u001b[0m\n",
      "\u001b[0;32m~/opt/anaconda3/lib/python3.8/site-packages/pandas/core/reshape/concat.py\u001b[0m in \u001b[0;36mconcat\u001b[0;34m(objs, axis, join, ignore_index, keys, levels, names, verify_integrity, sort, copy)\u001b[0m\n\u001b[1;32m    269\u001b[0m     \u001b[0mValueError\u001b[0m\u001b[0;34m:\u001b[0m \u001b[0mIndexes\u001b[0m \u001b[0mhave\u001b[0m \u001b[0moverlapping\u001b[0m \u001b[0mvalues\u001b[0m\u001b[0;34m:\u001b[0m \u001b[0;34m[\u001b[0m\u001b[0;34m'a'\u001b[0m\u001b[0;34m]\u001b[0m\u001b[0;34m\u001b[0m\u001b[0;34m\u001b[0m\u001b[0m\n\u001b[1;32m    270\u001b[0m     \"\"\"\n\u001b[0;32m--> 271\u001b[0;31m     op = _Concatenator(\n\u001b[0m\u001b[1;32m    272\u001b[0m         \u001b[0mobjs\u001b[0m\u001b[0;34m,\u001b[0m\u001b[0;34m\u001b[0m\u001b[0;34m\u001b[0m\u001b[0m\n\u001b[1;32m    273\u001b[0m         \u001b[0maxis\u001b[0m\u001b[0;34m=\u001b[0m\u001b[0maxis\u001b[0m\u001b[0;34m,\u001b[0m\u001b[0;34m\u001b[0m\u001b[0;34m\u001b[0m\u001b[0m\n",
      "\u001b[0;32m~/opt/anaconda3/lib/python3.8/site-packages/pandas/core/reshape/concat.py\u001b[0m in \u001b[0;36m__init__\u001b[0;34m(self, objs, axis, join, keys, levels, names, ignore_index, verify_integrity, copy, sort)\u001b[0m\n\u001b[1;32m    358\u001b[0m \u001b[0;34m\u001b[0m\u001b[0m\n\u001b[1;32m    359\u001b[0m             \u001b[0;31m# consolidate\u001b[0m\u001b[0;34m\u001b[0m\u001b[0;34m\u001b[0m\u001b[0;34m\u001b[0m\u001b[0m\n\u001b[0;32m--> 360\u001b[0;31m             \u001b[0mobj\u001b[0m\u001b[0;34m.\u001b[0m\u001b[0m_consolidate\u001b[0m\u001b[0;34m(\u001b[0m\u001b[0minplace\u001b[0m\u001b[0;34m=\u001b[0m\u001b[0;32mTrue\u001b[0m\u001b[0;34m)\u001b[0m\u001b[0;34m\u001b[0m\u001b[0;34m\u001b[0m\u001b[0m\n\u001b[0m\u001b[1;32m    361\u001b[0m             \u001b[0mndims\u001b[0m\u001b[0;34m.\u001b[0m\u001b[0madd\u001b[0m\u001b[0;34m(\u001b[0m\u001b[0mobj\u001b[0m\u001b[0;34m.\u001b[0m\u001b[0mndim\u001b[0m\u001b[0;34m)\u001b[0m\u001b[0;34m\u001b[0m\u001b[0;34m\u001b[0m\u001b[0m\n\u001b[1;32m    362\u001b[0m \u001b[0;34m\u001b[0m\u001b[0m\n",
      "\u001b[0;32m~/opt/anaconda3/lib/python3.8/site-packages/pandas/core/generic.py\u001b[0m in \u001b[0;36m_consolidate\u001b[0;34m(self, inplace)\u001b[0m\n\u001b[1;32m   5363\u001b[0m         \u001b[0minplace\u001b[0m \u001b[0;34m=\u001b[0m \u001b[0mvalidate_bool_kwarg\u001b[0m\u001b[0;34m(\u001b[0m\u001b[0minplace\u001b[0m\u001b[0;34m,\u001b[0m \u001b[0;34m\"inplace\"\u001b[0m\u001b[0;34m)\u001b[0m\u001b[0;34m\u001b[0m\u001b[0;34m\u001b[0m\u001b[0m\n\u001b[1;32m   5364\u001b[0m         \u001b[0;32mif\u001b[0m \u001b[0minplace\u001b[0m\u001b[0;34m:\u001b[0m\u001b[0;34m\u001b[0m\u001b[0;34m\u001b[0m\u001b[0m\n\u001b[0;32m-> 5365\u001b[0;31m             \u001b[0mself\u001b[0m\u001b[0;34m.\u001b[0m\u001b[0m_consolidate_inplace\u001b[0m\u001b[0;34m(\u001b[0m\u001b[0;34m)\u001b[0m\u001b[0;34m\u001b[0m\u001b[0;34m\u001b[0m\u001b[0m\n\u001b[0m\u001b[1;32m   5366\u001b[0m         \u001b[0;32melse\u001b[0m\u001b[0;34m:\u001b[0m\u001b[0;34m\u001b[0m\u001b[0;34m\u001b[0m\u001b[0m\n\u001b[1;32m   5367\u001b[0m             \u001b[0mf\u001b[0m \u001b[0;34m=\u001b[0m \u001b[0;32mlambda\u001b[0m\u001b[0;34m:\u001b[0m \u001b[0mself\u001b[0m\u001b[0;34m.\u001b[0m\u001b[0m_data\u001b[0m\u001b[0;34m.\u001b[0m\u001b[0mconsolidate\u001b[0m\u001b[0;34m(\u001b[0m\u001b[0;34m)\u001b[0m\u001b[0;34m\u001b[0m\u001b[0;34m\u001b[0m\u001b[0m\n",
      "\u001b[0;32m~/opt/anaconda3/lib/python3.8/site-packages/pandas/core/generic.py\u001b[0m in \u001b[0;36m_consolidate_inplace\u001b[0;34m(self)\u001b[0m\n\u001b[1;32m   5345\u001b[0m             \u001b[0mself\u001b[0m\u001b[0;34m.\u001b[0m\u001b[0m_data\u001b[0m \u001b[0;34m=\u001b[0m \u001b[0mself\u001b[0m\u001b[0;34m.\u001b[0m\u001b[0m_data\u001b[0m\u001b[0;34m.\u001b[0m\u001b[0mconsolidate\u001b[0m\u001b[0;34m(\u001b[0m\u001b[0;34m)\u001b[0m\u001b[0;34m\u001b[0m\u001b[0;34m\u001b[0m\u001b[0m\n\u001b[1;32m   5346\u001b[0m \u001b[0;34m\u001b[0m\u001b[0m\n\u001b[0;32m-> 5347\u001b[0;31m         \u001b[0mself\u001b[0m\u001b[0;34m.\u001b[0m\u001b[0m_protect_consolidate\u001b[0m\u001b[0;34m(\u001b[0m\u001b[0mf\u001b[0m\u001b[0;34m)\u001b[0m\u001b[0;34m\u001b[0m\u001b[0;34m\u001b[0m\u001b[0m\n\u001b[0m\u001b[1;32m   5348\u001b[0m \u001b[0;34m\u001b[0m\u001b[0m\n\u001b[1;32m   5349\u001b[0m     \u001b[0;32mdef\u001b[0m \u001b[0m_consolidate\u001b[0m\u001b[0;34m(\u001b[0m\u001b[0mself\u001b[0m\u001b[0;34m,\u001b[0m \u001b[0minplace\u001b[0m\u001b[0;34m:\u001b[0m \u001b[0mbool_t\u001b[0m \u001b[0;34m=\u001b[0m \u001b[0;32mFalse\u001b[0m\u001b[0;34m)\u001b[0m\u001b[0;34m:\u001b[0m\u001b[0;34m\u001b[0m\u001b[0;34m\u001b[0m\u001b[0m\n",
      "\u001b[0;32m~/opt/anaconda3/lib/python3.8/site-packages/pandas/core/generic.py\u001b[0m in \u001b[0;36m_protect_consolidate\u001b[0;34m(self, f)\u001b[0m\n\u001b[1;32m   5333\u001b[0m         \u001b[0mcache\u001b[0m\u001b[0;34m\u001b[0m\u001b[0;34m\u001b[0m\u001b[0m\n\u001b[1;32m   5334\u001b[0m         \"\"\"\n\u001b[0;32m-> 5335\u001b[0;31m         \u001b[0mblocks_before\u001b[0m \u001b[0;34m=\u001b[0m \u001b[0mlen\u001b[0m\u001b[0;34m(\u001b[0m\u001b[0mself\u001b[0m\u001b[0;34m.\u001b[0m\u001b[0m_data\u001b[0m\u001b[0;34m.\u001b[0m\u001b[0mblocks\u001b[0m\u001b[0;34m)\u001b[0m\u001b[0;34m\u001b[0m\u001b[0;34m\u001b[0m\u001b[0m\n\u001b[0m\u001b[1;32m   5336\u001b[0m         \u001b[0mresult\u001b[0m \u001b[0;34m=\u001b[0m \u001b[0mf\u001b[0m\u001b[0;34m(\u001b[0m\u001b[0;34m)\u001b[0m\u001b[0;34m\u001b[0m\u001b[0;34m\u001b[0m\u001b[0m\n\u001b[1;32m   5337\u001b[0m         \u001b[0;32mif\u001b[0m \u001b[0mlen\u001b[0m\u001b[0;34m(\u001b[0m\u001b[0mself\u001b[0m\u001b[0;34m.\u001b[0m\u001b[0m_data\u001b[0m\u001b[0;34m.\u001b[0m\u001b[0mblocks\u001b[0m\u001b[0;34m)\u001b[0m \u001b[0;34m!=\u001b[0m \u001b[0mblocks_before\u001b[0m\u001b[0;34m:\u001b[0m\u001b[0;34m\u001b[0m\u001b[0;34m\u001b[0m\u001b[0m\n",
      "\u001b[0;32m~/opt/anaconda3/lib/python3.8/site-packages/pandas/core/generic.py\u001b[0m in \u001b[0;36m__getattr__\u001b[0;34m(self, name)\u001b[0m\n\u001b[1;32m   5268\u001b[0m             \u001b[0;32mor\u001b[0m \u001b[0mname\u001b[0m \u001b[0;32min\u001b[0m \u001b[0mself\u001b[0m\u001b[0;34m.\u001b[0m\u001b[0m_accessors\u001b[0m\u001b[0;34m\u001b[0m\u001b[0;34m\u001b[0m\u001b[0m\n\u001b[1;32m   5269\u001b[0m         ):\n\u001b[0;32m-> 5270\u001b[0;31m             \u001b[0;32mreturn\u001b[0m \u001b[0mobject\u001b[0m\u001b[0;34m.\u001b[0m\u001b[0m__getattribute__\u001b[0m\u001b[0;34m(\u001b[0m\u001b[0mself\u001b[0m\u001b[0;34m,\u001b[0m \u001b[0mname\u001b[0m\u001b[0;34m)\u001b[0m\u001b[0;34m\u001b[0m\u001b[0;34m\u001b[0m\u001b[0m\n\u001b[0m\u001b[1;32m   5271\u001b[0m         \u001b[0;32melse\u001b[0m\u001b[0;34m:\u001b[0m\u001b[0;34m\u001b[0m\u001b[0;34m\u001b[0m\u001b[0m\n\u001b[1;32m   5272\u001b[0m             \u001b[0;32mif\u001b[0m \u001b[0mself\u001b[0m\u001b[0;34m.\u001b[0m\u001b[0m_info_axis\u001b[0m\u001b[0;34m.\u001b[0m\u001b[0m_can_hold_identifiers_and_holds_name\u001b[0m\u001b[0;34m(\u001b[0m\u001b[0mname\u001b[0m\u001b[0;34m)\u001b[0m\u001b[0;34m:\u001b[0m\u001b[0;34m\u001b[0m\u001b[0;34m\u001b[0m\u001b[0m\n",
      "\u001b[0;31mAttributeError\u001b[0m: 'DataFrame' object has no attribute '_data'"
     ]
    }
   ],
   "source": [
    "# student_profiles = {}\n",
    "# for i in range(2500):\n",
    "#     student_profiles[i] = pd.concat([cs_students[i], qr1_students[i]], ignore_index=True)\n",
    "#     student_profiles[i+2500] = pd.concat([cs_students[i+2500], qr2_students[i]], ignore_index=True)"
   ]
  },
  {
   "cell_type": "code",
   "execution_count": null,
   "metadata": {},
   "outputs": [],
   "source": [
    "# pickle.dump(student_profiles, open(\"student_profiles.pickle\", \"wb\"))"
   ]
  },
  {
   "cell_type": "code",
   "execution_count": 262,
   "metadata": {},
   "outputs": [],
   "source": [
    "student_profiles = pd.read_pickle('student_profiles.pickle')"
   ]
  },
  {
   "cell_type": "code",
   "execution_count": 10,
   "metadata": {},
   "outputs": [
    {
     "data": {
      "text/html": [
       "<div>\n",
       "<style scoped>\n",
       "    .dataframe tbody tr th:only-of-type {\n",
       "        vertical-align: middle;\n",
       "    }\n",
       "\n",
       "    .dataframe tbody tr th {\n",
       "        vertical-align: top;\n",
       "    }\n",
       "\n",
       "    .dataframe thead th {\n",
       "        text-align: right;\n",
       "    }\n",
       "</style>\n",
       "<table border=\"1\" class=\"dataframe\">\n",
       "  <thead>\n",
       "    <tr style=\"text-align: right;\">\n",
       "      <th></th>\n",
       "      <th>0</th>\n",
       "      <th>1</th>\n",
       "    </tr>\n",
       "  </thead>\n",
       "  <tbody>\n",
       "    <tr>\n",
       "      <th>0</th>\n",
       "      <td>0</td>\n",
       "      <td>Subject/Catalog                     Course ...</td>\n",
       "    </tr>\n",
       "    <tr>\n",
       "      <th>1</th>\n",
       "      <td>2500</td>\n",
       "      <td>Subject/Catalog                     Course ...</td>\n",
       "    </tr>\n",
       "    <tr>\n",
       "      <th>2</th>\n",
       "      <td>1</td>\n",
       "      <td>Subject/Catalog                     Course ...</td>\n",
       "    </tr>\n",
       "    <tr>\n",
       "      <th>3</th>\n",
       "      <td>2501</td>\n",
       "      <td>Subject/Catalog                     Course ...</td>\n",
       "    </tr>\n",
       "    <tr>\n",
       "      <th>4</th>\n",
       "      <td>2</td>\n",
       "      <td>Subject/Catalog                     Course ...</td>\n",
       "    </tr>\n",
       "    <tr>\n",
       "      <th>...</th>\n",
       "      <td>...</td>\n",
       "      <td>...</td>\n",
       "    </tr>\n",
       "    <tr>\n",
       "      <th>4995</th>\n",
       "      <td>4997</td>\n",
       "      <td>Subject/Catalog                     Course ...</td>\n",
       "    </tr>\n",
       "    <tr>\n",
       "      <th>4996</th>\n",
       "      <td>2498</td>\n",
       "      <td>Subject/Catalog                     Course ...</td>\n",
       "    </tr>\n",
       "    <tr>\n",
       "      <th>4997</th>\n",
       "      <td>4998</td>\n",
       "      <td>Subject/Catalog                     Course ...</td>\n",
       "    </tr>\n",
       "    <tr>\n",
       "      <th>4998</th>\n",
       "      <td>2499</td>\n",
       "      <td>Subject/Catalog                     Course ...</td>\n",
       "    </tr>\n",
       "    <tr>\n",
       "      <th>4999</th>\n",
       "      <td>4999</td>\n",
       "      <td>Subject/Catalog                     Course ...</td>\n",
       "    </tr>\n",
       "  </tbody>\n",
       "</table>\n",
       "<p>5000 rows × 2 columns</p>\n",
       "</div>"
      ],
      "text/plain": [
       "         0                                                  1\n",
       "0        0     Subject/Catalog                     Course ...\n",
       "1     2500     Subject/Catalog                     Course ...\n",
       "2        1     Subject/Catalog                     Course ...\n",
       "3     2501     Subject/Catalog                     Course ...\n",
       "4        2     Subject/Catalog                     Course ...\n",
       "...    ...                                                ...\n",
       "4995  4997     Subject/Catalog                     Course ...\n",
       "4996  2498     Subject/Catalog                     Course ...\n",
       "4997  4998     Subject/Catalog                     Course ...\n",
       "4998  2499     Subject/Catalog                     Course ...\n",
       "4999  4999     Subject/Catalog                     Course ...\n",
       "\n",
       "[5000 rows x 2 columns]"
      ]
     },
     "execution_count": 10,
     "metadata": {},
     "output_type": "execute_result"
    }
   ],
   "source": [
    "pd.DataFrame.from_dict(student_profiles.items())"
   ]
  },
  {
   "cell_type": "code",
   "execution_count": 264,
   "metadata": {},
   "outputs": [
    {
     "data": {
      "text/html": [
       "<div>\n",
       "<style scoped>\n",
       "    .dataframe tbody tr th:only-of-type {\n",
       "        vertical-align: middle;\n",
       "    }\n",
       "\n",
       "    .dataframe tbody tr th {\n",
       "        vertical-align: top;\n",
       "    }\n",
       "\n",
       "    .dataframe thead th {\n",
       "        text-align: right;\n",
       "    }\n",
       "</style>\n",
       "<table border=\"1\" class=\"dataframe\">\n",
       "  <thead>\n",
       "    <tr style=\"text-align: right;\">\n",
       "      <th></th>\n",
       "      <th>Subject/Catalog</th>\n",
       "      <th>Course List Description</th>\n",
       "      <th>Credits</th>\n",
       "      <th>Course Title</th>\n",
       "      <th>Rating</th>\n",
       "    </tr>\n",
       "  </thead>\n",
       "  <tbody>\n",
       "    <tr>\n",
       "      <th>0</th>\n",
       "      <td>MATH 120</td>\n",
       "      <td>CS-LSA major declaration Cal I</td>\n",
       "      <td>4.0</td>\n",
       "      <td>Exam Calc Credit I</td>\n",
       "      <td>2.342497</td>\n",
       "    </tr>\n",
       "    <tr>\n",
       "      <th>1</th>\n",
       "      <td>MATH 186</td>\n",
       "      <td>CS-LSA major declaration Cal II</td>\n",
       "      <td>4.0</td>\n",
       "      <td>Honors Calc II</td>\n",
       "      <td>2.302494</td>\n",
       "    </tr>\n",
       "    <tr>\n",
       "      <th>2</th>\n",
       "      <td>STATS 426</td>\n",
       "      <td>Core Probability</td>\n",
       "      <td>3.0</td>\n",
       "      <td>Intro to Theo Stat</td>\n",
       "      <td>3.030199</td>\n",
       "    </tr>\n",
       "    <tr>\n",
       "      <th>3</th>\n",
       "      <td>EECS 574</td>\n",
       "      <td>Upper Level CS Technical Electives (ULCS)</td>\n",
       "      <td>4.0</td>\n",
       "      <td>Computat Complexity</td>\n",
       "      <td>4.108495</td>\n",
       "    </tr>\n",
       "    <tr>\n",
       "      <th>4</th>\n",
       "      <td>EECS 627</td>\n",
       "      <td>Upper Level CS Technical Electives (ULCS)</td>\n",
       "      <td>4.0</td>\n",
       "      <td>VLSI Design II</td>\n",
       "      <td>3.644721</td>\n",
       "    </tr>\n",
       "    <tr>\n",
       "      <th>5</th>\n",
       "      <td>EECS 442</td>\n",
       "      <td>Upper Level CS Technical Electives (ULCS)</td>\n",
       "      <td>4.0</td>\n",
       "      <td>Computer Vision</td>\n",
       "      <td>3.768067</td>\n",
       "    </tr>\n",
       "    <tr>\n",
       "      <th>6</th>\n",
       "      <td>EECS 594</td>\n",
       "      <td>Upper Level CS Technical Electives (ULCS)</td>\n",
       "      <td>4.0</td>\n",
       "      <td>Intro Adaptive Syst</td>\n",
       "      <td>3.359555</td>\n",
       "    </tr>\n",
       "    <tr>\n",
       "      <th>7</th>\n",
       "      <td>EECS 441</td>\n",
       "      <td>Computer Science Capstone</td>\n",
       "      <td>4.0</td>\n",
       "      <td>Mbl App Dev Entrprnr</td>\n",
       "      <td>3.564341</td>\n",
       "    </tr>\n",
       "    <tr>\n",
       "      <th>8</th>\n",
       "      <td>EECS 203</td>\n",
       "      <td>CS-LSA major declaration</td>\n",
       "      <td>4.0</td>\n",
       "      <td>Discrete Math</td>\n",
       "      <td>3.614063</td>\n",
       "    </tr>\n",
       "    <tr>\n",
       "      <th>9</th>\n",
       "      <td>EECS 280</td>\n",
       "      <td>CS-LSA major declaration</td>\n",
       "      <td>4.0</td>\n",
       "      <td>Prog&amp;Data Struct</td>\n",
       "      <td>3.039934</td>\n",
       "    </tr>\n",
       "    <tr>\n",
       "      <th>10</th>\n",
       "      <td>EECS 281</td>\n",
       "      <td>Core CS</td>\n",
       "      <td>4.0</td>\n",
       "      <td>Data Struct&amp;Algor</td>\n",
       "      <td>2.702543</td>\n",
       "    </tr>\n",
       "    <tr>\n",
       "      <th>11</th>\n",
       "      <td>EECS 370</td>\n",
       "      <td>Core CS</td>\n",
       "      <td>4.0</td>\n",
       "      <td>Intro Computer Org</td>\n",
       "      <td>3.832988</td>\n",
       "    </tr>\n",
       "    <tr>\n",
       "      <th>12</th>\n",
       "      <td>EECS 376</td>\n",
       "      <td>Core CS</td>\n",
       "      <td>4.0</td>\n",
       "      <td>Foundatns Comp Sci</td>\n",
       "      <td>2.544180</td>\n",
       "    </tr>\n",
       "    <tr>\n",
       "      <th>13</th>\n",
       "      <td>LIN 104</td>\n",
       "      <td>FYWR</td>\n",
       "      <td>4.0</td>\n",
       "      <td>First Yr Sem Comp</td>\n",
       "      <td>3.347588</td>\n",
       "    </tr>\n",
       "    <tr>\n",
       "      <th>14</th>\n",
       "      <td>AMCUL 313</td>\n",
       "      <td>ULWR</td>\n",
       "      <td>3.0</td>\n",
       "      <td>Fall 2011</td>\n",
       "      <td>3.753349</td>\n",
       "    </tr>\n",
       "    <tr>\n",
       "      <th>15</th>\n",
       "      <td>EDU 210.0</td>\n",
       "      <td>RE</td>\n",
       "      <td>3.0</td>\n",
       "      <td>Spec Topics in Ed</td>\n",
       "      <td>3.630088</td>\n",
       "    </tr>\n",
       "    <tr>\n",
       "      <th>16</th>\n",
       "      <td>STAT 100</td>\n",
       "      <td>QR/1</td>\n",
       "      <td>4.0</td>\n",
       "      <td>Intro Stat/Math Mode</td>\n",
       "      <td>2.156984</td>\n",
       "    </tr>\n",
       "    <tr>\n",
       "      <th>17</th>\n",
       "      <td>GERMA 464</td>\n",
       "      <td>LR</td>\n",
       "      <td>4.0</td>\n",
       "      <td>German Ethnicities</td>\n",
       "      <td>3.866353</td>\n",
       "    </tr>\n",
       "    <tr>\n",
       "      <th>18</th>\n",
       "      <td>ASIANLA 485</td>\n",
       "      <td>LR</td>\n",
       "      <td>4.0</td>\n",
       "      <td>Advanced Bengali I</td>\n",
       "      <td>3.627009</td>\n",
       "    </tr>\n",
       "    <tr>\n",
       "      <th>19</th>\n",
       "      <td>MIDEAS 519</td>\n",
       "      <td>LR</td>\n",
       "      <td>4.0</td>\n",
       "      <td>Qur'An Study</td>\n",
       "      <td>2.937065</td>\n",
       "    </tr>\n",
       "    <tr>\n",
       "      <th>20</th>\n",
       "      <td>LATI 446</td>\n",
       "      <td>LR</td>\n",
       "      <td>4.0</td>\n",
       "      <td>Horace: Odes&amp;Epodes</td>\n",
       "      <td>3.030641</td>\n",
       "    </tr>\n",
       "    <tr>\n",
       "      <th>21</th>\n",
       "      <td>ISLA 292</td>\n",
       "      <td>HU</td>\n",
       "      <td>3.0</td>\n",
       "      <td>HU Topics in Islam</td>\n",
       "      <td>4.675750</td>\n",
       "    </tr>\n",
       "    <tr>\n",
       "      <th>22</th>\n",
       "      <td>HAR 139</td>\n",
       "      <td>CE</td>\n",
       "      <td>3.0</td>\n",
       "      <td>Performance</td>\n",
       "      <td>2.684997</td>\n",
       "    </tr>\n",
       "    <tr>\n",
       "      <th>23</th>\n",
       "      <td>MAT 156</td>\n",
       "      <td>MSA</td>\n",
       "      <td>4.0</td>\n",
       "      <td>App Honors Calc 2</td>\n",
       "      <td>2.309000</td>\n",
       "    </tr>\n",
       "    <tr>\n",
       "      <th>24</th>\n",
       "      <td>PHYSIC 169</td>\n",
       "      <td>NS</td>\n",
       "      <td>3.0</td>\n",
       "      <td>Physical Universe</td>\n",
       "      <td>4.825084</td>\n",
       "    </tr>\n",
       "    <tr>\n",
       "      <th>25</th>\n",
       "      <td>PHYSIC 106</td>\n",
       "      <td>NS</td>\n",
       "      <td>3.0</td>\n",
       "      <td>Everyday Physics</td>\n",
       "      <td>3.024213</td>\n",
       "    </tr>\n",
       "    <tr>\n",
       "      <th>26</th>\n",
       "      <td>EART 119</td>\n",
       "      <td>NS</td>\n",
       "      <td>3.0</td>\n",
       "      <td>Introduction to Earth Science</td>\n",
       "      <td>4.188506</td>\n",
       "    </tr>\n",
       "    <tr>\n",
       "      <th>27</th>\n",
       "      <td>POLSC 386</td>\n",
       "      <td>SS</td>\n",
       "      <td>4.0</td>\n",
       "      <td>Sports, Pol, Society</td>\n",
       "      <td>4.377954</td>\n",
       "    </tr>\n",
       "    <tr>\n",
       "      <th>28</th>\n",
       "      <td>SO 304</td>\n",
       "      <td>SS</td>\n",
       "      <td>4.0</td>\n",
       "      <td>Amer Immigration</td>\n",
       "      <td>3.333299</td>\n",
       "    </tr>\n",
       "    <tr>\n",
       "      <th>29</th>\n",
       "      <td>ASIA 203</td>\n",
       "      <td>HU</td>\n",
       "      <td>4.0</td>\n",
       "      <td>Haunted by History: Asian Horror Cinema</td>\n",
       "      <td>3.180490</td>\n",
       "    </tr>\n",
       "    <tr>\n",
       "      <th>30</th>\n",
       "      <td>MIDEAS 216</td>\n",
       "      <td>HU</td>\n",
       "      <td>3.0</td>\n",
       "      <td>Islam in History</td>\n",
       "      <td>3.502531</td>\n",
       "    </tr>\n",
       "  </tbody>\n",
       "</table>\n",
       "</div>"
      ],
      "text/plain": [
       "   Subject/Catalog                     Course List Description  Credits  \\\n",
       "0         MATH 120              CS-LSA major declaration Cal I      4.0   \n",
       "1         MATH 186             CS-LSA major declaration Cal II      4.0   \n",
       "2        STATS 426                            Core Probability      3.0   \n",
       "3         EECS 574  Upper Level CS Technical Electives (ULCS)       4.0   \n",
       "4         EECS 627  Upper Level CS Technical Electives (ULCS)       4.0   \n",
       "5         EECS 442  Upper Level CS Technical Electives (ULCS)       4.0   \n",
       "6         EECS 594  Upper Level CS Technical Electives (ULCS)       4.0   \n",
       "7         EECS 441                   Computer Science Capstone      4.0   \n",
       "8         EECS 203                   CS-LSA major declaration       4.0   \n",
       "9         EECS 280                   CS-LSA major declaration       4.0   \n",
       "10        EECS 281                                     Core CS      4.0   \n",
       "11        EECS 370                                     Core CS      4.0   \n",
       "12        EECS 376                                     Core CS      4.0   \n",
       "13         LIN 104                                        FYWR      4.0   \n",
       "14       AMCUL 313                                        ULWR      3.0   \n",
       "15       EDU 210.0                                          RE      3.0   \n",
       "16        STAT 100                                        QR/1      4.0   \n",
       "17       GERMA 464                                          LR      4.0   \n",
       "18     ASIANLA 485                                          LR      4.0   \n",
       "19      MIDEAS 519                                          LR      4.0   \n",
       "20        LATI 446                                          LR      4.0   \n",
       "21        ISLA 292                                          HU      3.0   \n",
       "22         HAR 139                                          CE      3.0   \n",
       "23         MAT 156                                         MSA      4.0   \n",
       "24      PHYSIC 169                                          NS      3.0   \n",
       "25      PHYSIC 106                                          NS      3.0   \n",
       "26        EART 119                                          NS      3.0   \n",
       "27       POLSC 386                                          SS      4.0   \n",
       "28          SO 304                                          SS      4.0   \n",
       "29        ASIA 203                                          HU      4.0   \n",
       "30      MIDEAS 216                                          HU      3.0   \n",
       "\n",
       "                               Course Title    Rating  \n",
       "0                        Exam Calc Credit I  2.342497  \n",
       "1                            Honors Calc II  2.302494  \n",
       "2                        Intro to Theo Stat  3.030199  \n",
       "3                       Computat Complexity  4.108495  \n",
       "4                            VLSI Design II  3.644721  \n",
       "5                           Computer Vision  3.768067  \n",
       "6                       Intro Adaptive Syst  3.359555  \n",
       "7                      Mbl App Dev Entrprnr  3.564341  \n",
       "8                             Discrete Math  3.614063  \n",
       "9                          Prog&Data Struct  3.039934  \n",
       "10                        Data Struct&Algor  2.702543  \n",
       "11                       Intro Computer Org  3.832988  \n",
       "12                       Foundatns Comp Sci  2.544180  \n",
       "13                        First Yr Sem Comp  3.347588  \n",
       "14                                Fall 2011  3.753349  \n",
       "15                        Spec Topics in Ed  3.630088  \n",
       "16                     Intro Stat/Math Mode  2.156984  \n",
       "17                       German Ethnicities  3.866353  \n",
       "18                       Advanced Bengali I  3.627009  \n",
       "19                             Qur'An Study  2.937065  \n",
       "20                      Horace: Odes&Epodes  3.030641  \n",
       "21                       HU Topics in Islam  4.675750  \n",
       "22                              Performance  2.684997  \n",
       "23                        App Honors Calc 2  2.309000  \n",
       "24                        Physical Universe  4.825084  \n",
       "25                         Everyday Physics  3.024213  \n",
       "26            Introduction to Earth Science  4.188506  \n",
       "27                     Sports, Pol, Society  4.377954  \n",
       "28                         Amer Immigration  3.333299  \n",
       "29  Haunted by History: Asian Horror Cinema  3.180490  \n",
       "30                         Islam in History  3.502531  "
      ]
     },
     "execution_count": 264,
     "metadata": {},
     "output_type": "execute_result"
    }
   ],
   "source": [
    "student_profiles[1]"
   ]
  },
  {
   "cell_type": "code",
   "execution_count": null,
   "metadata": {},
   "outputs": [],
   "source": []
  },
  {
   "cell_type": "code",
   "execution_count": null,
   "metadata": {},
   "outputs": [],
   "source": []
  },
  {
   "cell_type": "code",
   "execution_count": null,
   "metadata": {},
   "outputs": [],
   "source": []
  },
  {
   "cell_type": "code",
   "execution_count": null,
   "metadata": {},
   "outputs": [],
   "source": []
  },
  {
   "cell_type": "code",
   "execution_count": null,
   "metadata": {},
   "outputs": [],
   "source": []
  },
  {
   "cell_type": "code",
   "execution_count": null,
   "metadata": {},
   "outputs": [],
   "source": []
  },
  {
   "cell_type": "code",
   "execution_count": null,
   "metadata": {},
   "outputs": [],
   "source": []
  },
  {
   "cell_type": "code",
   "execution_count": null,
   "metadata": {},
   "outputs": [],
   "source": []
  },
  {
   "cell_type": "code",
   "execution_count": null,
   "metadata": {},
   "outputs": [],
   "source": []
  },
  {
   "cell_type": "code",
   "execution_count": null,
   "metadata": {},
   "outputs": [],
   "source": []
  },
  {
   "cell_type": "code",
   "execution_count": 24,
   "metadata": {},
   "outputs": [],
   "source": [
    "f_21 = pd.read_csv('LSA requirements/f_21_merge.csv')\n",
    "w_22 = pd.read_csv('LSA requirements/w_22_merge.csv')"
   ]
  },
  {
   "cell_type": "code",
   "execution_count": 25,
   "metadata": {},
   "outputs": [],
   "source": [
    "df = pd.concat([f_21, w_22])"
   ]
  },
  {
   "cell_type": "code",
   "execution_count": 26,
   "metadata": {},
   "outputs": [
    {
     "data": {
      "text/html": [
       "<div>\n",
       "<style scoped>\n",
       "    .dataframe tbody tr th:only-of-type {\n",
       "        vertical-align: middle;\n",
       "    }\n",
       "\n",
       "    .dataframe tbody tr th {\n",
       "        vertical-align: top;\n",
       "    }\n",
       "\n",
       "    .dataframe thead th {\n",
       "        text-align: right;\n",
       "    }\n",
       "</style>\n",
       "<table border=\"1\" class=\"dataframe\">\n",
       "  <thead>\n",
       "    <tr style=\"text-align: right;\">\n",
       "      <th></th>\n",
       "      <th>Class Nbr</th>\n",
       "      <th>course</th>\n",
       "      <th>Term</th>\n",
       "      <th>Session</th>\n",
       "      <th>Acad Group</th>\n",
       "      <th>Subject</th>\n",
       "      <th>Course Title</th>\n",
       "      <th>description</th>\n",
       "      <th>Component</th>\n",
       "      <th>Time</th>\n",
       "      <th>...</th>\n",
       "      <th>Seats Remaining</th>\n",
       "      <th>Has WL</th>\n",
       "      <th>Units</th>\n",
       "      <th>sub_title</th>\n",
       "      <th>credits</th>\n",
       "      <th>requirements_distribution</th>\n",
       "      <th>consent</th>\n",
       "      <th>advisory_prerequisites</th>\n",
       "      <th>other_course_info</th>\n",
       "      <th>repeatability</th>\n",
       "    </tr>\n",
       "  </thead>\n",
       "  <tbody>\n",
       "    <tr>\n",
       "      <th>0</th>\n",
       "      <td>30282</td>\n",
       "      <td>AAS 103</td>\n",
       "      <td>Fall 2021</td>\n",
       "      <td>Regular Academic Session</td>\n",
       "      <td>Literature, Sci, and the Arts</td>\n",
       "      <td>Afroamerican &amp; African Studies (AAS) Open Sect...</td>\n",
       "      <td>Social Sci Seminar</td>\n",
       "      <td>This course seeks to introduce students to eve...</td>\n",
       "      <td>SEM</td>\n",
       "      <td>1-230PM</td>\n",
       "      <td>...</td>\n",
       "      <td>1</td>\n",
       "      <td>Y</td>\n",
       "      <td>3.00</td>\n",
       "      <td>- Reading Africa: Critical Perspectives on Po...</td>\n",
       "      <td>3</td>\n",
       "      <td>SS</td>\n",
       "      <td>NaN</td>\n",
       "      <td>Enrollment restricted to first-year students, ...</td>\n",
       "      <td>(Cross-Area Courses). May not be included in a...</td>\n",
       "      <td>May not be repeated for credit.</td>\n",
       "    </tr>\n",
       "    <tr>\n",
       "      <th>1</th>\n",
       "      <td>30282</td>\n",
       "      <td>AAS 103</td>\n",
       "      <td>Fall 2021</td>\n",
       "      <td>Regular Academic Session</td>\n",
       "      <td>Literature, Sci, and the Arts</td>\n",
       "      <td>Afroamerican &amp; African Studies (AAS) Open Sect...</td>\n",
       "      <td>Social Sci Seminar</td>\n",
       "      <td>Blood diamonds. Resource curse. Land grabs. Th...</td>\n",
       "      <td>SEM</td>\n",
       "      <td>1-230PM</td>\n",
       "      <td>...</td>\n",
       "      <td>1</td>\n",
       "      <td>Y</td>\n",
       "      <td>3.00</td>\n",
       "      <td>- Reconsidering African Environments</td>\n",
       "      <td>3</td>\n",
       "      <td>SS</td>\n",
       "      <td>NaN</td>\n",
       "      <td>Enrollment restricted to first-year students, ...</td>\n",
       "      <td>(Cross-Area Courses). May not be included in a...</td>\n",
       "      <td>May not be repeated for credit.</td>\n",
       "    </tr>\n",
       "    <tr>\n",
       "      <th>2</th>\n",
       "      <td>30282</td>\n",
       "      <td>AAS 103</td>\n",
       "      <td>Fall 2021</td>\n",
       "      <td>Regular Academic Session</td>\n",
       "      <td>Literature, Sci, and the Arts</td>\n",
       "      <td>Afroamerican &amp; African Studies (AAS) Open Sect...</td>\n",
       "      <td>Social Sci Seminar</td>\n",
       "      <td>This course will examine the history of racial...</td>\n",
       "      <td>SEM</td>\n",
       "      <td>1-230PM</td>\n",
       "      <td>...</td>\n",
       "      <td>1</td>\n",
       "      <td>Y</td>\n",
       "      <td>3.00</td>\n",
       "      <td>- South Africa: from Apartheid to Democracy</td>\n",
       "      <td>3</td>\n",
       "      <td>SS</td>\n",
       "      <td>NaN</td>\n",
       "      <td>Enrollment restricted to first-year students, ...</td>\n",
       "      <td>(Cross-Area Courses). May not be included in a...</td>\n",
       "      <td>May not be repeated for credit.</td>\n",
       "    </tr>\n",
       "    <tr>\n",
       "      <th>3</th>\n",
       "      <td>30276</td>\n",
       "      <td>AAS 104</td>\n",
       "      <td>Fall 2021</td>\n",
       "      <td>Regular Academic Session</td>\n",
       "      <td>Literature, Sci, and the Arts</td>\n",
       "      <td>Afroamerican &amp; African Studies (AAS) Open Sect...</td>\n",
       "      <td>Humanities Seminar</td>\n",
       "      <td>This seminar introduces first-year students to...</td>\n",
       "      <td>SEM</td>\n",
       "      <td>1130-1PM</td>\n",
       "      <td>...</td>\n",
       "      <td>2</td>\n",
       "      <td>Y</td>\n",
       "      <td>3.00</td>\n",
       "      <td>- Black Lives and Life Writing: How We Tell S...</td>\n",
       "      <td>3</td>\n",
       "      <td>HU</td>\n",
       "      <td>With permission of instructor.</td>\n",
       "      <td>Enrollment restricted to first-year students, ...</td>\n",
       "      <td>(Cross-Area Courses). May not be included in a...</td>\n",
       "      <td>May not be repeated for credit.</td>\n",
       "    </tr>\n",
       "    <tr>\n",
       "      <th>4</th>\n",
       "      <td>30276</td>\n",
       "      <td>AAS 104</td>\n",
       "      <td>Fall 2021</td>\n",
       "      <td>Regular Academic Session</td>\n",
       "      <td>Literature, Sci, and the Arts</td>\n",
       "      <td>Afroamerican &amp; African Studies (AAS) Open Sect...</td>\n",
       "      <td>Humanities Seminar</td>\n",
       "      <td>This seminar introduces first-year students to...</td>\n",
       "      <td>SEM</td>\n",
       "      <td>1130-1PM</td>\n",
       "      <td>...</td>\n",
       "      <td>2</td>\n",
       "      <td>Y</td>\n",
       "      <td>3.00</td>\n",
       "      <td>- Black Atlantic Religion</td>\n",
       "      <td>3</td>\n",
       "      <td>HU</td>\n",
       "      <td>NaN</td>\n",
       "      <td>Enrollment restricted to first-year students, ...</td>\n",
       "      <td>(Cross-Area Courses). May not be included in a...</td>\n",
       "      <td>May not be repeated for credit.</td>\n",
       "    </tr>\n",
       "  </tbody>\n",
       "</table>\n",
       "<p>5 rows × 23 columns</p>\n",
       "</div>"
      ],
      "text/plain": [
       "   Class Nbr   course       Term                   Session  \\\n",
       "0      30282  AAS 103  Fall 2021  Regular Academic Session   \n",
       "1      30282  AAS 103  Fall 2021  Regular Academic Session   \n",
       "2      30282  AAS 103  Fall 2021  Regular Academic Session   \n",
       "3      30276  AAS 104  Fall 2021  Regular Academic Session   \n",
       "4      30276  AAS 104  Fall 2021  Regular Academic Session   \n",
       "\n",
       "                      Acad Group  \\\n",
       "0  Literature, Sci, and the Arts   \n",
       "1  Literature, Sci, and the Arts   \n",
       "2  Literature, Sci, and the Arts   \n",
       "3  Literature, Sci, and the Arts   \n",
       "4  Literature, Sci, and the Arts   \n",
       "\n",
       "                                             Subject        Course Title  \\\n",
       "0  Afroamerican & African Studies (AAS) Open Sect...  Social Sci Seminar   \n",
       "1  Afroamerican & African Studies (AAS) Open Sect...  Social Sci Seminar   \n",
       "2  Afroamerican & African Studies (AAS) Open Sect...  Social Sci Seminar   \n",
       "3  Afroamerican & African Studies (AAS) Open Sect...  Humanities Seminar   \n",
       "4  Afroamerican & African Studies (AAS) Open Sect...  Humanities Seminar   \n",
       "\n",
       "                                         description Component      Time  ...  \\\n",
       "0  This course seeks to introduce students to eve...       SEM   1-230PM  ...   \n",
       "1  Blood diamonds. Resource curse. Land grabs. Th...       SEM   1-230PM  ...   \n",
       "2  This course will examine the history of racial...       SEM   1-230PM  ...   \n",
       "3  This seminar introduces first-year students to...       SEM  1130-1PM  ...   \n",
       "4  This seminar introduces first-year students to...       SEM  1130-1PM  ...   \n",
       "\n",
       "  Seats Remaining Has WL Units  \\\n",
       "0               1      Y  3.00   \n",
       "1               1      Y  3.00   \n",
       "2               1      Y  3.00   \n",
       "3               2      Y  3.00   \n",
       "4               2      Y  3.00   \n",
       "\n",
       "                                           sub_title credits  \\\n",
       "0   - Reading Africa: Critical Perspectives on Po...       3   \n",
       "1               - Reconsidering African Environments       3   \n",
       "2        - South Africa: from Apartheid to Democracy       3   \n",
       "3   - Black Lives and Life Writing: How We Tell S...       3   \n",
       "4                          - Black Atlantic Religion       3   \n",
       "\n",
       "  requirements_distribution                         consent  \\\n",
       "0                        SS                             NaN   \n",
       "1                        SS                             NaN   \n",
       "2                        SS                             NaN   \n",
       "3                        HU  With permission of instructor.   \n",
       "4                        HU                             NaN   \n",
       "\n",
       "                              advisory_prerequisites  \\\n",
       "0  Enrollment restricted to first-year students, ...   \n",
       "1  Enrollment restricted to first-year students, ...   \n",
       "2  Enrollment restricted to first-year students, ...   \n",
       "3  Enrollment restricted to first-year students, ...   \n",
       "4  Enrollment restricted to first-year students, ...   \n",
       "\n",
       "                                   other_course_info  \\\n",
       "0  (Cross-Area Courses). May not be included in a...   \n",
       "1  (Cross-Area Courses). May not be included in a...   \n",
       "2  (Cross-Area Courses). May not be included in a...   \n",
       "3  (Cross-Area Courses). May not be included in a...   \n",
       "4  (Cross-Area Courses). May not be included in a...   \n",
       "\n",
       "                     repeatability  \n",
       "0  May not be repeated for credit.  \n",
       "1  May not be repeated for credit.  \n",
       "2  May not be repeated for credit.  \n",
       "3  May not be repeated for credit.  \n",
       "4  May not be repeated for credit.  \n",
       "\n",
       "[5 rows x 23 columns]"
      ]
     },
     "execution_count": 26,
     "metadata": {},
     "output_type": "execute_result"
    }
   ],
   "source": [
    "df.head()"
   ]
  },
  {
   "cell_type": "code",
   "execution_count": 27,
   "metadata": {},
   "outputs": [
    {
     "data": {
      "text/plain": [
       "Index(['Class Nbr', 'course', 'Term', 'Session', 'Acad Group', 'Subject',\n",
       "       'Course Title', 'description', 'Component', 'Time', 'Location',\n",
       "       'Instructor', 'Total', 'Seats Remaining', 'Has WL', 'Units',\n",
       "       'sub_title', 'credits', 'requirements_distribution', 'consent',\n",
       "       'advisory_prerequisites', 'other_course_info', 'repeatability'],\n",
       "      dtype='object')"
      ]
     },
     "execution_count": 27,
     "metadata": {},
     "output_type": "execute_result"
    }
   ],
   "source": [
    "df.columns"
   ]
  },
  {
   "cell_type": "code",
   "execution_count": 28,
   "metadata": {},
   "outputs": [],
   "source": [
    "df['course_full_text'] = df['Course Title'] + df['sub_title'] + df['description'] + df['Acad Group'] + df['Subject']"
   ]
  },
  {
   "cell_type": "code",
   "execution_count": 29,
   "metadata": {},
   "outputs": [
    {
     "data": {
      "text/plain": [
       "105035"
      ]
     },
     "execution_count": 29,
     "metadata": {},
     "output_type": "execute_result"
    }
   ],
   "source": [
    "len(df)"
   ]
  },
  {
   "cell_type": "code",
   "execution_count": 30,
   "metadata": {},
   "outputs": [],
   "source": [
    "df.dropna(subset=['course_full_text'], inplace=True)"
   ]
  },
  {
   "cell_type": "code",
   "execution_count": 31,
   "metadata": {},
   "outputs": [],
   "source": [
    "df.reset_index(inplace=True)"
   ]
  },
  {
   "cell_type": "code",
   "execution_count": 32,
   "metadata": {},
   "outputs": [],
   "source": [
    "texts = df.course_full_text.tolist()"
   ]
  },
  {
   "cell_type": "code",
   "execution_count": 33,
   "metadata": {},
   "outputs": [
    {
     "data": {
      "text/plain": [
       "7605"
      ]
     },
     "execution_count": 33,
     "metadata": {},
     "output_type": "execute_result"
    }
   ],
   "source": [
    "len(texts)"
   ]
  },
  {
   "cell_type": "code",
   "execution_count": 226,
   "metadata": {},
   "outputs": [
    {
     "name": "stderr",
     "output_type": "stream",
     "text": [
      "2021-11-28 13:09:51,997 - top2vec - INFO - Pre-processing documents for training\n",
      "INFO:top2vec:Pre-processing documents for training\n",
      "2021-11-28 13:09:55,126 - top2vec - INFO - Downloading universal-sentence-encoder model\n",
      "INFO:top2vec:Downloading universal-sentence-encoder model\n",
      "2021-11-28 13:10:19,143 - top2vec - INFO - Creating joint document/word embedding\n",
      "INFO:top2vec:Creating joint document/word embedding\n",
      "2021-11-28 13:10:22,891 - top2vec - INFO - Creating lower dimension embedding of documents\n",
      "INFO:top2vec:Creating lower dimension embedding of documents\n",
      "2021-11-28 13:10:51,549 - top2vec - INFO - Finding dense areas of documents\n",
      "INFO:top2vec:Finding dense areas of documents\n",
      "2021-11-28 13:10:51,726 - top2vec - INFO - Finding topics\n",
      "INFO:top2vec:Finding topics\n"
     ]
    }
   ],
   "source": [
    "model = Top2Vec(texts, embedding_model='universal-sentence-encoder', min_count=5, speed='learn', workers=8)"
   ]
  },
  {
   "cell_type": "code",
   "execution_count": 175,
   "metadata": {},
   "outputs": [],
   "source": [
    "model.save('course_topics_model')"
   ]
  },
  {
   "cell_type": "code",
   "execution_count": 91,
   "metadata": {},
   "outputs": [],
   "source": [
    "model = Top2Vec.load('course_topics_model')"
   ]
  },
  {
   "cell_type": "code",
   "execution_count": 92,
   "metadata": {},
   "outputs": [
    {
     "data": {
      "text/plain": [
       "134"
      ]
     },
     "execution_count": 92,
     "metadata": {},
     "output_type": "execute_result"
    }
   ],
   "source": [
    "model.get_num_topics()"
   ]
  },
  {
   "cell_type": "code",
   "execution_count": 93,
   "metadata": {},
   "outputs": [],
   "source": [
    "topic_sizes, topic_nums = model.get_topic_sizes()"
   ]
  },
  {
   "cell_type": "code",
   "execution_count": 102,
   "metadata": {},
   "outputs": [],
   "source": [
    "df = pd.DataFrame(model.document_vectors)"
   ]
  },
  {
   "cell_type": "code",
   "execution_count": 213,
   "metadata": {},
   "outputs": [],
   "source": [
    "from sklearn.cluster import DBSCAN\n",
    "from matplotlib import pyplot\n",
    "from numpy import unique\n",
    "from collections import Counter\n",
    "import hdbscan"
   ]
  },
  {
   "cell_type": "code",
   "execution_count": 270,
   "metadata": {},
   "outputs": [],
   "source": [
    "hdbscan_args = {'min_cluster_size': 40,\n",
    "                'metric': 'euclidean',\n",
    "                'cluster_selection_method': 'eom',\n",
    "                'min_samples': 5}"
   ]
  },
  {
   "cell_type": "code",
   "execution_count": 271,
   "metadata": {},
   "outputs": [],
   "source": [
    "clustering = hdbscan.HDBSCAN(**hdbscan_args).fit(df)"
   ]
  },
  {
   "cell_type": "code",
   "execution_count": 272,
   "metadata": {},
   "outputs": [
    {
     "data": {
      "text/plain": [
       "array([23, 23, -1, ..., -1, -1, -1])"
      ]
     },
     "execution_count": 272,
     "metadata": {},
     "output_type": "execute_result"
    }
   ],
   "source": [
    "clustering.labels_"
   ]
  },
  {
   "cell_type": "code",
   "execution_count": 273,
   "metadata": {},
   "outputs": [],
   "source": [
    "cluster_list = clustering.labels_.tolist()"
   ]
  },
  {
   "cell_type": "code",
   "execution_count": 274,
   "metadata": {},
   "outputs": [
    {
     "data": {
      "text/plain": [
       "Counter({23: 57,\n",
       "         -1: 3407,\n",
       "         21: 48,\n",
       "         26: 51,\n",
       "         25: 42,\n",
       "         27: 412,\n",
       "         3: 62,\n",
       "         13: 118,\n",
       "         24: 70,\n",
       "         22: 54,\n",
       "         4: 45,\n",
       "         17: 330,\n",
       "         18: 62,\n",
       "         16: 132,\n",
       "         7: 74,\n",
       "         8: 64,\n",
       "         6: 108,\n",
       "         5: 440,\n",
       "         12: 46,\n",
       "         28: 41,\n",
       "         19: 46,\n",
       "         1: 408,\n",
       "         15: 138,\n",
       "         10: 138,\n",
       "         0: 134,\n",
       "         2: 216,\n",
       "         20: 270,\n",
       "         14: 270,\n",
       "         9: 270,\n",
       "         11: 52})"
      ]
     },
     "execution_count": 274,
     "metadata": {},
     "output_type": "execute_result"
    }
   ],
   "source": [
    "Counter(cluster_list)"
   ]
  },
  {
   "cell_type": "code",
   "execution_count": 219,
   "metadata": {},
   "outputs": [],
   "source": [
    "clusters = unique(clustering)"
   ]
  },
  {
   "cell_type": "code",
   "execution_count": 220,
   "metadata": {},
   "outputs": [
    {
     "data": {
      "text/plain": [
       "array([HDBSCAN(min_cluster_size=30, min_samples=1)], dtype=object)"
      ]
     },
     "execution_count": 220,
     "metadata": {},
     "output_type": "execute_result"
    }
   ],
   "source": [
    "clusters"
   ]
  },
  {
   "cell_type": "code",
   "execution_count": null,
   "metadata": {},
   "outputs": [],
   "source": []
  }
 ],
 "metadata": {
  "kernelspec": {
   "display_name": "Python 3",
   "language": "python",
   "name": "python3"
  },
  "language_info": {
   "codemirror_mode": {
    "name": "ipython",
    "version": 3
   },
   "file_extension": ".py",
   "mimetype": "text/x-python",
   "name": "python",
   "nbconvert_exporter": "python",
   "pygments_lexer": "ipython3",
   "version": "3.8.2"
  }
 },
 "nbformat": 4,
 "nbformat_minor": 4
}
