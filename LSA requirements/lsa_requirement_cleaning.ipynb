{
 "cells": [
  {
   "cell_type": "code",
   "execution_count": 297,
   "metadata": {},
   "outputs": [],
   "source": [
    "import glob\n",
    "from collections import defaultdict\n",
    "\n",
    "import pandas as pd\n",
    "import numpy as np\n",
    "from easydict import EasyDict"
   ]
  },
  {
   "cell_type": "code",
   "execution_count": 264,
   "metadata": {},
   "outputs": [],
   "source": [
    "excel_files = glob.glob('*.xlsx')"
   ]
  },
  {
   "cell_type": "code",
   "execution_count": 265,
   "metadata": {},
   "outputs": [],
   "source": [
    "def create_course_col(df):\n",
    "    subject = df['Subject']\n",
    "    df['Subject'] = df['Subject'].astype(str)\n",
    "    df['subject'] = [s[s.find(\"(\") + 1:s.find(\")\")] for s in subject]\n",
    "    df['Catalog Nbr'] = df['Catalog Nbr'].astype(str)\n",
    "    df['course'] = df['subject'] + ' ' + df['Catalog Nbr']\n",
    "    df.sort_values(by=['course'], inplace=True)\n",
    "    return df"
   ]
  },
  {
   "cell_type": "code",
   "execution_count": 266,
   "metadata": {},
   "outputs": [],
   "source": [
    "for file in excel_files:\n",
    "    df = pd.read_excel(file)    \n",
    "    if 'Catalog Nbr' not in df.columns:\n",
    "        df.rename(columns={'Catalog': 'Catalog Nbr',\n",
    "                           'Descr': 'description'}, inplace=True)\n",
    "        create_course_col(df)\n",
    "        df.to_csv(f'{file}.csv', index=False)\n",
    "    else: print(file)"
   ]
  },
  {
   "cell_type": "code",
   "execution_count": 267,
   "metadata": {},
   "outputs": [],
   "source": [
    "csv_files = glob.glob('*.csv')"
   ]
  },
  {
   "cell_type": "code",
   "execution_count": 268,
   "metadata": {},
   "outputs": [
    {
     "data": {
      "text/plain": [
       "['RE CLST 4621.xlsx.csv',\n",
       " 'RE CLST 4620.xlsx.csv',\n",
       " 'QR1 CLST 1817.xlsx.csv',\n",
       " 'Lang Req CLST 0179.xlsx.csv',\n",
       " 'Lang Req CLST 3474.xlsx.csv',\n",
       " 'RE CLST 4609.xlsx.csv',\n",
       " 'QR1 CLST 1331.xlsx.csv',\n",
       " 'ID Courses Offered FA21.xlsx.csv',\n",
       " 'QR1 CLST 9561 Exclusions.xlsx.csv',\n",
       " 'w_22_des.csv',\n",
       " 'f_21_des.csv',\n",
       " 'CE Courses Offered FA21.xlsx.csv',\n",
       " 'Courses with ULWR Course Attributes.xlsx.csv',\n",
       " 'MSA Courses Offered FA21.xlsx.csv',\n",
       " 'NS Courses Offered FA21.xlsx.csv',\n",
       " 'FYWR CLST 20.xlsx.csv',\n",
       " 'SS Courses Offered FA21.xlsx.csv',\n",
       " 'FYWR CLST 3509.xlsx.csv',\n",
       " 'Lang Req CLST 0176.xlsx.csv',\n",
       " 'Lang Req CLST 8140.xlsx.csv',\n",
       " 'QR2 CLST 1329.xlsx.csv',\n",
       " 'HU Courses Offered FA21.xlsx.csv']"
      ]
     },
     "execution_count": 268,
     "metadata": {},
     "output_type": "execute_result"
    }
   ],
   "source": [
    "csv_files"
   ]
  },
  {
   "cell_type": "markdown",
   "metadata": {},
   "source": [
    "### Concat Each Requirement"
   ]
  },
  {
   "cell_type": "code",
   "execution_count": 269,
   "metadata": {},
   "outputs": [],
   "source": [
    "def concat_each_requirement(files):\n",
    "    \n",
    "    file_list = []\n",
    "    \n",
    "    for file in files:\n",
    "        df = pd.read_csv(file)\n",
    "        file_list.append(df)\n",
    "    \n",
    "    df = pd.concat(file_list, axis=0, ignore_index=True)\n",
    "    \n",
    "    return df"
   ]
  },
  {
   "cell_type": "markdown",
   "metadata": {},
   "source": [
    "### Read Scraped Course Description Files"
   ]
  },
  {
   "cell_type": "code",
   "execution_count": 270,
   "metadata": {},
   "outputs": [],
   "source": [
    "def read_scraped_course_des_files(file):\n",
    "    df = pd.read_csv(file)\n",
    "    df = df.fillna('')\n",
    "    df['requirements_distribution'] = df['requirements_distribution'] + ', ' + df['other']\n",
    "    df['requirements_distribution'] = [x.split(', ') for x in df['requirements_distribution']]\n",
    "    return df"
   ]
  },
  {
   "cell_type": "code",
   "execution_count": 271,
   "metadata": {},
   "outputs": [],
   "source": [
    "f_21 = read_scraped_course_des_files('f_21_des.csv')\n",
    "w_22 = read_scraped_course_des_files('w_22_des.csv')"
   ]
  },
  {
   "cell_type": "markdown",
   "metadata": {},
   "source": [
    "### Create dataframes for each requirement"
   ]
  },
  {
   "cell_type": "code",
   "execution_count": 272,
   "metadata": {
    "tags": []
   },
   "outputs": [
    {
     "data": {
      "text/plain": [
       "{'',\n",
       " 'BS',\n",
       " 'CBL',\n",
       " 'CE',\n",
       " 'Experiential',\n",
       " 'FYSem',\n",
       " 'FYWR',\n",
       " 'HU',\n",
       " 'Honors',\n",
       " 'ID',\n",
       " 'Independent',\n",
       " 'Lang Req',\n",
       " 'MSA',\n",
       " 'Minicourse',\n",
       " 'NS',\n",
       " 'QR/1',\n",
       " 'QR/2',\n",
       " 'RE',\n",
       " 'SS',\n",
       " 'Sustain',\n",
       " 'ULWR'}"
      ]
     },
     "execution_count": 272,
     "metadata": {},
     "output_type": "execute_result"
    }
   ],
   "source": [
    "# Look at all the requirements listed\n",
    "{x for l in w_22['requirements_distribution'] for x in l}"
   ]
  },
  {
   "cell_type": "code",
   "execution_count": 273,
   "metadata": {
    "tags": []
   },
   "outputs": [],
   "source": [
    "fywr = concat_each_requirement(['FYWR CLST 20.xlsx.csv', 'FYWR CLST 3509.xlsx.csv'])"
   ]
  },
  {
   "cell_type": "code",
   "execution_count": 274,
   "metadata": {},
   "outputs": [],
   "source": [
    "ulwr = pd.read_csv('Courses with ULWR Course Attributes.xlsx.csv')"
   ]
  },
  {
   "cell_type": "code",
   "execution_count": 275,
   "metadata": {},
   "outputs": [],
   "source": [
    "qr1 = concat_each_requirement(['QR1 CLST 9561 Exclusions.xlsx.csv', 'QR1 CLST 1817.xlsx.csv', 'QR1 CLST 1331.xlsx.csv'])"
   ]
  },
  {
   "cell_type": "code",
   "execution_count": 276,
   "metadata": {},
   "outputs": [],
   "source": [
    "qr2 = pd.read_csv('QR2 CLST 1329.xlsx.csv')\n",
    "re = concat_each_requirement(['RE CLST 4621.xlsx.csv', 'RE CLST 4620.xlsx.csv', 'RE CLST 4609.xlsx.csv'])\n",
    "lr = concat_each_requirement(['Lang Req CLST 0179.xlsx.csv', 'Lang Req CLST 3474.xlsx.csv', 'Lang Req CLST 0176.xlsx.csv', 'Lang Req CLST 8140.xlsx.csv'])\n",
    "ns = pd.read_csv('NS Courses Offered FA21.xlsx.csv')\n",
    "ss = pd.read_csv('SS Courses Offered FA21.xlsx.csv')\n",
    "hu = pd.read_csv('HU Courses Offered FA21.xlsx.csv')\n",
    "msa = pd.read_csv('MSA Courses Offered FA21.xlsx.csv')\n",
    "ce = pd.read_csv('CE Courses Offered FA21.xlsx.csv')\n",
    "interdisciplinary = pd.read_csv('ID Courses Offered FA21.xlsx.csv')"
   ]
  },
  {
   "cell_type": "code",
   "execution_count": 277,
   "metadata": {
    "tags": []
   },
   "outputs": [],
   "source": [
    "def comprehensive_list_merge(requirement, requirement_df):\n",
    "    \n",
    "    w_22_requirement_df = w_22[w_22['requirements_distribution'].map(lambda x: requirement in x)]\n",
    "    f_21_requirement_df = f_21[f_21['requirements_distribution'].map(lambda x: requirement in x)]\n",
    "    \n",
    "    # Merge requirement_df with w_22_requirement_df\n",
    "    merge1 = w_22_requirement_df.merge(requirement_df[['course', 'description']], on=['course', 'description'], how='outer')\n",
    "    \n",
    "    # Concat this df with f_21_requirement_df\n",
    "    merge2 = pd.concat([merge1, f_21_requirement_df], axis=0, ignore_index=True)\n",
    "    \n",
    "    # Drop duplicate courses\n",
    "    merge2.drop_duplicates(subset='course', inplace=True)\n",
    "    \n",
    "    # Keep only necessary columns\n",
    "    merge2 = merge2[['course', 'title', 'description', 'requirements_distribution']]\n",
    "    \n",
    "    # Fill na with the requirement\n",
    "    merge2['requirements_distribution'] = merge2['requirements_distribution'].fillna(requirement)\n",
    "    \n",
    "    return merge2"
   ]
  },
  {
   "cell_type": "code",
   "execution_count": 278,
   "metadata": {},
   "outputs": [],
   "source": [
    "fywr_df = comprehensive_list_merge('FYWR', fywr)\n",
    "ulwr_df = comprehensive_list_merge('ULWR', ulwr)\n",
    "qr1_df = comprehensive_list_merge('QR/1', qr1)\n",
    "qr2_df = comprehensive_list_merge('QR/2', qr2)\n",
    "re_df = comprehensive_list_merge('RE', re)\n",
    "lr_df = comprehensive_list_merge('Lang Req', lr)\n",
    "ns_df = comprehensive_list_merge('NS', ns)\n",
    "ss_df = comprehensive_list_merge('SS', ss)\n",
    "hu_df = comprehensive_list_merge('HU', hu)\n",
    "msa_df = comprehensive_list_merge('MSA', msa)\n",
    "ce_df = comprehensive_list_merge('CE', ce)\n",
    "id_df = comprehensive_list_merge('ID', interdisciplinary)"
   ]
  },
  {
   "cell_type": "code",
   "execution_count": 279,
   "metadata": {},
   "outputs": [],
   "source": [
    "bs_df = pd.concat([w_22[w_22['requirements_distribution'].map(lambda x: 'BS' in x)], f_21[f_21['requirements_distribution'].map(lambda x: 'BS' in x)]], axis=0, ignore_index=True)\n",
    "cbl_df = pd.concat([w_22[w_22['requirements_distribution'].map(lambda x: 'CBL' in x)], f_21[f_21['requirements_distribution'].map(lambda x: 'CBL' in x)]], axis=0, ignore_index=True)\n",
    "ex_df = pd.concat([w_22[w_22['requirements_distribution'].map(lambda x: 'Experiential' in x)], f_21[f_21['requirements_distribution'].map(lambda x: 'Experiential' in x)]], axis=0, ignore_index=True)\n",
    "honors_df = pd.concat([w_22[w_22['requirements_distribution'].map(lambda x: 'Honors' in x)], f_21[f_21['requirements_distribution'].map(lambda x: 'Honors' in x)]], axis=0, ignore_index=True)\n",
    "ind_df = pd.concat([w_22[w_22['requirements_distribution'].map(lambda x: 'Independent' in x)], f_21[f_21['requirements_distribution'].map(lambda x: 'Independent' in x)]], axis=0, ignore_index=True)\n",
    "mini_df = pd.concat([w_22[w_22['requirements_distribution'].map(lambda x: 'Minicourse' in x)], f_21[f_21['requirements_distribution'].map(lambda x: 'Minicourse' in x)]], axis=0, ignore_index=True)\n",
    "sus_df = pd.concat([w_22[w_22['requirements_distribution'].map(lambda x: 'Sustain' in x)], f_21[f_21['requirements_distribution'].map(lambda x: 'Sustain' in x)]], axis=0, ignore_index=True)"
   ]
  },
  {
   "cell_type": "code",
   "execution_count": 282,
   "metadata": {},
   "outputs": [
    {
     "data": {
      "text/html": [
       "<div>\n",
       "<style scoped>\n",
       "    .dataframe tbody tr th:only-of-type {\n",
       "        vertical-align: middle;\n",
       "    }\n",
       "\n",
       "    .dataframe tbody tr th {\n",
       "        vertical-align: top;\n",
       "    }\n",
       "\n",
       "    .dataframe thead th {\n",
       "        text-align: right;\n",
       "    }\n",
       "</style>\n",
       "<table border=\"1\" class=\"dataframe\">\n",
       "  <thead>\n",
       "    <tr style=\"text-align: right;\">\n",
       "      <th></th>\n",
       "      <th>course</th>\n",
       "      <th>title</th>\n",
       "      <th>description</th>\n",
       "      <th>requirements_distribution</th>\n",
       "    </tr>\n",
       "  </thead>\n",
       "  <tbody>\n",
       "    <tr>\n",
       "      <th>0</th>\n",
       "      <td>AAS 208</td>\n",
       "      <td>Introduction to African Art</td>\n",
       "      <td>Through the study of a selected group of Afric...</td>\n",
       "      <td>[HU, RE, ]</td>\n",
       "    </tr>\n",
       "    <tr>\n",
       "      <th>1</th>\n",
       "      <td>AAS 247</td>\n",
       "      <td>Modern Africa</td>\n",
       "      <td>This course offers students the tools they nee...</td>\n",
       "      <td>[SS, RE, ]</td>\n",
       "    </tr>\n",
       "    <tr>\n",
       "      <th>2</th>\n",
       "      <td>AAS 271</td>\n",
       "      <td>Introduction to Afro-American Literature</td>\n",
       "      <td>In this course we will study the emergence and...</td>\n",
       "      <td>[HU, RE, ]</td>\n",
       "    </tr>\n",
       "    <tr>\n",
       "      <th>3</th>\n",
       "      <td>AAS 303</td>\n",
       "      <td>Race and Ethnic Relations</td>\n",
       "      <td>This course examines the central tensions unde...</td>\n",
       "      <td>[SS, RE, ]</td>\n",
       "    </tr>\n",
       "    <tr>\n",
       "      <th>4</th>\n",
       "      <td>AAS 384</td>\n",
       "      <td>Caribbean Literature</td>\n",
       "      <td>This Race &amp; Ethnicity course introduces studen...</td>\n",
       "      <td>[HU, RE, ]</td>\n",
       "    </tr>\n",
       "    <tr>\n",
       "      <th>...</th>\n",
       "      <td>...</td>\n",
       "      <td>...</td>\n",
       "      <td>...</td>\n",
       "      <td>...</td>\n",
       "    </tr>\n",
       "    <tr>\n",
       "      <th>1758</th>\n",
       "      <td>SPANISH 375</td>\n",
       "      <td>Topics in Hispano/Islamic/Sephardic Cultures</td>\n",
       "      <td>This course will involve a comparative study o...</td>\n",
       "      <td>[RE, HU, ]</td>\n",
       "    </tr>\n",
       "    <tr>\n",
       "      <th>1760</th>\n",
       "      <td>WGS 215</td>\n",
       "      <td>Contested Spaces: Art, Architecture, Politics</td>\n",
       "      <td>This course encourages students to think criti...</td>\n",
       "      <td>[HU, RE, ]</td>\n",
       "    </tr>\n",
       "    <tr>\n",
       "      <th>1763</th>\n",
       "      <td>WGS 250</td>\n",
       "      <td>Race, Gender and Nation</td>\n",
       "      <td>This interdisciplinary course introduces stude...</td>\n",
       "      <td>[SS, RE, ]</td>\n",
       "    </tr>\n",
       "    <tr>\n",
       "      <th>1764</th>\n",
       "      <td>WGS 354</td>\n",
       "      <td>Race and Identity in Music</td>\n",
       "      <td>This course explores the parameters of racial ...</td>\n",
       "      <td>[HU, RE, ]</td>\n",
       "    </tr>\n",
       "    <tr>\n",
       "      <th>1765</th>\n",
       "      <td>WGS 371</td>\n",
       "      <td>Sex and Gender in U.S. History, 1600-2015</td>\n",
       "      <td>Beginning in seventeenth-century British Ameri...</td>\n",
       "      <td>[HU, RE, ]</td>\n",
       "    </tr>\n",
       "  </tbody>\n",
       "</table>\n",
       "<p>811 rows × 4 columns</p>\n",
       "</div>"
      ],
      "text/plain": [
       "           course                                          title  \\\n",
       "0         AAS 208                    Introduction to African Art   \n",
       "1         AAS 247                                  Modern Africa   \n",
       "2         AAS 271       Introduction to Afro-American Literature   \n",
       "3         AAS 303                      Race and Ethnic Relations   \n",
       "4         AAS 384                           Caribbean Literature   \n",
       "...           ...                                            ...   \n",
       "1758  SPANISH 375   Topics in Hispano/Islamic/Sephardic Cultures   \n",
       "1760      WGS 215  Contested Spaces: Art, Architecture, Politics   \n",
       "1763      WGS 250                        Race, Gender and Nation   \n",
       "1764      WGS 354                     Race and Identity in Music   \n",
       "1765      WGS 371      Sex and Gender in U.S. History, 1600-2015   \n",
       "\n",
       "                                            description  \\\n",
       "0     Through the study of a selected group of Afric...   \n",
       "1     This course offers students the tools they nee...   \n",
       "2     In this course we will study the emergence and...   \n",
       "3     This course examines the central tensions unde...   \n",
       "4     This Race & Ethnicity course introduces studen...   \n",
       "...                                                 ...   \n",
       "1758  This course will involve a comparative study o...   \n",
       "1760  This course encourages students to think criti...   \n",
       "1763  This interdisciplinary course introduces stude...   \n",
       "1764  This course explores the parameters of racial ...   \n",
       "1765  Beginning in seventeenth-century British Ameri...   \n",
       "\n",
       "     requirements_distribution  \n",
       "0                   [HU, RE, ]  \n",
       "1                   [SS, RE, ]  \n",
       "2                   [HU, RE, ]  \n",
       "3                   [SS, RE, ]  \n",
       "4                   [HU, RE, ]  \n",
       "...                        ...  \n",
       "1758                [RE, HU, ]  \n",
       "1760                [HU, RE, ]  \n",
       "1763                [SS, RE, ]  \n",
       "1764                [HU, RE, ]  \n",
       "1765                [HU, RE, ]  \n",
       "\n",
       "[811 rows x 4 columns]"
      ]
     },
     "execution_count": 282,
     "metadata": {},
     "output_type": "execute_result"
    }
   ],
   "source": [
    "re_df"
   ]
  },
  {
   "cell_type": "markdown",
   "metadata": {},
   "source": [
    "### TO-DO: Create `core_reqs` dictionary that maps numbers of classes to the DataFrames that correspond"
   ]
  },
  {
   "cell_type": "code",
   "execution_count": null,
   "metadata": {},
   "outputs": [],
   "source": [
    "core_reqs = {\n",
    "    1: [fywr_df, ce_df],\n",
    "    2: [...],\n",
    "    3: [...],\n",
    "}"
   ]
  },
  {
   "cell_type": "code",
   "execution_count": null,
   "metadata": {},
   "outputs": [],
   "source": []
  },
  {
   "cell_type": "code",
   "execution_count": 286,
   "metadata": {},
   "outputs": [
    {
     "data": {
      "text/html": [
       "<div>\n",
       "<style scoped>\n",
       "    .dataframe tbody tr th:only-of-type {\n",
       "        vertical-align: middle;\n",
       "    }\n",
       "\n",
       "    .dataframe tbody tr th {\n",
       "        vertical-align: top;\n",
       "    }\n",
       "\n",
       "    .dataframe thead th {\n",
       "        text-align: right;\n",
       "    }\n",
       "</style>\n",
       "<table border=\"1\" class=\"dataframe\">\n",
       "  <thead>\n",
       "    <tr style=\"text-align: right;\">\n",
       "      <th></th>\n",
       "      <th>Course List Description</th>\n",
       "      <th>Course ID/ Wildcard</th>\n",
       "      <th>Subject/Catalog</th>\n",
       "      <th>Course Title</th>\n",
       "      <th>Require</th>\n",
       "      <th>Credits</th>\n",
       "    </tr>\n",
       "    <tr>\n",
       "      <th>Course ID/ Wildcard</th>\n",
       "      <th></th>\n",
       "      <th></th>\n",
       "      <th></th>\n",
       "      <th></th>\n",
       "      <th></th>\n",
       "      <th></th>\n",
       "    </tr>\n",
       "  </thead>\n",
       "  <tbody>\n",
       "    <tr>\n",
       "      <th>1794</th>\n",
       "      <td>CS-LSA major declaration Cal I</td>\n",
       "      <td>1794</td>\n",
       "      <td>MATH 115</td>\n",
       "      <td>Calculus I</td>\n",
       "      <td>One</td>\n",
       "      <td>4.0</td>\n",
       "    </tr>\n",
       "    <tr>\n",
       "      <th>21317</th>\n",
       "      <td>CS-LSA major declaration Cal I</td>\n",
       "      <td>21317</td>\n",
       "      <td>MATH 120</td>\n",
       "      <td>Exam Calc Credit I</td>\n",
       "      <td>One</td>\n",
       "      <td>4.0</td>\n",
       "    </tr>\n",
       "    <tr>\n",
       "      <th>5723</th>\n",
       "      <td>CS-LSA major declaration Cal I</td>\n",
       "      <td>5723</td>\n",
       "      <td>MATH 185</td>\n",
       "      <td>Honors Calc I</td>\n",
       "      <td>One</td>\n",
       "      <td>4.0</td>\n",
       "    </tr>\n",
       "    <tr>\n",
       "      <th>5725</th>\n",
       "      <td>CS-LSA major declaration Cal I</td>\n",
       "      <td>5725</td>\n",
       "      <td>MATH 295</td>\n",
       "      <td>Honors Math I</td>\n",
       "      <td>One</td>\n",
       "      <td>4.0</td>\n",
       "    </tr>\n",
       "    <tr>\n",
       "      <th>21318</th>\n",
       "      <td>CS-LSA major declaration Cal II</td>\n",
       "      <td>21318</td>\n",
       "      <td>MATH 121</td>\n",
       "      <td>Exam Calc Credit II</td>\n",
       "      <td>One</td>\n",
       "      <td>4.0</td>\n",
       "    </tr>\n",
       "  </tbody>\n",
       "</table>\n",
       "</div>"
      ],
      "text/plain": [
       "                             Course List Description Course ID/ Wildcard  \\\n",
       "Course ID/ Wildcard                                                        \n",
       "1794                  CS-LSA major declaration Cal I                1794   \n",
       "21317                 CS-LSA major declaration Cal I               21317   \n",
       "5723                  CS-LSA major declaration Cal I                5723   \n",
       "5725                  CS-LSA major declaration Cal I                5725   \n",
       "21318                CS-LSA major declaration Cal II               21318   \n",
       "\n",
       "                    Subject/Catalog         Course Title Require  Credits  \n",
       "Course ID/ Wildcard                                                        \n",
       "1794                       MATH 115           Calculus I     One      4.0  \n",
       "21317                      MATH 120   Exam Calc Credit I     One      4.0  \n",
       "5723                       MATH 185        Honors Calc I     One      4.0  \n",
       "5725                       MATH 295        Honors Math I     One      4.0  \n",
       "21318                      MATH 121  Exam Calc Credit II     One      4.0  "
      ]
     },
     "execution_count": 286,
     "metadata": {},
     "output_type": "execute_result"
    }
   ],
   "source": [
    "cs_df.head()"
   ]
  },
  {
   "cell_type": "code",
   "execution_count": 283,
   "metadata": {
    "collapsed": true,
    "jupyter": {
     "outputs_hidden": true
    },
    "tags": []
   },
   "outputs": [
    {
     "data": {
      "text/html": [
       "<div>\n",
       "<style scoped>\n",
       "    .dataframe tbody tr th:only-of-type {\n",
       "        vertical-align: middle;\n",
       "    }\n",
       "\n",
       "    .dataframe tbody tr th {\n",
       "        vertical-align: top;\n",
       "    }\n",
       "\n",
       "    .dataframe thead th {\n",
       "        text-align: right;\n",
       "    }\n",
       "</style>\n",
       "<table border=\"1\" class=\"dataframe\">\n",
       "  <thead>\n",
       "    <tr style=\"text-align: right;\">\n",
       "      <th></th>\n",
       "      <th>Course List Description</th>\n",
       "      <th>Course ID/ Wildcard</th>\n",
       "      <th>Subject/Catalog</th>\n",
       "      <th>Course Title</th>\n",
       "      <th>Require</th>\n",
       "      <th>Credits</th>\n",
       "    </tr>\n",
       "  </thead>\n",
       "  <tbody>\n",
       "    <tr>\n",
       "      <th>0</th>\n",
       "      <td>CS-LSA major declaration Cal I</td>\n",
       "      <td>1794</td>\n",
       "      <td>MATH 115</td>\n",
       "      <td>Calculus I</td>\n",
       "      <td>One</td>\n",
       "      <td>4.0</td>\n",
       "    </tr>\n",
       "    <tr>\n",
       "      <th>1</th>\n",
       "      <td>CS-LSA major declaration Cal I</td>\n",
       "      <td>21317</td>\n",
       "      <td>MATH 120</td>\n",
       "      <td>Exam Calc Credit I</td>\n",
       "      <td>One</td>\n",
       "      <td>4.0</td>\n",
       "    </tr>\n",
       "    <tr>\n",
       "      <th>2</th>\n",
       "      <td>CS-LSA major declaration Cal I</td>\n",
       "      <td>5723</td>\n",
       "      <td>MATH 185</td>\n",
       "      <td>Honors Calc I</td>\n",
       "      <td>One</td>\n",
       "      <td>4.0</td>\n",
       "    </tr>\n",
       "    <tr>\n",
       "      <th>3</th>\n",
       "      <td>CS-LSA major declaration Cal I</td>\n",
       "      <td>5725</td>\n",
       "      <td>MATH 295</td>\n",
       "      <td>Honors Math I</td>\n",
       "      <td>One</td>\n",
       "      <td>4.0</td>\n",
       "    </tr>\n",
       "    <tr>\n",
       "      <th>4</th>\n",
       "      <td>CS-LSA major declaration Cal II</td>\n",
       "      <td>21318</td>\n",
       "      <td>MATH 121</td>\n",
       "      <td>Exam Calc Credit II</td>\n",
       "      <td>One</td>\n",
       "      <td>4.0</td>\n",
       "    </tr>\n",
       "    <tr>\n",
       "      <th>...</th>\n",
       "      <td>...</td>\n",
       "      <td>...</td>\n",
       "      <td>...</td>\n",
       "      <td>...</td>\n",
       "      <td>...</td>\n",
       "      <td>...</td>\n",
       "    </tr>\n",
       "    <tr>\n",
       "      <th>87</th>\n",
       "      <td>Computer Science Capstone</td>\n",
       "      <td>45440</td>\n",
       "      <td>EECS 443</td>\n",
       "      <td>Senior Thesis</td>\n",
       "      <td>One</td>\n",
       "      <td>3.0</td>\n",
       "    </tr>\n",
       "    <tr>\n",
       "      <th>88</th>\n",
       "      <td>Computer Science Capstone</td>\n",
       "      <td>44359</td>\n",
       "      <td>EECS 441</td>\n",
       "      <td>Mbl App Dev Entrprnr</td>\n",
       "      <td>One</td>\n",
       "      <td>4.0</td>\n",
       "    </tr>\n",
       "    <tr>\n",
       "      <th>89</th>\n",
       "      <td>Computer Science Capstone</td>\n",
       "      <td>45917</td>\n",
       "      <td>EECS 473</td>\n",
       "      <td>Adv Embedded Sys</td>\n",
       "      <td>One</td>\n",
       "      <td>4.0</td>\n",
       "    </tr>\n",
       "    <tr>\n",
       "      <th>90</th>\n",
       "      <td>Computer Science Capstone</td>\n",
       "      <td>48402</td>\n",
       "      <td>EECS 495</td>\n",
       "      <td>Software for Access</td>\n",
       "      <td>One</td>\n",
       "      <td>4.0</td>\n",
       "    </tr>\n",
       "    <tr>\n",
       "      <th>91</th>\n",
       "      <td>Computer Science Capstone</td>\n",
       "      <td>12129</td>\n",
       "      <td>EECS 398</td>\n",
       "      <td>Special Topics</td>\n",
       "      <td>One</td>\n",
       "      <td>4.0</td>\n",
       "    </tr>\n",
       "  </tbody>\n",
       "</table>\n",
       "<p>92 rows × 6 columns</p>\n",
       "</div>"
      ],
      "text/plain": [
       "            Course List Description Course ID/ Wildcard Subject/Catalog  \\\n",
       "0    CS-LSA major declaration Cal I                1794        MATH 115   \n",
       "1    CS-LSA major declaration Cal I               21317        MATH 120   \n",
       "2    CS-LSA major declaration Cal I                5723        MATH 185   \n",
       "3    CS-LSA major declaration Cal I                5725        MATH 295   \n",
       "4   CS-LSA major declaration Cal II               21318        MATH 121   \n",
       "..                              ...                 ...             ...   \n",
       "87        Computer Science Capstone               45440        EECS 443   \n",
       "88        Computer Science Capstone               44359        EECS 441   \n",
       "89        Computer Science Capstone               45917        EECS 473   \n",
       "90        Computer Science Capstone               48402        EECS 495   \n",
       "91        Computer Science Capstone               12129        EECS 398   \n",
       "\n",
       "            Course Title Require  Credits  \n",
       "0             Calculus I     One      4.0  \n",
       "1     Exam Calc Credit I     One      4.0  \n",
       "2          Honors Calc I     One      4.0  \n",
       "3          Honors Math I     One      4.0  \n",
       "4    Exam Calc Credit II     One      4.0  \n",
       "..                   ...     ...      ...  \n",
       "87         Senior Thesis     One      3.0  \n",
       "88  Mbl App Dev Entrprnr     One      4.0  \n",
       "89      Adv Embedded Sys     One      4.0  \n",
       "90   Software for Access     One      4.0  \n",
       "91        Special Topics     One      4.0  \n",
       "\n",
       "[92 rows x 6 columns]"
      ]
     },
     "execution_count": 283,
     "metadata": {},
     "output_type": "execute_result"
    }
   ],
   "source": [
    "cs_df = pd.read_clipboard()"
   ]
  },
  {
   "cell_type": "code",
   "execution_count": 285,
   "metadata": {},
   "outputs": [],
   "source": [
    "cs_df = cs_df.set_index('Course ID/ Wildcard', drop=False)"
   ]
  },
  {
   "cell_type": "code",
   "execution_count": 292,
   "metadata": {},
   "outputs": [],
   "source": [
    "req_dd = defaultdict(lambda: {'ids': []})"
   ]
  },
  {
   "cell_type": "code",
   "execution_count": 293,
   "metadata": {},
   "outputs": [],
   "source": [
    "for course_id, row in cs_df.iterrows():\n",
    "    desc = row['Course List Description']\n",
    "    req = row['Require']\n",
    "    req_dd[desc]['req'] = req\n",
    "    req_dd[desc]['ids'].append(course_id)"
   ]
  },
  {
   "cell_type": "code",
   "execution_count": 301,
   "metadata": {
    "tags": []
   },
   "outputs": [],
   "source": [
    "req_d = EasyDict(req_dd)"
   ]
  },
  {
   "cell_type": "code",
   "execution_count": 303,
   "metadata": {},
   "outputs": [
    {
     "data": {
      "text/plain": [
       "{'CS-LSA major declaration Cal I': {'ids': ['1794', '21317', '5723', '5725'],\n",
       "  'req': 'One'},\n",
       " 'CS-LSA major declaration Cal II': {'ids': ['21318', '20037', '5724', '1795'],\n",
       "  'req': 'Must'},\n",
       " 'CS-LSA major declaration ': {'ids': ['12118', '12112'], 'req': 'Must'},\n",
       " 'Core Probability': {'ids': ['6305',\n",
       "   '21016',\n",
       "   '1957',\n",
       "   '9079',\n",
       "   '3760',\n",
       "   '45401',\n",
       "   '4093',\n",
       "   '44142',\n",
       "   '5045'],\n",
       "  'req': 'One'},\n",
       " 'Core CS': {'ids': ['4297', '12126', '4323'], 'req': 'All'},\n",
       " 'Upper Level CS Technical Electives (ULCS) ': {'ids': ['48880',\n",
       "   '12127',\n",
       "   '39380',\n",
       "   '40784',\n",
       "   '14742',\n",
       "   '14743',\n",
       "   '4322',\n",
       "   '40794',\n",
       "   '16836',\n",
       "   '4324',\n",
       "   '40795',\n",
       "   '10311',\n",
       "   '12156',\n",
       "   '12836',\n",
       "   '4327',\n",
       "   '22432',\n",
       "   '12157',\n",
       "   '15869',\n",
       "   '41262',\n",
       "   '12158',\n",
       "   '13862',\n",
       "   '20371',\n",
       "   '12159',\n",
       "   '12172',\n",
       "   '14747',\n",
       "   '14748',\n",
       "   '21033',\n",
       "   ' ',\n",
       "   '12187',\n",
       "   ' ',\n",
       "   ' ',\n",
       "   ' ',\n",
       "   '12189',\n",
       "   '17276',\n",
       "   '20372',\n",
       "   '4341',\n",
       "   '39779',\n",
       "   '20373',\n",
       "   '12841',\n",
       "   '41098',\n",
       "   '12842',\n",
       "   '10694',\n",
       "   '39473',\n",
       "   '11037',\n",
       "   '12844',\n",
       "   '16141',\n",
       "   '40791',\n",
       "   '12194',\n",
       "   '12197',\n",
       "   '41149',\n",
       "   '20374',\n",
       "   '12195',\n",
       "   '12198',\n",
       "   ' ',\n",
       "   ' ',\n",
       "   '12204',\n",
       "   '20375',\n",
       "   '40790',\n",
       "   '49578',\n",
       "   '45473',\n",
       "   '45388',\n",
       "   '45472',\n",
       "   '47056',\n",
       "   '7780',\n",
       "   '48879'],\n",
       "  'req': '16'},\n",
       " 'Computer Science Capstone': {'ids': ['45440',\n",
       "   '44359',\n",
       "   '45917',\n",
       "   '48402',\n",
       "   '12129'],\n",
       "  'req': 'One'}}"
      ]
     },
     "execution_count": 303,
     "metadata": {},
     "output_type": "execute_result"
    }
   ],
   "source": [
    "req_d"
   ]
  },
  {
   "cell_type": "code",
   "execution_count": 304,
   "metadata": {},
   "outputs": [
    {
     "ename": "IndentationError",
     "evalue": "expected an indented block (689438572.py, line 8)",
     "output_type": "error",
     "traceback": [
      "\u001b[0;36m  File \u001b[0;32m\"/var/folders/l9/ffk6mq3d561_rfbzgyrnxxhm0000gn/T/ipykernel_69669/689438572.py\"\u001b[0;36m, line \u001b[0;32m8\u001b[0m\n\u001b[0;31m    \u001b[0m\n\u001b[0m    ^\u001b[0m\n\u001b[0;31mIndentationError\u001b[0m\u001b[0;31m:\u001b[0m expected an indented block\n"
     ]
    }
   ],
   "source": [
    "rng = np.random.default_rng(seed=1)\n",
    "\n",
    "def gen_student(n_credits=60):\n",
    "    total_credits = 0\n",
    "    courses_taken = []\n",
    "    \n",
    "    deg_keys = list(req_d.keys())\n",
    "    deg_keys_taken = rng.choice(deg_keys)\n",
    "    \n",
    "    while total_credits < n_credits:\n",
    "        deg_key = rng.choice(deg_keys, size=1, replacement=False)\n",
    "        "
   ]
  },
  {
   "cell_type": "code",
   "execution_count": 305,
   "metadata": {},
   "outputs": [],
   "source": [
    "rng = np.random.default_rng(seed=1)\n",
    "rng.choice()"
   ]
  },
  {
   "cell_type": "code",
   "execution_count": null,
   "metadata": {},
   "outputs": [],
   "source": []
  },
  {
   "cell_type": "code",
   "execution_count": null,
   "metadata": {},
   "outputs": [],
   "source": []
  }
 ],
 "metadata": {
  "kernelspec": {
   "display_name": "Python 3 (ipykernel)",
   "language": "python",
   "name": "python3"
  },
  "language_info": {
   "codemirror_mode": {
    "name": "ipython",
    "version": 3
   },
   "file_extension": ".py",
   "mimetype": "text/x-python",
   "name": "python",
   "nbconvert_exporter": "python",
   "pygments_lexer": "ipython3",
   "version": "3.9.7"
  }
 },
 "nbformat": 4,
 "nbformat_minor": 4
}
