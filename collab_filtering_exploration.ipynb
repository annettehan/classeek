{
 "cells": [
  {
   "cell_type": "markdown",
   "metadata": {},
   "source": [
    "# This notebook (Update 12.14)\n",
    "* Try three different collaborative filterings: Memory, SVD, NMF\n",
    "* Explore SVD performance with different n_components"
   ]
  },
  {
   "cell_type": "code",
   "execution_count": 1,
   "metadata": {},
   "outputs": [],
   "source": [
    "import pandas as pd\n",
    "import numpy as np\n",
    "from scipy.sparse import csr_matrix\n",
    "from scipy.sparse import coo_matrix, vstack\n",
    "import pickle"
   ]
  },
  {
   "cell_type": "markdown",
   "metadata": {},
   "source": [
    "## Load the data and convert into sparse matrix"
   ]
  },
  {
   "cell_type": "code",
   "execution_count": 334,
   "metadata": {},
   "outputs": [],
   "source": [
    "def read_data(file_path):\n",
    "    from scipy.sparse import csr_matrix\n",
    "    \n",
    "    # Read pickle\n",
    "    stu = pd.read_pickle(file_path)\n",
    "    \n",
    "    # Num of dictionaries in the file\n",
    "    n = len(stu)\n",
    "    \n",
    "    # Initialize df\n",
    "    df = pd.DataFrame()\n",
    "    \n",
    "    # Loop through dicts and concat\n",
    "    for i in range(n):\n",
    "        stu[i]['student_id'] = i\n",
    "        df = pd.concat([df,stu[i]])\n",
    "    \n",
    "    # df = user dataset we have\n",
    "    # user_input: courses that user provide\n",
    "\n",
    "    # Fix .0 issues -- Some courses has .0 at the end (e.g. AAS 101.0), remove .0\n",
    "    df.loc[df['Subject/Catalog'].str.contains('\\.') == True, 'Subject/Catalog'] = df.loc[df['Subject/Catalog'].str.contains('\\.') == True, 'Subject/Catalog'].str.split('\\.').str[0]\n",
    "    \n",
    "    # Pivot table to stu - course\n",
    "    df = pd.pivot_table(df, values = 'Rating', index = 'student_id', columns = 'Subject/Catalog')\n",
    "    \n",
    "    # Fillna\n",
    "    df = df.fillna(0)\n",
    "    \n",
    "    # df to sparse matrix\n",
    "    csr = csr_matrix(df)\n",
    "    \n",
    "    # Store course names\n",
    "    courses = list(df.columns)\n",
    "    \n",
    "\n",
    "    return csr, courses "
   ]
  },
  {
   "cell_type": "code",
   "execution_count": null,
   "metadata": {},
   "outputs": [],
   "source": [
    "#csr, courses = read_data('user_profiles.pickle')"
   ]
  },
  {
   "cell_type": "markdown",
   "metadata": {},
   "source": [
    "### Store user profile csr and the list of courses"
   ]
  },
  {
   "cell_type": "code",
   "execution_count": 371,
   "metadata": {},
   "outputs": [],
   "source": [
    "with open('csr.pkl', \"wb\") as fOut:\n",
    "    pickle.dump(csr, fOut, protocol=pickle.HIGHEST_PROTOCOL)\n",
    "    \n",
    "with open('courses.pkl', \"wb\") as fOut:\n",
    "    pickle.dump(courses, fOut, protocol=pickle.HIGHEST_PROTOCOL)"
   ]
  },
  {
   "cell_type": "markdown",
   "metadata": {},
   "source": [
    "### Load csr and courses"
   ]
  },
  {
   "cell_type": "code",
   "execution_count": 2,
   "metadata": {},
   "outputs": [],
   "source": [
    "with open('csr.pkl', \"rb\") as fIn:\n",
    "    csr = pickle.load(fIn)\n",
    "with open('courses.pkl', \"rb\") as fIn:\n",
    "     courses = pickle.load(fIn)"
   ]
  },
  {
   "cell_type": "code",
   "execution_count": 7,
   "metadata": {},
   "outputs": [],
   "source": [
    "# random user input\n",
    "user_input = np.random.choice(courses, size = 10, replace = False)"
   ]
  },
  {
   "cell_type": "markdown",
   "metadata": {},
   "source": [
    "## Matrix-based collaborative filtering"
   ]
  },
  {
   "cell_type": "code",
   "execution_count": 28,
   "metadata": {},
   "outputs": [],
   "source": [
    "from sklearn.decomposition import TruncatedSVD\n",
    "\n",
    "def svd_based(csr, courses, user_input, num_factors = 100, top_n = 10, random_state=42):\n",
    "    # SVD based collaborative filtering\n",
    "    user_row = np.isin(courses, user_input)\n",
    "    uc_mat = vstack([csr, user_row]).tocsr()\n",
    "    \n",
    "    user_idx = -1\n",
    "\n",
    "    \n",
    "    # SVD\n",
    "    svd = TruncatedSVD(n_components = num_factors, random_state = random_state)\n",
    "    \n",
    "    # Transform X\n",
    "    X_transformed = svd.fit_transform(uc_mat)\n",
    "    \n",
    "    # Calculate r\n",
    "    r = np.matmul(X_transformed, svd.components_)\n",
    "    \n",
    "    # Pred rating\n",
    "    pred_rating = r[user_idx,:]#.reshape(1,-1)\n",
    "    \n",
    "    \n",
    "    # Matched user vector\n",
    "    user_vec = uc_mat[user_idx].toarray().flatten()\n",
    "    \n",
    "    \n",
    "    # User's favorite course indices\n",
    "    user_fav_idx = np.argsort(-user_vec)\n",
    "    \n",
    "    # User's favorite courses\n",
    "    #user_fav = [courses[i] for i in user_fav_idx[:top_n]]\n",
    "    #print(f\"Top {top_n} favorite courses:\")\n",
    "    #print(user_fav)\n",
    "\n",
    "    \n",
    "    # Flatten pred_rating\n",
    "    pred_rating = np.asarray(pred_rating).flatten()\n",
    "    \n",
    "    # Argsort the rating except the courses taken by the user\n",
    "    recommend_index = np.argsort(-pred_rating[user_vec == 0])\n",
    "    \n",
    "    # Recommend top courses\n",
    "    top_courses = [courses[i] for i in recommend_index[:top_n]]\n",
    "\n",
    "    # RMSE between true & predicted. Uncomment the next two lines to see RMSE\n",
    "    rmse = np.sqrt(np.sum((user_vec[user_vec != 0] - pred_rating[user_vec != 0]) ** 2))\n",
    "    #print(f\"RMSE = {rmse}\")\n",
    "    \n",
    "    return top_courses, rmse"
   ]
  },
  {
   "cell_type": "markdown",
   "metadata": {},
   "source": [
    "\n",
    "\n",
    "-----------------\n",
    " \n",
    "\n",
    "### RMSE & Runtime"
   ]
  },
  {
   "cell_type": "code",
   "execution_count": 19,
   "metadata": {
    "scrolled": true
   },
   "outputs": [
    {
     "name": "stdout",
     "output_type": "stream",
     "text": [
      "3.0573910606197363\n"
     ]
    }
   ],
   "source": [
    "r_list = []\n",
    "for _ in range(100):\n",
    "    user_input = np.random.choice(courses, size = 10, replace = False)\n",
    "    pred, rmse = svd_based(csr, courses, user_input, num_factors = 200)\n",
    "    r_list.append(rmse)\n",
    "print(np.average(r_list))"
   ]
  },
  {
   "cell_type": "code",
   "execution_count": 18,
   "metadata": {},
   "outputs": [
    {
     "name": "stdout",
     "output_type": "stream",
     "text": [
      "982 ms ± 33 ms per loop (mean ± std. dev. of 7 runs, 1 loop each)\n"
     ]
    }
   ],
   "source": [
    "%%timeit\n",
    "user_input = np.random.choice(courses, size = 10, replace = False)\n",
    "pred, rmse = svd_based(csr, courses, user_input, num_factors = 200)"
   ]
  },
  {
   "cell_type": "code",
   "execution_count": 63,
   "metadata": {},
   "outputs": [],
   "source": [
    "subcat = df['Subject/Catalog'].unique()"
   ]
  },
  {
   "cell_type": "code",
   "execution_count": 218,
   "metadata": {},
   "outputs": [],
   "source": [
    "import numpy as np\n",
    "def svd_tune(df, num_factors, top_n = 10, random_state=42):\n",
    "    # SVD based collaborative filtering\n",
    "    \n",
    "    # user_idx = -1\n",
    "    user_idx = -1\n",
    "    rmse_list = []\n",
    "    for i in range(100):\n",
    "        user_input = np.random.choice(courses, size = 10, replace = False)\n",
    "        uc_mat, courses = concat_user_input_and_convert_to_csr(df, user_input)\n",
    "\n",
    "        # SVD\n",
    "        svd = TruncatedSVD(n_components = num_factors, random_state = random_state)\n",
    "\n",
    "        # Transform X\n",
    "        X_transformed = svd.fit_transform(uc_mat)\n",
    "\n",
    "        # Calculate r\n",
    "        r = np.matmul(X_transformed, svd.components_)\n",
    "\n",
    "        # Pred rating\n",
    "        pred_rating = r[user_idx,:]#.reshape(1,-1)\n",
    "\n",
    "\n",
    "        # Matched user vector\n",
    "        user_vec = uc_mat[user_idx].toarray().flatten()\n",
    "\n",
    "\n",
    "        # User's favorite course indices\n",
    "        user_fav_idx = np.argsort(-user_vec)\n",
    "\n",
    "        # User's favorite courses\n",
    "        #user_fav = [courses[i] for i in user_fav_idx[:top_n]]\n",
    "        #print(f\"Top {top_n} favorite courses:\")\n",
    "        #print(user_fav)\n",
    "\n",
    "\n",
    "        # Flatten pred_rating\n",
    "        pred_rating = np.asarray(pred_rating).flatten()\n",
    "\n",
    "        # Argsort the rating except the courses taken by the user\n",
    "        recommend_index = np.argsort(-pred_rating[user_vec == 0])\n",
    "\n",
    "        # Recommend top courses\n",
    "        top_courses = [courses[i] for i in recommend_index[:top_n]]\n",
    "\n",
    "\n",
    "        # RMSE between true & predicted. Uncomment the next two lines to see RMSE\n",
    "        rmse_list.append(np.sqrt(np.sum((user_vec[user_vec != 0] - pred_rating[user_vec != 0]) ** 2)))\n",
    "    avg_rmse = np.average(rmse_list)\n",
    "    #print(f\"RMSE = {avg_rmse}\")\n",
    "    \n",
    "    return avg_rmse"
   ]
  },
  {
   "cell_type": "markdown",
   "metadata": {},
   "source": [
    "-------------\n",
    "\n",
    "### SVD runtime by n_components "
   ]
  },
  {
   "cell_type": "code",
   "execution_count": 380,
   "metadata": {},
   "outputs": [],
   "source": [
    "def svd_time(csr, num_factors, top_n = 10, random_state=42):\n",
    "    # SVD based collaborative filtering\n",
    "    \n",
    "    # user_idx = -1\n",
    "    user_idx = -1\n",
    "    rmse_list = []\n",
    "    for i in range(10):\n",
    "        user_input = np.random.choice(courses, size = 10, replace = False)\n",
    "\n",
    "        user_row = np.isin(courses, user_input)\n",
    "        uc_mat = vstack([csr, user_row]).tocsr()\n",
    "\n",
    "        user_idx = -1\n",
    "\n",
    "        # SVD\n",
    "        svd = TruncatedSVD(n_components = num_factors, random_state = random_state)\n",
    "\n",
    "        # Transform X\n",
    "        X_transformed = svd.fit_transform(uc_mat)\n",
    "\n",
    "        # Calculate r\n",
    "        r = np.matmul(X_transformed, svd.components_)\n",
    "\n",
    "        # Pred rating\n",
    "        pred_rating = r[user_idx,:]#.reshape(1,-1)\n",
    "\n",
    "\n",
    "        # Matched user vector\n",
    "        user_vec = uc_mat[user_idx].toarray().flatten()\n",
    "\n",
    "\n",
    "        # User's favorite course indices\n",
    "        user_fav_idx = np.argsort(-user_vec)\n",
    "\n",
    "        # User's favorite courses\n",
    "        #user_fav = [courses[i] for i in user_fav_idx[:top_n]]\n",
    "        #print(f\"Top {top_n} favorite courses:\")\n",
    "        #print(user_fav)\n",
    "\n",
    "\n",
    "        # Flatten pred_rating\n",
    "        pred_rating = np.asarray(pred_rating).flatten()\n",
    "\n",
    "        # Argsort the rating except the courses taken by the user\n",
    "        recommend_index = np.argsort(-pred_rating[user_vec == 0])\n",
    "\n",
    "        # Recommend top courses\n",
    "        top_courses = [courses[i] for i in recommend_index[:top_n]]\n",
    "\n",
    "    \n",
    "    return None"
   ]
  },
  {
   "cell_type": "code",
   "execution_count": 382,
   "metadata": {},
   "outputs": [
    {
     "name": "stdout",
     "output_type": "stream",
     "text": [
      "0.6684559000001172\n",
      "0.8825028999999631\n",
      "1.0712218000000575\n",
      "1.2470687000000908\n",
      "1.401203600000008\n",
      "1.6075128999997106\n",
      "1.8312066999998933\n",
      "2.0562102999996568\n",
      "2.266528200000175\n"
     ]
    }
   ],
   "source": [
    "import time\n",
    "x = np.arange(20, 220, 20)\n",
    "runtime_list = []\n",
    "for num in x:\n",
    "    start = time.process_time()\n",
    "    pred = svd_time(csr, num)   \n",
    "    runtime = (time.process_time() - start)\n",
    "    runtime_list.append(runtime/10)\n",
    "    print(runtime/10)"
   ]
  },
  {
   "cell_type": "code",
   "execution_count": 35,
   "metadata": {},
   "outputs": [
    {
     "name": "stdout",
     "output_type": "stream",
     "text": [
      "258 ms ± 37.3 ms per loop (mean ± std. dev. of 7 runs, 1 loop each)\n"
     ]
    }
   ],
   "source": [
    "%%timeit\n",
    "svd_based(csr, courses, user_input, num_factors = 20)"
   ]
  },
  {
   "cell_type": "code",
   "execution_count": 36,
   "metadata": {},
   "outputs": [
    {
     "name": "stdout",
     "output_type": "stream",
     "text": [
      "504 ms ± 97.2 ms per loop (mean ± std. dev. of 7 runs, 1 loop each)\n"
     ]
    }
   ],
   "source": [
    "%%timeit\n",
    "svd_based(csr, courses, user_input, num_factors = 60)"
   ]
  },
  {
   "cell_type": "code",
   "execution_count": 37,
   "metadata": {},
   "outputs": [
    {
     "name": "stdout",
     "output_type": "stream",
     "text": [
      "574 ms ± 65.2 ms per loop (mean ± std. dev. of 7 runs, 1 loop each)\n"
     ]
    }
   ],
   "source": [
    "%%timeit\n",
    "svd_based(csr, courses, user_input, num_factors = 100)"
   ]
  },
  {
   "cell_type": "code",
   "execution_count": 38,
   "metadata": {},
   "outputs": [
    {
     "name": "stdout",
     "output_type": "stream",
     "text": [
      "797 ms ± 86 ms per loop (mean ± std. dev. of 7 runs, 1 loop each)\n"
     ]
    }
   ],
   "source": [
    "%%timeit\n",
    "svd_based(csr, courses, user_input, num_factors = 140)"
   ]
  },
  {
   "cell_type": "code",
   "execution_count": 39,
   "metadata": {},
   "outputs": [
    {
     "name": "stdout",
     "output_type": "stream",
     "text": [
      "1.11 s ± 108 ms per loop (mean ± std. dev. of 7 runs, 1 loop each)\n"
     ]
    }
   ],
   "source": [
    "%%timeit\n",
    "svd_based(csr, courses, user_input, num_factors = 180)"
   ]
  },
  {
   "cell_type": "code",
   "execution_count": 40,
   "metadata": {},
   "outputs": [
    {
     "name": "stdout",
     "output_type": "stream",
     "text": [
      "1.25 s ± 100 ms per loop (mean ± std. dev. of 7 runs, 1 loop each)\n"
     ]
    }
   ],
   "source": [
    "%%timeit\n",
    "svd_based(csr, courses, user_input, num_factors = 220)"
   ]
  },
  {
   "cell_type": "markdown",
   "metadata": {},
   "source": [
    "### Plot - time by n_components"
   ]
  },
  {
   "cell_type": "code",
   "execution_count": 41,
   "metadata": {},
   "outputs": [
    {
     "data": {
      "image/png": "[encoded data removed]",
      "text/plain": [
       "<Figure size 432x288 with 1 Axes>"
      ]
     },
     "metadata": {
      "needs_background": "light"
     },
     "output_type": "display_data"
    }
   ],
   "source": [
    "import matplotlib.pyplot as plt\n",
    "import seaborn as sns\n",
    "\n",
    "runtime_list -= 0.45 #adjusting the difference between runtime and %%timeit\n",
    "\n",
    "x = np.arange(20, 260, 40)\n",
    "runtime_list = [0.258, 0.504, 0.574, 0.797, 1.11, 1.25]\n",
    "\n",
    "fig, ax1 = plt.subplots()\n",
    "\n",
    "ax1.plot(x, runtime_list, color = 'green')\n",
    "ax1.set_ylabel('Runtime')\n",
    "ax1.set_xlabel('n_components')\n",
    "\n",
    "plt.show()"
   ]
  },
  {
   "cell_type": "markdown",
   "metadata": {},
   "source": [
    "## Explained Variance"
   ]
  },
  {
   "cell_type": "code",
   "execution_count": 108,
   "metadata": {},
   "outputs": [],
   "source": [
    "import numpy as np\n",
    "def svd_var(df, num_factors, top_n = 10, random_state=42):\n",
    "    # SVD based collaborative filtering\n",
    "    \n",
    "    # user_idx = -1\n",
    "    user_idx = -1\n",
    "    explained_variance_list = []\n",
    "    rmse_list = []\n",
    "    for i in range(100):\n",
    "        user_input = np.random.choice(courses, size = 10, replace = False)\n",
    "        uc_mat, courses = concat_user_input_and_convert_to_csr(df, user_input)\n",
    "\n",
    "        # SVD\n",
    "        svd = TruncatedSVD(n_components = num_factors, random_state = random_state)\n",
    "\n",
    "        # Transform X\n",
    "        X_transformed = svd.fit_transform(uc_mat)\n",
    "\n",
    "        # Calculate r\n",
    "        r = np.matmul(X_transformed, svd.components_)\n",
    "\n",
    "        # Pred rating\n",
    "        pred_rating = r[user_idx,:]#.reshape(1,-1)\n",
    "\n",
    "\n",
    "        # Matched user vector\n",
    "        user_vec = uc_mat[user_idx].toarray().flatten()\n",
    "\n",
    "\n",
    "        # User's favorite course indices\n",
    "        user_fav_idx = np.argsort(-user_vec)\n",
    "\n",
    "        # User's favorite courses\n",
    "        #user_fav = [courses[i] for i in user_fav_idx[:top_n]]\n",
    "        #print(f\"Top {top_n} favorite courses:\")\n",
    "        #print(user_fav)\n",
    "\n",
    "\n",
    "        # Flatten pred_rating\n",
    "        pred_rating = np.asarray(pred_rating).flatten()\n",
    "\n",
    "        # Argsort the rating except the courses taken by the user\n",
    "        recommend_index = np.argsort(-pred_rating[user_vec == 0])\n",
    "\n",
    "        # Recommend top courses\n",
    "        top_courses = [courses[i] for i in recommend_index[:top_n]]\n",
    "\n",
    "\n",
    "        # RMSE between true & predicted. \n",
    "        rmse_list.append(np.sqrt(np.sum((user_vec[user_vec != 0] - pred_rating[user_vec != 0]) ** 2)))\n",
    "        \n",
    "        # Explained variance \n",
    "        explained_variance_list.append(svd.explained_variance_ratio_.sum())\n",
    "    \n",
    "    avg_ev = np.average(explained_variance_list)\n",
    "    avg_rmse = np.average(rmse_list)\n",
    "\n",
    "    \n",
    "    return avg_ev, avg_rmse"
   ]
  },
  {
   "cell_type": "code",
   "execution_count": 109,
   "metadata": {},
   "outputs": [
    {
     "name": "stdout",
     "output_type": "stream",
     "text": [
      "n_components:  50  Explained variance sum:  0.2069566432419802  RMSE:  3.136881940437139\n",
      "n_components:  100  Explained variance sum:  0.3080865954789482  RMSE:  3.1243334888200214\n",
      "n_components:  150  Explained variance sum:  0.37026838778355925  RMSE:  3.048886230162509\n",
      "n_components:  200  Explained variance sum:  0.41887893620543243  RMSE:  3.0507622788673108\n",
      "n_components:  250  Explained variance sum:  0.4610223165101213  RMSE:  3.0041577221473976\n",
      "n_components:  300  Explained variance sum:  0.4989714855659057  RMSE:  2.9756654305757753\n",
      "n_components:  350  Explained variance sum:  0.5332084669994797  RMSE:  2.932978723556314\n",
      "n_components:  400  Explained variance sum:  0.5642925077415119  RMSE:  2.8732756662024808\n",
      "n_components:  450  Explained variance sum:  0.592669329422925  RMSE:  2.8446796399219165\n"
     ]
    }
   ],
   "source": [
    "n = np.arange(50, 500, 50)\n",
    "avg_ev_list = []\n",
    "avg_rmse_list = []\n",
    "for num in n:\n",
    "    avg_ev, avg_rmse = svd_var(df, num, top_n = 10, random_state=42)\n",
    "    avg_ev_list.append(avg_ev)\n",
    "    avg_rmse_list.append(avg_rmse)\n",
    "    #print(\"n_components: \",num, \" Explained variance sum: \", avg_ev, ' RMSE: ', avg_rmse)\n",
    "    "
   ]
  },
  {
   "cell_type": "code",
   "execution_count": 110,
   "metadata": {},
   "outputs": [
    {
     "name": "stdout",
     "output_type": "stream",
     "text": [
      "n_components:  500  Explained variance sum:  0.6187698018564972  RMSE:  2.8370689935019273\n",
      "n_components:  550  Explained variance sum:  0.642819555062698  RMSE:  2.756939016177228\n",
      "n_components:  600  Explained variance sum:  0.6654379541743018  RMSE:  2.7701917618079115\n",
      "n_components:  650  Explained variance sum:  0.6865863661990289  RMSE:  2.6958564337227897\n",
      "n_components:  700  Explained variance sum:  0.706502879828708  RMSE:  2.7041602167885803\n",
      "n_components:  750  Explained variance sum:  0.7252492577436896  RMSE:  2.6473528552518335\n"
     ]
    }
   ],
   "source": [
    "n = np.arange(500, 800, 50)\n",
    "for num in n:\n",
    "    avg_ev, avg_rmse = svd_var(df, num, top_n = 10, random_state=42)\n",
    "    avg_ev_list.append(avg_ev)\n",
    "    avg_rmse_list.append(avg_rmse)\n",
    "    #print(\"n_components: \",num, \" Explained variance sum: \", avg_ev, ' RMSE: ', avg_rmse)\n",
    "    "
   ]
  },
  {
   "cell_type": "markdown",
   "metadata": {},
   "source": [
    "### Explained variance goes up and RMSE goes down as n_components gets higher. "
   ]
  },
  {
   "cell_type": "code",
   "execution_count": 206,
   "metadata": {},
   "outputs": [
    {
     "data": {
      "image/png": "[encoded data removed]",
      "text/plain": [
       "<Figure size 432x288 with 2 Axes>"
      ]
     },
     "metadata": {
      "needs_background": "light"
     },
     "output_type": "display_data"
    }
   ],
   "source": [
    "import matplotlib.pyplot as plt\n",
    "import seaborn as sns\n",
    "fig, ax1 = plt.subplots()\n",
    "\n",
    "x = np.arange(50, 800, 50)\n",
    "ax1.plot(x, avg_ev_list, color = 'green')\n",
    "ax1.set_ylabel('Explained Variance ratio sum', color = 'green')\n",
    "ax2 = ax1.twinx()\n",
    "ax2.plot(x, avg_rmse_list)\n",
    "ax2.set_ylabel('RMSE', color = 'blue')\n",
    "plt.show()"
   ]
  },
  {
   "cell_type": "markdown",
   "metadata": {},
   "source": [
    "----------\n",
    "\n",
    "## Memory-based collaborative filtering"
   ]
  },
  {
   "cell_type": "code",
   "execution_count": 12,
   "metadata": {},
   "outputs": [],
   "source": [
    "import scipy.sparse\n",
    "import numpy as np\n",
    "from sklearn.metrics.pairwise import cosine_similarity\n",
    "\n",
    "\n",
    "def memory_based(csr, courses, user_input, top_n):\n",
    "    # Memory-based collaborative filtering\n",
    "    user_idx = -1\n",
    "    \n",
    "    user_row = np.isin(courses, user_input)\n",
    "    uc_mat = vstack([csr, user_row]).tocsr()\n",
    "    # Normalize user-course matrix\n",
    "    norm_uc_mat = uc_mat - uc_mat.mean(axis = 1).reshape(-1,1)\n",
    "    \n",
    "    # Cosine similarity of raw matrix\n",
    "    cossim = cosine_similarity(uc_mat)\n",
    "    \n",
    "    # Calculate the numerator of V-hat(aj)\n",
    "    v_num = np.dot(cossim[user_idx,:], norm_uc_mat)\n",
    "    \n",
    "    # Sum of V-hat(aj) numerator\n",
    "    v_num_sum = v_num.sum(axis = 0)\n",
    "    \n",
    "    # V_hat(aj)\n",
    "    v_hat = v_num_sum/(cossim[user_idx,:].sum())\n",
    "    \n",
    "    #Predicted rating of each course\n",
    "    pred_rating = np.add(v_hat, uc_mat.mean(axis = 1).reshape(-1,1)[user_idx])\n",
    "    \n",
    "    # User vector\n",
    "    user_vec = uc_mat[user_idx].toarray().flatten()\n",
    "    \n",
    "    # User's favorite course indices\n",
    "    user_fav_idx = np.argsort(-user_vec)\n",
    "    \n",
    "    # User's favorite courses\n",
    "    user_fav = [courses[i] for i in user_fav_idx[:top_n]]\n",
    "    #print(f\"Top {top_n} favorite courses:\")\n",
    "    #print(user_fav)\n",
    "    \n",
    "    # Flatten pred_rating\n",
    "    pred_rating = np.asarray(pred_rating).flatten()\n",
    "    \n",
    "    \n",
    "    # Argsort the rating except the courses taken by the user\n",
    "    recommend_index = np.argsort(-pred_rating[user_vec == 0])\n",
    "    \n",
    "    # Recommend top courses\n",
    "    top_courses = [courses[i] for i in recommend_index[:top_n]]\n",
    "    \n",
    "    #print(f\"Top {top_n} recommended courses:\")\n",
    "    #print(top_courses)\n",
    "\n",
    "    #print()\n",
    "\n",
    "    # RMSE between true & predicted\n",
    "    rmse = np.sqrt(np.sum((user_vec[user_vec != 0] - pred_rating[user_vec != 0]) ** 2))\n",
    "    #print(f\"RMSE = {rmse}\")\n",
    "    \n",
    "    return top_courses, rmse\n",
    "\n"
   ]
  },
  {
   "cell_type": "code",
   "execution_count": 13,
   "metadata": {},
   "outputs": [
    {
     "name": "stdout",
     "output_type": "stream",
     "text": [
      "1.17 s ± 116 ms per loop (mean ± std. dev. of 7 runs, 1 loop each)\n"
     ]
    }
   ],
   "source": [
    "%%timeit\n",
    "user_input = np.random.choice(courses, size = 10, replace = False)\n",
    "pred = memory_based(csr, courses, user_input, 10)"
   ]
  },
  {
   "cell_type": "code",
   "execution_count": 14,
   "metadata": {},
   "outputs": [
    {
     "name": "stdout",
     "output_type": "stream",
     "text": [
      "2.3113030911012737\n"
     ]
    }
   ],
   "source": [
    "r_list = []\n",
    "\n",
    "for _ in range(100):\n",
    "    user_input = np.random.choice(courses, size = 10, replace = False)\n",
    "    pred, rmse = memory_based(csr, courses, user_input, 10)\n",
    "    r_list.append(rmse)\n",
    "print(np.average(r_list))"
   ]
  },
  {
   "cell_type": "markdown",
   "metadata": {},
   "source": [
    "## NMF-based collaborative filtering"
   ]
  },
  {
   "cell_type": "code",
   "execution_count": 363,
   "metadata": {},
   "outputs": [],
   "source": [
    "from sklearn.decomposition import NMF\n",
    "\n",
    "def nmf_based(uc_mat, courses, user_input, num_factors = 80, top_n = 10, random_state=42):\n",
    "    # NMF based collaborative filtering\n",
    "    user_row = np.isin(courses, user_input)\n",
    "    uc_mat = vstack([csr, user_row]).tocsr()    \n",
    "    # NMF\n",
    "    nmf = NMF(n_components = num_factors, init = 'nndsvd', max_iter = 300, random_state = random_state)\n",
    "    \n",
    "    # Transform X\n",
    "    X_transformed = nmf.fit_transform(uc_mat)\n",
    "    \n",
    "    # Calculate r\n",
    "    r = np.matmul(X_transformed, nmf.components_)\n",
    "    \n",
    "    # Predict rating\n",
    "    pred_rating = r[user_idx,:].reshape(1,-1)\n",
    "    \n",
    "    \n",
    "    # User vector\n",
    "    user_vec = uc_mat[user_idx].toarray().flatten()\n",
    "    \n",
    "    # User's favorite course indices\n",
    "    user_fav_idx = np.argsort(-user_vec)\n",
    "    \n",
    "    # User's favorite courses\n",
    "    user_fav = [courses[i] for i in user_fav_idx[:top_n]]\n",
    "    #print(f\"Top {top_n} favorite courses:\")\n",
    "    #print(user_fav)\n",
    "    \n",
    "    # Flatten pred_rating\n",
    "    pred_rating = np.asarray(pred_rating).flatten()\n",
    "    \n",
    "    \n",
    "    # Argsort the rating except the courses taken by the user\n",
    "    recommend_index = np.argsort(-pred_rating[user_vec == 0])\n",
    "    \n",
    "    # Recommend top courses\n",
    "    top_courses = [courses[i] for i in recommend_index[:top_n]]\n",
    "    \n",
    "    #print(f\"Top {top_n} recommended courses:\")\n",
    "    #print(top_courses)\n",
    "\n",
    "    #print()\n",
    "\n",
    "    # RMSE between true & predicted\n",
    "    rmse = np.sqrt(np.sum((user_vec[user_vec != 0] - pred_rating[user_vec != 0]) ** 2))\n",
    "    #print(f\"RMSE = {rmse}\")\n",
    "    \n",
    "    return top_courses, rmse\n",
    "\n"
   ]
  },
  {
   "cell_type": "code",
   "execution_count": 379,
   "metadata": {},
   "outputs": [],
   "source": [
    "#%%timeit\n",
    "#pred = nmf_based(csr, courses, user_input, 80, )"
   ]
  },
  {
   "cell_type": "code",
   "execution_count": null,
   "metadata": {},
   "outputs": [],
   "source": [
    "r_list = []\n",
    "\n",
    "for _ in range(10):\n",
    "    user_input = np.random.choice(courses, size = 10, replace = False)\n",
    "    pred, rmse = nmf_based(csr, courses, user_input, 10)\n",
    "    r_list.append(rmse)\n",
    "print(np.average(r_list))"
   ]
  },
  {
   "cell_type": "code",
   "execution_count": null,
   "metadata": {},
   "outputs": [],
   "source": []
  }
 ],
 "metadata": {
  "kernelspec": {
   "display_name": "Python 3",
   "language": "python",
   "name": "python3"
  },
  "language_info": {
   "codemirror_mode": {
    "name": "ipython",
    "version": 3
   },
   "file_extension": ".py",
   "mimetype": "text/x-python",
   "name": "python",
   "nbconvert_exporter": "python",
   "pygments_lexer": "ipython3",
   "version": "3.8.5"
  }
 },
 "nbformat": 4,
 "nbformat_minor": 4
}
