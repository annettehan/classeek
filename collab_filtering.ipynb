{
 "cells": [
  {
   "cell_type": "markdown",
   "metadata": {},
   "source": [
    "# Update\n",
    "### read_date(file_path)\n",
    "* input: file_path\n",
    "* output: \n",
    "     - csr: csr matrix of user profile data\n",
    "     - courses: list of courses\n",
    "     \n",
    "### svd_based(csr, courses, user_input, num_factors = 100, top_n = 10, random_state=42)\n",
    "* input: \n",
    "    - csr\n",
    "    - courses\n",
    "    - user_input\n",
    "    - other inputs can be assigned inside the function. \n",
    "    \n",
    "* output:\n",
    "    - recommended courses\n",
    "    \n",
    "--------\n"
   ]
  },
  {
   "cell_type": "markdown",
   "metadata": {},
   "source": [
    "# Pipeline\n",
    "\n",
    "### read_data(file_path)\n",
    "- read data to df\n",
    "\n",
    "### concat_user_input_and_convert_to_csr(df, user_input): \n",
    "- df: output df from read_data\n",
    "- user_input: list of courses the user provide\n",
    "- Append user input to the df and convert the df into csr. \n",
    "- Returns csr matrix, and course list.\n",
    "\n",
    "### svd_based(uc_mat, courses, user_idx = -1, num_factors=80, top_n = 10, random_state=42):\n",
    "- uc_mat: csr matrix (1st output of concat_user_input_and_convert_to_csr)\n",
    "- courses: course list (2nd output of concat_user_input_and_convert_to_csr)\n",
    "- num_factors: hyperparam of svd\n",
    "- top_n: num of recommendation\n",
    "- Returns top_n recommended courses\n",
    "\n",
    "---------\n"
   ]
  },
  {
   "cell_type": "markdown",
   "metadata": {},
   "source": [
    "# This notebook\n",
    "* Try three different collaborative filterings: Memory, SVD, NMF\n",
    "* Speed: SVD - Memory - NMF (fast to slow)\n",
    "* RMSE: SVD - NMF - Memory (low to high)\n",
    "\n",
    "\n",
    "* Winner: SVD\n",
    "\n",
    "## Note\n",
    "* Parameter tuning (SVD: num_factors)"
   ]
  },
  {
   "cell_type": "code",
   "execution_count": 1,
   "metadata": {},
   "outputs": [],
   "source": [
    "import pandas as pd\n",
    "import numpy as np\n",
    "from scipy.sparse import csr_matrix\n",
    "from scipy.sparse import coo_matrix, vstack\n",
    "import pickle"
   ]
  },
  {
   "cell_type": "markdown",
   "metadata": {},
   "source": [
    "## Load the data and convert into sparse matrix\n",
    "\n",
    "### Update: read_data will take a file_path and output a csr and course list. "
   ]
  },
  {
   "cell_type": "code",
   "execution_count": 2,
   "metadata": {},
   "outputs": [],
   "source": [
    "def read_data(file_path):\n",
    "    from scipy.sparse import csr_matrix\n",
    "    \n",
    "    # Read pickle\n",
    "    stu = pd.read_pickle(file_path)\n",
    "    \n",
    "    # Num of dictionaries in the file\n",
    "    n = len(stu)\n",
    "    \n",
    "    # Initialize df\n",
    "    df = pd.DataFrame()\n",
    "    \n",
    "    # Loop through dicts and concat\n",
    "    for i in range(n):\n",
    "        stu[i]['student_id'] = i\n",
    "        df = pd.concat([df,stu[i]])\n",
    "    \n",
    "    # df = user dataset we have\n",
    "    # user_input: courses that user provide\n",
    "\n",
    "    # Fix .0 issues -- Some courses has .0 at the end (e.g. AAS 101.0), remove .0\n",
    "    df.loc[df['Subject/Catalog'].str.contains('\\.') == True, 'Subject/Catalog'] = df.loc[df['Subject/Catalog'].str.contains('\\.') == True, 'Subject/Catalog'].str.split('\\.').str[0]\n",
    "    \n",
    "    # Pivot table to stu - course\n",
    "    df = pd.pivot_table(df, values = 'Rating', index = 'student_id', columns = 'Subject/Catalog')\n",
    "    \n",
    "    # Fillna\n",
    "    df = df.fillna(0)\n",
    "    \n",
    "    # df to sparse matrix\n",
    "    csr = csr_matrix(df)\n",
    "    \n",
    "    # Store course names\n",
    "    courses = list(df.columns)\n",
    "    \n",
    "\n",
    "    return csr, courses "
   ]
  },
  {
   "cell_type": "code",
   "execution_count": 8,
   "metadata": {},
   "outputs": [],
   "source": [
    "csr, courses = read_data('student_profiles.pickle')"
   ]
  },
  {
   "cell_type": "markdown",
   "metadata": {},
   "source": [
    "### Store user profile csr and the list of courses"
   ]
  },
  {
   "cell_type": "code",
   "execution_count": 9,
   "metadata": {},
   "outputs": [],
   "source": [
    "with open('csr.pkl', \"wb\") as fOut:\n",
    "    pickle.dump(csr, fOut, protocol=pickle.HIGHEST_PROTOCOL)\n",
    "    \n",
    "with open('courses.pkl', \"wb\") as fOut:\n",
    "    pickle.dump(courses, fOut, protocol=pickle.HIGHEST_PROTOCOL)"
   ]
  },
  {
   "cell_type": "markdown",
   "metadata": {},
   "source": [
    "### Load csr and courses"
   ]
  },
  {
   "cell_type": "code",
   "execution_count": 10,
   "metadata": {},
   "outputs": [],
   "source": [
    "with open('csr.pkl', \"rb\") as fIn:\n",
    "    csr = pickle.load(fIn)\n",
    "with open('courses.pkl', \"rb\") as fIn:\n",
    "     courses = pickle.load(fIn)"
   ]
  },
  {
   "cell_type": "code",
   "execution_count": 11,
   "metadata": {},
   "outputs": [],
   "source": [
    "# random user input\n",
    "user_input = np.random.choice(courses, size = 10, replace = False)"
   ]
  },
  {
   "cell_type": "markdown",
   "metadata": {},
   "source": [
    "## Matrix-based collaborative filtering"
   ]
  },
  {
   "cell_type": "code",
   "execution_count": null,
   "metadata": {},
   "outputs": [],
   "source": [
    "from sklearn.decomposition import TruncatedSVD\n",
    "\n",
    "def svd_based(csr, courses, user_input, num_factors = 100, top_n = 10, random_state=42):\n",
    "    # SVD based collaborative filtering\n",
    "    user_row = np.isin(courses, user_input)\n",
    "    uc_mat = vstack([csr, user_row]).tocsr()\n",
    "    \n",
    "    user_idx = -1\n",
    "\n",
    "    \n",
    "    # SVD\n",
    "    svd = TruncatedSVD(n_components = num_factors, random_state = random_state)\n",
    "    \n",
    "    # Transform X\n",
    "    X_transformed = svd.fit_transform(uc_mat)\n",
    "    \n",
    "    # Calculate r\n",
    "    r = np.matmul(X_transformed, svd.components_)\n",
    "    \n",
    "    # Pred rating\n",
    "    pred_rating = r[user_idx,:]#.reshape(1,-1)\n",
    "    \n",
    "    \n",
    "    # Matched user vector\n",
    "    user_vec = uc_mat[user_idx].toarray().flatten()\n",
    "    \n",
    "    \n",
    "    # User's favorite course indices\n",
    "    user_fav_idx = np.argsort(-user_vec)\n",
    "\n",
    "    \n",
    "    # Flatten pred_rating\n",
    "    pred_rating = np.asarray(pred_rating).flatten()\n",
    "    \n",
    "    # Argsort the rating except the courses taken by the user\n",
    "    recommend_index = np.argsort(-pred_rating[user_vec == 0])\n",
    "    \n",
    "    # Recommend top courses\n",
    "    top_courses = [courses[i] for i in recommend_index[:top_n]]\n",
    "\n",
    "    # RMSE between true & predicted. Uncomment the next two lines to see RMSE\n",
    "    #rmse = np.sqrt(np.sum((user_vec[user_vec != 0] - pred_rating[user_vec != 0]) ** 2))\n",
    "    #print(f\"RMSE = {rmse}\")\n",
    "    \n",
    "    return top_courses#, rmse"
   ]
  },
  {
   "cell_type": "code",
   "execution_count": null,
   "metadata": {},
   "outputs": [],
   "source": [
    "user_input = np.random.choice(courses, size = 10, replace = False)\n",
    "svd_based(csr, courses, user_input)"
   ]
  },
  {
   "cell_type": "markdown",
   "metadata": {},
   "source": [
    "\n",
    "\n",
    "-----------------\n",
    " \n",
    "\n",
    "### uncomment rmse in return line to run the next codes"
   ]
  },
  {
   "cell_type": "code",
   "execution_count": 346,
   "metadata": {
    "scrolled": true
   },
   "outputs": [
    {
     "name": "stdout",
     "output_type": "stream",
     "text": [
      "Runtime : 1.051058120000016\n",
      "3.1114267946773877\n"
     ]
    }
   ],
   "source": [
    "r_list = []\n",
    "for _ in range(100):\n",
    "    pred, rmse = svd_based(csr, courses, user_input)\n",
    "    r_list.append(rmse)\n",
    "print(np.average(r_list))"
   ]
  },
  {
   "cell_type": "code",
   "execution_count": 373,
   "metadata": {},
   "outputs": [
    {
     "name": "stdout",
     "output_type": "stream",
     "text": [
      "571 ms ± 67.6 ms per loop (mean ± std. dev. of 7 runs, 1 loop each)\n"
     ]
    }
   ],
   "source": [
    "%%timeit\n",
    "user_input = np.random.choice(courses, size = 10, replace = False)\n",
    "pred, rmse = svd_based(csr, courses, user_input)"
   ]
  },
  {
   "cell_type": "markdown",
   "metadata": {},
   "source": [
    "## Calculate avg RMSE of SVD with diff n_factors"
   ]
  },
  {
   "cell_type": "code",
   "execution_count": 63,
   "metadata": {},
   "outputs": [],
   "source": [
    "subcat = df['Subject/Catalog'].unique()"
   ]
  },
  {
   "cell_type": "code",
   "execution_count": 218,
   "metadata": {},
   "outputs": [],
   "source": [
    "import numpy as np\n",
    "def svd_tune(df, num_factors, top_n = 10, random_state=42):\n",
    "    # SVD based collaborative filtering\n",
    "    \n",
    "    # user_idx = -1\n",
    "    user_idx = -1\n",
    "    rmse_list = []\n",
    "    for i in range(100):\n",
    "        user_input = np.random.choice(courses, size = 10, replace = False)\n",
    "        uc_mat, courses = concat_user_input_and_convert_to_csr(df, user_input)\n",
    "\n",
    "        # SVD\n",
    "        svd = TruncatedSVD(n_components = num_factors, random_state = random_state)\n",
    "\n",
    "        # Transform X\n",
    "        X_transformed = svd.fit_transform(uc_mat)\n",
    "\n",
    "        # Calculate r\n",
    "        r = np.matmul(X_transformed, svd.components_)\n",
    "\n",
    "        # Pred rating\n",
    "        pred_rating = r[user_idx,:]#.reshape(1,-1)\n",
    "\n",
    "\n",
    "        # Matched user vector\n",
    "        user_vec = uc_mat[user_idx].toarray().flatten()\n",
    "\n",
    "\n",
    "        # User's favorite course indices\n",
    "        user_fav_idx = np.argsort(-user_vec)\n",
    "\n",
    "        # User's favorite courses\n",
    "        #user_fav = [courses[i] for i in user_fav_idx[:top_n]]\n",
    "        #print(f\"Top {top_n} favorite courses:\")\n",
    "        #print(user_fav)\n",
    "\n",
    "\n",
    "        # Flatten pred_rating\n",
    "        pred_rating = np.asarray(pred_rating).flatten()\n",
    "\n",
    "        # Argsort the rating except the courses taken by the user\n",
    "        recommend_index = np.argsort(-pred_rating[user_vec == 0])\n",
    "\n",
    "        # Recommend top courses\n",
    "        top_courses = [courses[i] for i in recommend_index[:top_n]]\n",
    "\n",
    "\n",
    "        # RMSE between true & predicted. Uncomment the next two lines to see RMSE\n",
    "        rmse_list.append(np.sqrt(np.sum((user_vec[user_vec != 0] - pred_rating[user_vec != 0]) ** 2)))\n",
    "    avg_rmse = np.average(rmse_list)\n",
    "    #print(f\"RMSE = {avg_rmse}\")\n",
    "    \n",
    "    return avg_rmse"
   ]
  },
  {
   "cell_type": "code",
   "execution_count": 62,
   "metadata": {},
   "outputs": [
    {
     "name": "stdout",
     "output_type": "stream",
     "text": [
      "RMSE = 4.364242197081958\n",
      "RMSE = 4.357827404798507\n",
      "RMSE = 4.359784457612434\n",
      "RMSE = 4.346068447475665\n",
      "RMSE = 4.337082405850965\n",
      "RMSE = 4.330620854141026\n",
      "RMSE = 4.320117968276278\n",
      "RMSE = 4.324448355403818\n",
      "RMSE = 4.30260091539495\n"
     ]
    }
   ],
   "source": [
    "avg_rmse_list = []\n",
    "for num in [50, 55, 60, 65, 70, 75, 80, 85, 90]:\n",
    "    avg_rmse = svd_tune(df, num, top_n = 10, random_state=42)\n",
    "    avg_rmse_list.append(avg_rmse)\n",
    "    "
   ]
  },
  {
   "cell_type": "markdown",
   "metadata": {},
   "source": [
    "### As the number goes up, the RMSE gets smaller. Please scroll down for RMSE, Explained Variance in range of (50, 800).\n",
    "\n",
    "-------------\n",
    "\n",
    "### Let's take a look at time"
   ]
  },
  {
   "cell_type": "code",
   "execution_count": 359,
   "metadata": {},
   "outputs": [],
   "source": [
    "def svd_time(df, num_factors, top_n = 10, random_state=42):\n",
    "    # SVD based collaborative filtering\n",
    "    \n",
    "    # user_idx = -1\n",
    "    user_idx = -1\n",
    "    rmse_list = []\n",
    "    for i in range(10):\n",
    "        user_input = np.random.choice(courses, size = 10, replace = False)\n",
    "\n",
    "        user_row = np.isin(courses, user_input)\n",
    "        uc_mat = vstack([csr, user_row]).tocsr()\n",
    "\n",
    "        user_idx = -1\n",
    "\n",
    "        # SVD\n",
    "        svd = TruncatedSVD(n_components = num_factors, random_state = random_state)\n",
    "\n",
    "        # Transform X\n",
    "        X_transformed = svd.fit_transform(uc_mat)\n",
    "\n",
    "        # Calculate r\n",
    "        r = np.matmul(X_transformed, svd.components_)\n",
    "\n",
    "        # Pred rating\n",
    "        pred_rating = r[user_idx,:]#.reshape(1,-1)\n",
    "\n",
    "\n",
    "        # Matched user vector\n",
    "        user_vec = uc_mat[user_idx].toarray().flatten()\n",
    "\n",
    "\n",
    "        # User's favorite course indices\n",
    "        user_fav_idx = np.argsort(-user_vec)\n",
    "\n",
    "        # User's favorite courses\n",
    "        #user_fav = [courses[i] for i in user_fav_idx[:top_n]]\n",
    "        #print(f\"Top {top_n} favorite courses:\")\n",
    "        #print(user_fav)\n",
    "\n",
    "\n",
    "        # Flatten pred_rating\n",
    "        pred_rating = np.asarray(pred_rating).flatten()\n",
    "\n",
    "        # Argsort the rating except the courses taken by the user\n",
    "        recommend_index = np.argsort(-pred_rating[user_vec == 0])\n",
    "\n",
    "        # Recommend top courses\n",
    "        top_courses = [courses[i] for i in recommend_index[:top_n]]\n",
    "\n",
    "    \n",
    "    return None"
   ]
  },
  {
   "cell_type": "code",
   "execution_count": 361,
   "metadata": {},
   "outputs": [
    {
     "name": "stdout",
     "output_type": "stream",
     "text": [
      "0.7557066999994276\n",
      "1.2164796999997634\n",
      "1.7267242999994779\n",
      "2.316880200000014\n",
      "2.928143399999681\n",
      "3.291754000000219\n",
      "3.6796705000000656\n"
     ]
    }
   ],
   "source": [
    "import time\n",
    "x = np.arange(50, 400, 50)\n",
    "runtime_list = []\n",
    "for num in x:\n",
    "    start = time.process_time()\n",
    "    pred = svd_time(df, num)   \n",
    "    runtime = (time.process_time() - start)\n",
    "    runtime_list.append(runtime/10)\n",
    "    print(runtime/10)"
   ]
  },
  {
   "cell_type": "markdown",
   "metadata": {},
   "source": [
    "### At n_components = 50, it takes 2.6s. At n_components = 750, it takes 10.5s.\n",
    "### Here is a plot of n_components and time"
   ]
  },
  {
   "cell_type": "code",
   "execution_count": 369,
   "metadata": {},
   "outputs": [
    {
     "data": {
      "image/png": "[encoded data removed]",
      "text/plain": [
       "<Figure size 432x288 with 1 Axes>"
      ]
     },
     "metadata": {
      "needs_background": "light"
     },
     "output_type": "display_data"
    }
   ],
   "source": [
    "import matplotlib.pyplot as plt\n",
    "import seaborn as sns\n",
    "fig, ax1 = plt.subplots()\n",
    "\n",
    "x = np.arange(50, 400, 50)\n",
    "ax1.plot(x, runtime_list, color = 'green')\n",
    "ax1.set_ylabel('Runtime', color = 'green')\n",
    "\n",
    "plt.show()"
   ]
  },
  {
   "cell_type": "markdown",
   "metadata": {},
   "source": [
    "## SVD hyperparameter tuning - Bayesian optimization"
   ]
  },
  {
   "cell_type": "code",
   "execution_count": 67,
   "metadata": {},
   "outputs": [
    {
     "name": "stdout",
     "output_type": "stream",
     "text": [
      "Collecting bayesian-optimization\n",
      "  Downloading bayesian-optimization-1.2.0.tar.gz (14 kB)\n",
      "Requirement already satisfied: numpy>=1.9.0 in /opt/anaconda3/lib/python3.8/site-packages (from bayesian-optimization) (1.21.2)\n",
      "Requirement already satisfied: scipy>=0.14.0 in /opt/anaconda3/lib/python3.8/site-packages (from bayesian-optimization) (1.5.2)\n",
      "Requirement already satisfied: scikit-learn>=0.18.0 in /opt/anaconda3/lib/python3.8/site-packages (from bayesian-optimization) (0.23.2)\n",
      "Requirement already satisfied: threadpoolctl>=2.0.0 in /opt/anaconda3/lib/python3.8/site-packages (from scikit-learn>=0.18.0->bayesian-optimization) (2.1.0)\n",
      "Requirement already satisfied: joblib>=0.11 in /opt/anaconda3/lib/python3.8/site-packages (from scikit-learn>=0.18.0->bayesian-optimization) (0.17.0)\n",
      "Building wheels for collected packages: bayesian-optimization\n",
      "  Building wheel for bayesian-optimization (setup.py) ... \u001b[?25ldone\n",
      "\u001b[?25h  Created wheel for bayesian-optimization: filename=bayesian_optimization-1.2.0-py3-none-any.whl size=11685 sha256=66c6540c73156f630062a7533f31207b79a0e40505d64949e6d2badf702820a3\n",
      "  Stored in directory: /Users/Yeseul/Library/Caches/pip/wheels/37/fa/19/f93e793d3944567a60b3ab93b446cf7370cc82c60c1d1c613f\n",
      "Successfully built bayesian-optimization\n",
      "Installing collected packages: bayesian-optimization\n",
      "Successfully installed bayesian-optimization-1.2.0\n",
      "Note: you may need to restart the kernel to use updated packages.\n"
     ]
    }
   ],
   "source": [
    "#pip install bayesian-optimization"
   ]
  },
  {
   "cell_type": "code",
   "execution_count": 90,
   "metadata": {},
   "outputs": [],
   "source": [
    "from bayes_opt import BayesianOptimization\n",
    "\n",
    "def BO_func(n_components):\n",
    "    avg_rmse = svd_tune(df, int(n_components), top_n = 10, random_state=42)\n",
    "    return -avg_rmse"
   ]
  },
  {
   "cell_type": "code",
   "execution_count": 91,
   "metadata": {},
   "outputs": [
    {
     "name": "stdout",
     "output_type": "stream",
     "text": [
      "|   iter    |  target   | n_comp... |\n",
      "-------------------------------------\n",
      "| \u001b[0m 1       \u001b[0m | \u001b[0m-3.087   \u001b[0m | \u001b[0m 118.7   \u001b[0m |\n",
      "| \u001b[95m 2       \u001b[0m | \u001b[95m-3.061   \u001b[0m | \u001b[95m 147.5   \u001b[0m |\n",
      "| \u001b[0m 3       \u001b[0m | \u001b[0m-3.087   \u001b[0m | \u001b[0m 136.6   \u001b[0m |\n",
      "| \u001b[0m 4       \u001b[0m | \u001b[0m-3.083   \u001b[0m | \u001b[0m 129.9   \u001b[0m |\n",
      "| \u001b[0m 5       \u001b[0m | \u001b[0m-3.067   \u001b[0m | \u001b[0m 146.6   \u001b[0m |\n",
      "| \u001b[0m 6       \u001b[0m | \u001b[0m-3.083   \u001b[0m | \u001b[0m 150.0   \u001b[0m |\n",
      "| \u001b[0m 7       \u001b[0m | \u001b[0m-3.068   \u001b[0m | \u001b[0m 144.2   \u001b[0m |\n",
      "=====================================\n",
      "CPU times: user 32min 52s, sys: 5min 50s, total: 38min 42s\n",
      "Wall time: 31min 21s\n"
     ]
    }
   ],
   "source": [
    "%%time\n",
    "tuning_params = { \n",
    "  \"n_components\": (100, 150) }\n",
    "\n",
    "optimizer = BayesianOptimization(\n",
    "  f = BO_func,\n",
    "  pbounds = tuning_params,\n",
    "  verbose = 5,\n",
    "  random_state = 42\n",
    " )\n",
    "\n",
    "optimizer.maximize(\n",
    "  init_points = 4,\n",
    "  n_iter = 3 \n",
    " )"
   ]
  },
  {
   "cell_type": "markdown",
   "metadata": {},
   "source": [
    "### RMSE is smallest at the highest n_components(150) of the range(100, 150)\n",
    "### Let's try broader range (50, 500)"
   ]
  },
  {
   "cell_type": "code",
   "execution_count": 93,
   "metadata": {},
   "outputs": [
    {
     "name": "stdout",
     "output_type": "stream",
     "text": [
      "|   iter    |  target   | n_comp... |\n",
      "-------------------------------------\n",
      "| \u001b[0m 1       \u001b[0m | \u001b[0m-3.024   \u001b[0m | \u001b[0m 218.5   \u001b[0m |\n",
      "| \u001b[95m 2       \u001b[0m | \u001b[95m-2.86    \u001b[0m | \u001b[95m 477.8   \u001b[0m |\n",
      "| \u001b[0m 3       \u001b[0m | \u001b[0m-2.903   \u001b[0m | \u001b[0m 379.4   \u001b[0m |\n",
      "| \u001b[0m 4       \u001b[0m | \u001b[0m-2.96    \u001b[0m | \u001b[0m 319.4   \u001b[0m |\n",
      "| \u001b[95m 5       \u001b[0m | \u001b[95m-2.848   \u001b[0m | \u001b[95m 500.0   \u001b[0m |\n",
      "| \u001b[95m 6       \u001b[0m | \u001b[95m-2.814   \u001b[0m | \u001b[95m 498.8   \u001b[0m |\n",
      "| \u001b[0m 7       \u001b[0m | \u001b[0m-2.849   \u001b[0m | \u001b[0m 494.9   \u001b[0m |\n",
      "=====================================\n"
     ]
    }
   ],
   "source": [
    "tuning_params = { \n",
    "  \"n_components\": (50, 500) }\n",
    "\n",
    "\n",
    "from bayes_opt import BayesianOptimization\n",
    "\n",
    "optimizer = BayesianOptimization(\n",
    "  f = BO_func,\n",
    "  pbounds = tuning_params,\n",
    "  verbose = 5,\n",
    "  random_state = 42\n",
    " )\n",
    "\n",
    "optimizer.maximize(\n",
    "  init_points = 4,\n",
    "  n_iter = 3 \n",
    " )"
   ]
  },
  {
   "cell_type": "markdown",
   "metadata": {},
   "source": [
    "### Similar result. RMSE is lowest at n_components = 499 in range (50, 500)\n",
    "\n",
    "--------\n",
    "\n"
   ]
  },
  {
   "cell_type": "markdown",
   "metadata": {},
   "source": [
    "## Explained Variance"
   ]
  },
  {
   "cell_type": "code",
   "execution_count": 108,
   "metadata": {},
   "outputs": [],
   "source": [
    "import numpy as np\n",
    "def svd_var(df, num_factors, top_n = 10, random_state=42):\n",
    "    # SVD based collaborative filtering\n",
    "    \n",
    "    # user_idx = -1\n",
    "    user_idx = -1\n",
    "    explained_variance_list = []\n",
    "    rmse_list = []\n",
    "    for i in range(100):\n",
    "        user_input = np.random.choice(courses, size = 10, replace = False)\n",
    "        uc_mat, courses = concat_user_input_and_convert_to_csr(df, user_input)\n",
    "\n",
    "        # SVD\n",
    "        svd = TruncatedSVD(n_components = num_factors, random_state = random_state)\n",
    "\n",
    "        # Transform X\n",
    "        X_transformed = svd.fit_transform(uc_mat)\n",
    "\n",
    "        # Calculate r\n",
    "        r = np.matmul(X_transformed, svd.components_)\n",
    "\n",
    "        # Pred rating\n",
    "        pred_rating = r[user_idx,:]#.reshape(1,-1)\n",
    "\n",
    "\n",
    "        # Matched user vector\n",
    "        user_vec = uc_mat[user_idx].toarray().flatten()\n",
    "\n",
    "\n",
    "        # User's favorite course indices\n",
    "        user_fav_idx = np.argsort(-user_vec)\n",
    "\n",
    "        # User's favorite courses\n",
    "        #user_fav = [courses[i] for i in user_fav_idx[:top_n]]\n",
    "        #print(f\"Top {top_n} favorite courses:\")\n",
    "        #print(user_fav)\n",
    "\n",
    "\n",
    "        # Flatten pred_rating\n",
    "        pred_rating = np.asarray(pred_rating).flatten()\n",
    "\n",
    "        # Argsort the rating except the courses taken by the user\n",
    "        recommend_index = np.argsort(-pred_rating[user_vec == 0])\n",
    "\n",
    "        # Recommend top courses\n",
    "        top_courses = [courses[i] for i in recommend_index[:top_n]]\n",
    "\n",
    "\n",
    "        # RMSE between true & predicted. \n",
    "        rmse_list.append(np.sqrt(np.sum((user_vec[user_vec != 0] - pred_rating[user_vec != 0]) ** 2)))\n",
    "        \n",
    "        # Explained variance \n",
    "        explained_variance_list.append(svd.explained_variance_ratio_.sum())\n",
    "    \n",
    "    avg_ev = np.average(explained_variance_list)\n",
    "    avg_rmse = np.average(rmse_list)\n",
    "\n",
    "    \n",
    "    return avg_ev, avg_rmse"
   ]
  },
  {
   "cell_type": "code",
   "execution_count": 109,
   "metadata": {},
   "outputs": [
    {
     "name": "stdout",
     "output_type": "stream",
     "text": [
      "n_components:  50  Explained variance sum:  0.2069566432419802  RMSE:  3.136881940437139\n",
      "n_components:  100  Explained variance sum:  0.3080865954789482  RMSE:  3.1243334888200214\n",
      "n_components:  150  Explained variance sum:  0.37026838778355925  RMSE:  3.048886230162509\n",
      "n_components:  200  Explained variance sum:  0.41887893620543243  RMSE:  3.0507622788673108\n",
      "n_components:  250  Explained variance sum:  0.4610223165101213  RMSE:  3.0041577221473976\n",
      "n_components:  300  Explained variance sum:  0.4989714855659057  RMSE:  2.9756654305757753\n",
      "n_components:  350  Explained variance sum:  0.5332084669994797  RMSE:  2.932978723556314\n",
      "n_components:  400  Explained variance sum:  0.5642925077415119  RMSE:  2.8732756662024808\n",
      "n_components:  450  Explained variance sum:  0.592669329422925  RMSE:  2.8446796399219165\n"
     ]
    }
   ],
   "source": [
    "n = np.arange(50, 500, 50)\n",
    "avg_ev_list = []\n",
    "avg_rmse_list = []\n",
    "for num in n:\n",
    "    avg_ev, avg_rmse = svd_var(df, num, top_n = 10, random_state=42)\n",
    "    avg_ev_list.append(avg_ev)\n",
    "    avg_rmse_list.append(avg_rmse)\n",
    "    print(\"n_components: \",num, \" Explained variance sum: \", avg_ev, ' RMSE: ', avg_rmse)\n",
    "    "
   ]
  },
  {
   "cell_type": "code",
   "execution_count": 110,
   "metadata": {},
   "outputs": [
    {
     "name": "stdout",
     "output_type": "stream",
     "text": [
      "n_components:  500  Explained variance sum:  0.6187698018564972  RMSE:  2.8370689935019273\n",
      "n_components:  550  Explained variance sum:  0.642819555062698  RMSE:  2.756939016177228\n",
      "n_components:  600  Explained variance sum:  0.6654379541743018  RMSE:  2.7701917618079115\n",
      "n_components:  650  Explained variance sum:  0.6865863661990289  RMSE:  2.6958564337227897\n",
      "n_components:  700  Explained variance sum:  0.706502879828708  RMSE:  2.7041602167885803\n",
      "n_components:  750  Explained variance sum:  0.7252492577436896  RMSE:  2.6473528552518335\n"
     ]
    }
   ],
   "source": [
    "n = np.arange(500, 800, 50)\n",
    "for num in n:\n",
    "    avg_ev, avg_rmse = svd_var(df, num, top_n = 10, random_state=42)\n",
    "    avg_ev_list.append(avg_ev)\n",
    "    avg_rmse_list.append(avg_rmse)\n",
    "    print(\"n_components: \",num, \" Explained variance sum: \", avg_ev, ' RMSE: ', avg_rmse)\n",
    "    "
   ]
  },
  {
   "cell_type": "markdown",
   "metadata": {},
   "source": [
    "### Explained variance goes up and RMSE goes down as n_components gets higher. \n",
    "### Here is a plot for it."
   ]
  },
  {
   "cell_type": "code",
   "execution_count": 206,
   "metadata": {},
   "outputs": [
    {
     "data": {
      "image/png": "[encoded data removed]",
      "text/plain": [
       "<Figure size 432x288 with 2 Axes>"
      ]
     },
     "metadata": {
      "needs_background": "light"
     },
     "output_type": "display_data"
    }
   ],
   "source": [
    "import matplotlib.pyplot as plt\n",
    "import seaborn as sns\n",
    "fig, ax1 = plt.subplots()\n",
    "\n",
    "x = np.arange(50, 800, 50)\n",
    "ax1.plot(x, avg_ev_list, color = 'green')\n",
    "ax1.set_ylabel('Explained Variance ratio sum', color = 'green')\n",
    "ax2 = ax1.twinx()\n",
    "ax2.plot(x, avg_rmse_list)\n",
    "ax2.set_ylabel('RMSE', color = 'blue')\n",
    "plt.show()"
   ]
  },
  {
   "cell_type": "markdown",
   "metadata": {},
   "source": [
    "### No 'drops' that we could pick as a cut-off for n_components. \n",
    "\n",
    "--------"
   ]
  },
  {
   "cell_type": "markdown",
   "metadata": {},
   "source": [
    "## GridsearchCV"
   ]
  },
  {
   "cell_type": "code",
   "execution_count": 186,
   "metadata": {},
   "outputs": [],
   "source": [
    "from sklearn.metrics import make_scorer\n",
    "user_input = np.random.choice(courses, size = 10, replace = False)\n",
    "\n",
    "def my_scorer(estimator, X, y=None):\n",
    "    avg_rmse = []\n",
    "    for i in range(100):\n",
    "    \n",
    "        # SVD\n",
    "        svd = TruncatedSVD(random_state = 42)\n",
    "\n",
    "        # Transform X\n",
    "        X_transformed = estimator.fit_transform(data)\n",
    "\n",
    "        # Calculate r\n",
    "        r = np.matmul(X_transformed, estimator.components_)\n",
    "        \n",
    "        user_idx = np.random.randint(0, r.shape[0])\n",
    "        \n",
    "        # Pred rating\n",
    "        pred_rating = r[user_idx,:]\n",
    "\n",
    "\n",
    "        # Matched user vector\n",
    "        user_vec = uc_mat[user_idx].toarray().flatten()\n",
    "\n",
    "        # User's favorite course indices\n",
    "        user_fav_idx = np.argsort(-user_vec)\n",
    "\n",
    "        # Flatten pred_rating\n",
    "        pred_rating = np.asarray(pred_rating).flatten()\n",
    "\n",
    "\n",
    "\n",
    "        # RMSE between true & predicted. Uncomment the next two lines to see RMSE\n",
    "        rmse = np.sqrt(np.sum((user_vec[user_vec != 0] - pred_rating[user_vec != 0]) ** 2))\n",
    "        avg_rmse.append(rmse)\n",
    "\n",
    "    np.average(avg_rmse)\n",
    "    return -rmse"
   ]
  },
  {
   "cell_type": "code",
   "execution_count": 187,
   "metadata": {},
   "outputs": [
    {
     "data": {
      "text/plain": [
       "GridSearchCV(cv=3, estimator=TruncatedSVD(random_state=42),\n",
       "             param_grid={'n_components': [50, 100, 150, 200, 250, 300]},\n",
       "             scoring=<function my_scorer at 0x7fc860fffca0>)"
      ]
     },
     "execution_count": 187,
     "metadata": {},
     "output_type": "execute_result"
    }
   ],
   "source": [
    "from sklearn.model_selection import GridSearchCV\n",
    "from sklearn.metrics import  make_scorer\n",
    "\n",
    "new_df = pd.pivot_table(df, values = 'Rating', index = 'student_id', columns = 'Subject/Catalog').fillna(0)\n",
    "data = csr_matrix(new_df)\n",
    "svd = TruncatedSVD(random_state = 42)\n",
    "#scorer = make_scorer(my_scorer, greater_is_better = False)\n",
    "param_grid = {'n_components':[50, 100, 150, 200, 250, 300]}\n",
    "gs = GridSearchCV(svd, param_grid, scoring=my_scorer, cv=3)\n",
    "gs.fit(data)\n",
    "\n"
   ]
  },
  {
   "cell_type": "code",
   "execution_count": 188,
   "metadata": {},
   "outputs": [
    {
     "data": {
      "text/plain": [
       "{'n_components': 300}"
      ]
     },
     "execution_count": 188,
     "metadata": {},
     "output_type": "execute_result"
    }
   ],
   "source": [
    "gs.best_params_"
   ]
  },
  {
   "cell_type": "code",
   "execution_count": 189,
   "metadata": {},
   "outputs": [
    {
     "data": {
      "text/plain": [
       "-11.773772114827802"
      ]
     },
     "execution_count": 189,
     "metadata": {},
     "output_type": "execute_result"
    }
   ],
   "source": [
    "gs.best_score_"
   ]
  },
  {
   "cell_type": "code",
   "execution_count": 190,
   "metadata": {},
   "outputs": [
    {
     "data": {
      "text/plain": [
       "{'mean_fit_time': array([0.13703934, 0.27785134, 0.4588356 , 0.62833047, 0.8306125 ,\n",
       "        1.12829105]),\n",
       " 'std_fit_time': array([0.00335502, 0.03936612, 0.03306965, 0.00537788, 0.02571323,\n",
       "        0.33875267]),\n",
       " 'mean_score_time': array([ 32.87845596,  54.3493673 ,  75.6324776 , 103.56576721,\n",
       "        130.96367971, 164.81422973]),\n",
       " 'std_score_time': array([0.43390867, 2.22713671, 0.75666458, 2.42060683, 1.27256143,\n",
       "        3.08446854]),\n",
       " 'param_n_components': masked_array(data=[50, 100, 150, 200, 250, 300],\n",
       "              mask=[False, False, False, False, False, False],\n",
       "        fill_value='?',\n",
       "             dtype=object),\n",
       " 'params': [{'n_components': 50},\n",
       "  {'n_components': 100},\n",
       "  {'n_components': 150},\n",
       "  {'n_components': 200},\n",
       "  {'n_components': 250},\n",
       "  {'n_components': 300}],\n",
       " 'split0_test_score': array([-15.72707967, -14.46666661, -14.26611437, -12.61420054,\n",
       "        -13.07340963, -13.37956634]),\n",
       " 'split1_test_score': array([-15.78328898, -15.7867201 , -13.70534381, -12.42263407,\n",
       "        -13.39491713, -10.91285156]),\n",
       " 'split2_test_score': array([-15.79943512, -14.39667644, -13.51035811, -13.67602433,\n",
       "        -12.66257291, -11.02889844]),\n",
       " 'mean_test_score': array([-15.76993459, -14.88335438, -13.8272721 , -12.90428632,\n",
       "        -13.04363322, -11.77377211]),\n",
       " 'std_test_score': array([0.03101164, 0.63941477, 0.3203558 , 0.55127676, 0.29971875,\n",
       "        1.13645591]),\n",
       " 'rank_test_score': array([6, 5, 4, 2, 3, 1], dtype=int32)}"
      ]
     },
     "execution_count": 190,
     "metadata": {},
     "output_type": "execute_result"
    }
   ],
   "source": [
    "gs.cv_results_"
   ]
  },
  {
   "cell_type": "markdown",
   "metadata": {},
   "source": [
    "### GridSearchCV will give me similar result. Just spit out the biggest n_components I fed. "
   ]
  },
  {
   "cell_type": "markdown",
   "metadata": {},
   "source": [
    "----------\n",
    "----------\n",
    "\n",
    "## Memory-based collaborative filtering"
   ]
  },
  {
   "cell_type": "code",
   "execution_count": 354,
   "metadata": {},
   "outputs": [],
   "source": [
    "import scipy.sparse\n",
    "import numpy as np\n",
    "from sklearn.metrics.pairwise import cosine_similarity\n",
    "\n",
    "\n",
    "def memory_based(csr, courses, user_input, top_n):\n",
    "    # Memory-based collaborative filtering\n",
    "    \n",
    "    \n",
    "    user_row = np.isin(courses, user_input)\n",
    "    uc_mat = vstack([csr, user_row]).tocsr()\n",
    "    # Normalize user-course matrix\n",
    "    norm_uc_mat = uc_mat - uc_mat.mean(axis = 1).reshape(-1,1)\n",
    "    \n",
    "    # Cosine similarity of raw matrix\n",
    "    cossim = cosine_similarity(uc_mat)\n",
    "    \n",
    "    # Calculate the numerator of V-hat(aj)\n",
    "    v_num = np.dot(cossim[user_idx,:], norm_uc_mat)\n",
    "    \n",
    "    # Sum of V-hat(aj) numerator\n",
    "    v_num_sum = v_num.sum(axis = 0)\n",
    "    \n",
    "    # V_hat(aj)\n",
    "    v_hat = v_num_sum/(cossim[user_idx,:].sum())\n",
    "    \n",
    "    #Predicted rating of each course\n",
    "    pred_rating = np.add(v_hat, uc_mat.mean(axis = 1).reshape(-1,1)[user_idx])\n",
    "    \n",
    "    # User vector\n",
    "    user_vec = uc_mat[user_idx].toarray().flatten()\n",
    "    \n",
    "    # User's favorite course indices\n",
    "    user_fav_idx = np.argsort(-user_vec)\n",
    "    \n",
    "    # User's favorite courses\n",
    "    user_fav = [courses[i] for i in user_fav_idx[:top_n]]\n",
    "    #print(f\"Top {top_n} favorite courses:\")\n",
    "    #print(user_fav)\n",
    "    \n",
    "    # Flatten pred_rating\n",
    "    pred_rating = np.asarray(pred_rating).flatten()\n",
    "    \n",
    "    \n",
    "    # Argsort the rating except the courses taken by the user\n",
    "    recommend_index = np.argsort(-pred_rating[user_vec == 0])\n",
    "    \n",
    "    # Recommend top courses\n",
    "    top_courses = [courses[i] for i in recommend_index[:top_n]]\n",
    "    \n",
    "    #print(f\"Top {top_n} recommended courses:\")\n",
    "    #print(top_courses)\n",
    "\n",
    "    #print()\n",
    "\n",
    "    # RMSE between true & predicted\n",
    "    rmse = np.sqrt(np.sum((user_vec[user_vec != 0] - pred_rating[user_vec != 0]) ** 2))\n",
    "    #print(f\"RMSE = {rmse}\")\n",
    "    \n",
    "    return top_courses, rmse\n",
    "\n"
   ]
  },
  {
   "cell_type": "code",
   "execution_count": 367,
   "metadata": {},
   "outputs": [
    {
     "name": "stdout",
     "output_type": "stream",
     "text": [
      "971 ms ± 9.04 ms per loop (mean ± std. dev. of 7 runs, 1 loop each)\n"
     ]
    }
   ],
   "source": [
    "%%timeit\n",
    "pred = memory_based(csr, courses, user_input, 10)"
   ]
  },
  {
   "cell_type": "code",
   "execution_count": 368,
   "metadata": {},
   "outputs": [
    {
     "name": "stdout",
     "output_type": "stream",
     "text": [
      "2.4015618261944662\n"
     ]
    }
   ],
   "source": [
    "r_list = []\n",
    "\n",
    "for _ in range(100):\n",
    "    user_input = np.random.choice(courses, size = 10, replace = False)\n",
    "    pred, rmse = memory_based(csr, courses, user_input, 10)\n",
    "    r_list.append(rmse)\n",
    "print(np.average(r_list))"
   ]
  },
  {
   "cell_type": "markdown",
   "metadata": {},
   "source": [
    "## NMF-based collaborative filtering"
   ]
  },
  {
   "cell_type": "code",
   "execution_count": 363,
   "metadata": {},
   "outputs": [],
   "source": [
    "from sklearn.decomposition import NMF\n",
    "\n",
    "def nmf_based(uc_mat, courses, user_input, num_factors = 80, top_n = 10, random_state=42):\n",
    "    # NMF based collaborative filtering\n",
    "    user_row = np.isin(courses, user_input)\n",
    "    uc_mat = vstack([csr, user_row]).tocsr()    \n",
    "    # NMF\n",
    "    nmf = NMF(n_components = num_factors, init = 'nndsvd', max_iter = 300, random_state = random_state)\n",
    "    \n",
    "    # Transform X\n",
    "    X_transformed = nmf.fit_transform(uc_mat)\n",
    "    \n",
    "    # Calculate r\n",
    "    r = np.matmul(X_transformed, nmf.components_)\n",
    "    \n",
    "    # Predict rating\n",
    "    pred_rating = r[user_idx,:].reshape(1,-1)\n",
    "    \n",
    "    \n",
    "    # User vector\n",
    "    user_vec = uc_mat[user_idx].toarray().flatten()\n",
    "    \n",
    "    # User's favorite course indices\n",
    "    user_fav_idx = np.argsort(-user_vec)\n",
    "    \n",
    "    # User's favorite courses\n",
    "    user_fav = [courses[i] for i in user_fav_idx[:top_n]]\n",
    "    #print(f\"Top {top_n} favorite courses:\")\n",
    "    #print(user_fav)\n",
    "    \n",
    "    # Flatten pred_rating\n",
    "    pred_rating = np.asarray(pred_rating).flatten()\n",
    "    \n",
    "    \n",
    "    # Argsort the rating except the courses taken by the user\n",
    "    recommend_index = np.argsort(-pred_rating[user_vec == 0])\n",
    "    \n",
    "    # Recommend top courses\n",
    "    top_courses = [courses[i] for i in recommend_index[:top_n]]\n",
    "    \n",
    "    #print(f\"Top {top_n} recommended courses:\")\n",
    "    #print(top_courses)\n",
    "\n",
    "    #print()\n",
    "\n",
    "    # RMSE between true & predicted\n",
    "    rmse = np.sqrt(np.sum((user_vec[user_vec != 0] - pred_rating[user_vec != 0]) ** 2))\n",
    "    #print(f\"RMSE = {rmse}\")\n",
    "    \n",
    "    return top_courses, rmse\n",
    "\n"
   ]
  },
  {
   "cell_type": "code",
   "execution_count": 366,
   "metadata": {},
   "outputs": [
    {
     "name": "stderr",
     "output_type": "stream",
     "text": [
      "/opt/anaconda3/lib/python3.8/site-packages/sklearn/decomposition/_nmf.py:1076: ConvergenceWarning: Maximum number of iterations 300 reached. Increase it to improve convergence.\n",
      "  warnings.warn(\"Maximum number of iterations %d reached. Increase it to\"\n",
      "/opt/anaconda3/lib/python3.8/site-packages/sklearn/decomposition/_nmf.py:1076: ConvergenceWarning: Maximum number of iterations 300 reached. Increase it to improve convergence.\n",
      "  warnings.warn(\"Maximum number of iterations %d reached. Increase it to\"\n",
      "/opt/anaconda3/lib/python3.8/site-packages/sklearn/decomposition/_nmf.py:1076: ConvergenceWarning: Maximum number of iterations 300 reached. Increase it to improve convergence.\n",
      "  warnings.warn(\"Maximum number of iterations %d reached. Increase it to\"\n",
      "/opt/anaconda3/lib/python3.8/site-packages/sklearn/decomposition/_nmf.py:1076: ConvergenceWarning: Maximum number of iterations 300 reached. Increase it to improve convergence.\n",
      "  warnings.warn(\"Maximum number of iterations %d reached. Increase it to\"\n",
      "/opt/anaconda3/lib/python3.8/site-packages/sklearn/decomposition/_nmf.py:1076: ConvergenceWarning: Maximum number of iterations 300 reached. Increase it to improve convergence.\n",
      "  warnings.warn(\"Maximum number of iterations %d reached. Increase it to\"\n",
      "/opt/anaconda3/lib/python3.8/site-packages/sklearn/decomposition/_nmf.py:1076: ConvergenceWarning: Maximum number of iterations 300 reached. Increase it to improve convergence.\n",
      "  warnings.warn(\"Maximum number of iterations %d reached. Increase it to\"\n",
      "/opt/anaconda3/lib/python3.8/site-packages/sklearn/decomposition/_nmf.py:1076: ConvergenceWarning: Maximum number of iterations 300 reached. Increase it to improve convergence.\n",
      "  warnings.warn(\"Maximum number of iterations %d reached. Increase it to\"\n"
     ]
    },
    {
     "name": "stdout",
     "output_type": "stream",
     "text": [
      "25.7 s ± 792 ms per loop (mean ± std. dev. of 7 runs, 1 loop each)\n"
     ]
    },
    {
     "name": "stderr",
     "output_type": "stream",
     "text": [
      "/opt/anaconda3/lib/python3.8/site-packages/sklearn/decomposition/_nmf.py:1076: ConvergenceWarning: Maximum number of iterations 300 reached. Increase it to improve convergence.\n",
      "  warnings.warn(\"Maximum number of iterations %d reached. Increase it to\"\n"
     ]
    }
   ],
   "source": [
    "%%timeit\n",
    "pred = nmf_based(csr, courses, user_input, 80, )"
   ]
  },
  {
   "cell_type": "code",
   "execution_count": 365,
   "metadata": {},
   "outputs": [
    {
     "name": "stdout",
     "output_type": "stream",
     "text": [
      "3.161768988173545\n"
     ]
    }
   ],
   "source": [
    "r_list = []\n",
    "\n",
    "for _ in range(10):\n",
    "    user_input = np.random.choice(courses, size = 10, replace = False)\n",
    "    pred, rmse = nmf_based(csr, courses, user_input, 10)\n",
    "    r_list.append(rmse)\n",
    "print(np.average(r_list))"
   ]
  },
  {
   "cell_type": "code",
   "execution_count": null,
   "metadata": {},
   "outputs": [],
   "source": []
  }
 ],
 "metadata": {
  "kernelspec": {
   "display_name": "Python 3",
   "language": "python",
   "name": "python3"
  },
  "language_info": {
   "codemirror_mode": {
    "name": "ipython",
    "version": 3
   },
   "file_extension": ".py",
   "mimetype": "text/x-python",
   "name": "python",
   "nbconvert_exporter": "python",
   "pygments_lexer": "ipython3",
   "version": "3.8.5"
  }
 },
 "nbformat": 4,
 "nbformat_minor": 4
}
