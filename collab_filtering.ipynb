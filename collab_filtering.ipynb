{
 "cells": [
  {
   "cell_type": "markdown",
   "metadata": {},
   "source": [
    "# Update (12.10)\n",
    "### read_date(file_path)\n",
    "* input: file_path\n",
    "* output: \n",
    "     - csr: csr matrix of user profile data\n",
    "     - courses: list of courses\n",
    "     \n",
    "### svd_based(csr, courses, user_input, num_factors = 100, top_n = 10, random_state=42)\n",
    "* input: \n",
    "    - csr\n",
    "    - courses\n",
    "    - user_input\n",
    "    - other inputs can be assigned inside the function. \n",
    "    \n",
    "* output:\n",
    "    - recommended courses\n",
    "    \n",
    "--------\n"
   ]
  },
  {
   "cell_type": "markdown",
   "metadata": {},
   "source": [
    "### Pipeline\n",
    "\n",
    "#### read_data(file_path)\n",
    "- read data to df\n",
    "\n",
    "#### concat_user_input_and_convert_to_csr(df, user_input): \n",
    "- df: output df from read_data\n",
    "- user_input: list of courses the user provide\n",
    "- Append user input to the df and convert the df into csr. \n",
    "- Returns csr matrix, and course list.\n",
    "\n",
    "#### svd_based(uc_mat, courses, user_idx = -1, num_factors=80, top_n = 10, random_state=42):\n",
    "- uc_mat: csr matrix (1st output of concat_user_input_and_convert_to_csr)\n",
    "- courses: course list (2nd output of concat_user_input_and_convert_to_csr)\n",
    "- num_factors: hyperparam of svd\n",
    "- top_n: num of recommendation\n",
    "- Returns top_n recommended courses\n",
    "\n",
    "---------\n"
   ]
  },
  {
   "cell_type": "markdown",
   "metadata": {},
   "source": [
    "#### This notebook\n",
    "* Try three different collaborative filterings: Memory, SVD, NMF\n",
    "* Speed: SVD - Memory - NMF (fast to slow)\n",
    "* RMSE: SVD - NMF - Memory (low to high)\n",
    "\n",
    "\n",
    "* Winner: SVD\n",
    "\n",
    "##### Note\n",
    "* Parameter tuning (SVD: num_factors)"
   ]
  },
  {
   "cell_type": "code",
   "execution_count": 1,
   "metadata": {},
   "outputs": [],
   "source": [
    "import pandas as pd\n",
    "import numpy as np\n",
    "from scipy.sparse import csr_matrix\n",
    "from scipy.sparse import coo_matrix, vstack\n",
    "import pickle"
   ]
  },
  {
   "cell_type": "markdown",
   "metadata": {},
   "source": [
    "## Load the data and convert into sparse matrix\n",
    "\n",
    "### Update: read_data will take a file_path and output a csr and course list. "
   ]
  },
  {
   "cell_type": "code",
   "execution_count": 2,
   "metadata": {},
   "outputs": [],
   "source": [
    "def read_data(file_path):\n",
    "    from scipy.sparse import csr_matrix\n",
    "    \n",
    "    # Read pickle\n",
    "    stu = pd.read_pickle(file_path)\n",
    "    \n",
    "    # Num of dictionaries in the file\n",
    "    n = len(stu)\n",
    "    \n",
    "    # Initialize df\n",
    "    df = pd.DataFrame()\n",
    "    \n",
    "    # Loop through dicts and concat\n",
    "    for i in range(n):\n",
    "        stu[i]['student_id'] = i\n",
    "        df = pd.concat([df,stu[i]])\n",
    "    \n",
    "    # df = user dataset we have\n",
    "    # user_input: courses that user provide\n",
    "\n",
    "    # Fix .0 issues -- Some courses has .0 at the end (e.g. AAS 101.0), remove .0\n",
    "    df.loc[df['Subject/Catalog'].str.contains('\\.') == True, 'Subject/Catalog'] = df.loc[df['Subject/Catalog'].str.contains('\\.') == True, 'Subject/Catalog'].str.split('\\.').str[0]\n",
    "    \n",
    "    # Pivot table to stu - course\n",
    "    df = pd.pivot_table(df, values = 'Rating', index = 'student_id', columns = 'Subject/Catalog')\n",
    "    \n",
    "    # Fillna\n",
    "    df = df.fillna(0)\n",
    "    \n",
    "    # df to sparse matrix\n",
    "    csr = csr_matrix(df)\n",
    "    \n",
    "    # Store course names\n",
    "    courses = list(df.columns)\n",
    "    \n",
    "\n",
    "    return csr, courses "
   ]
  },
  {
   "cell_type": "code",
   "execution_count": 8,
   "metadata": {},
   "outputs": [],
   "source": [
    "csr, courses = read_data('student_profiles.pickle')"
   ]
  },
  {
   "cell_type": "markdown",
   "metadata": {},
   "source": [
    "### Store user profile csr and the list of courses"
   ]
  },
  {
   "cell_type": "code",
   "execution_count": 9,
   "metadata": {},
   "outputs": [],
   "source": [
    "with open('csr.pkl', \"wb\") as fOut:\n",
    "    pickle.dump(csr, fOut, protocol=pickle.HIGHEST_PROTOCOL)\n",
    "    \n",
    "with open('courses.pkl', \"wb\") as fOut:\n",
    "    pickle.dump(courses, fOut, protocol=pickle.HIGHEST_PROTOCOL)"
   ]
  },
  {
   "cell_type": "markdown",
   "metadata": {},
   "source": [
    "### Load csr and courses"
   ]
  },
  {
   "cell_type": "code",
   "execution_count": 10,
   "metadata": {},
   "outputs": [],
   "source": [
    "with open('csr.pkl', \"rb\") as fIn:\n",
    "    csr = pickle.load(fIn)\n",
    "with open('courses.pkl', \"rb\") as fIn:\n",
    "     courses = pickle.load(fIn)"
   ]
  },
  {
   "cell_type": "code",
   "execution_count": 11,
   "metadata": {},
   "outputs": [],
   "source": [
    "# random user input\n",
    "user_input = np.random.choice(courses, size = 10, replace = False)"
   ]
  },
  {
   "cell_type": "markdown",
   "metadata": {},
   "source": [
    "## Matrix-based collaborative filtering"
   ]
  },
  {
   "cell_type": "code",
   "execution_count": 12,
   "metadata": {},
   "outputs": [],
   "source": [
    "from sklearn.decomposition import TruncatedSVD\n",
    "\n",
    "def svd_based(csr, courses, user_input, num_factors = 100, top_n = 10, random_state=42):\n",
    "    # SVD based collaborative filtering\n",
    "    user_row = np.isin(courses, user_input)\n",
    "    uc_mat = vstack([csr, user_row]).tocsr()\n",
    "    \n",
    "    user_idx = -1\n",
    "\n",
    "    \n",
    "    # SVD\n",
    "    svd = TruncatedSVD(n_components = num_factors, random_state = random_state)\n",
    "    \n",
    "    # Transform X\n",
    "    X_transformed = svd.fit_transform(uc_mat)\n",
    "    \n",
    "    # Calculate r\n",
    "    r = np.matmul(X_transformed, svd.components_)\n",
    "    \n",
    "    # Pred rating\n",
    "    pred_rating = r[user_idx,:]#.reshape(1,-1)\n",
    "    \n",
    "    \n",
    "    # Matched user vector\n",
    "    user_vec = uc_mat[user_idx].toarray().flatten()\n",
    "    \n",
    "    \n",
    "    # User's favorite course indices\n",
    "    user_fav_idx = np.argsort(-user_vec)\n",
    "\n",
    "    \n",
    "    # Flatten pred_rating\n",
    "    pred_rating = np.asarray(pred_rating).flatten()\n",
    "    \n",
    "    # Argsort the rating except the courses taken by the user\n",
    "    recommend_index = np.argsort(-pred_rating[user_vec == 0])\n",
    "    \n",
    "    # Recommend top courses\n",
    "    top_courses = [courses[i] for i in recommend_index[:top_n]]\n",
    "\n",
    "    # RMSE between true & predicted. Uncomment the next two lines to see RMSE\n",
    "    #rmse = np.sqrt(np.sum((user_vec[user_vec != 0] - pred_rating[user_vec != 0]) ** 2))\n",
    "    #print(f\"RMSE = {rmse}\")\n",
    "    \n",
    "    return top_courses#, rmse"
   ]
  },
  {
   "cell_type": "code",
   "execution_count": 13,
   "metadata": {},
   "outputs": [
    {
     "data": {
      "text/plain": [
       "['CHE 105',\n",
       " 'ENVIRO 229',\n",
       " 'MCD 397',\n",
       " 'ENGLIS 215',\n",
       " 'COM 487',\n",
       " 'ASTR 104',\n",
       " 'EECS 203',\n",
       " 'EECS 376',\n",
       " 'EECS 570',\n",
       " 'EECS 590']"
      ]
     },
     "execution_count": 13,
     "metadata": {},
     "output_type": "execute_result"
    }
   ],
   "source": [
    "user_input = np.random.choice(courses, size = 10, replace = False)\n",
    "svd_based(csr, courses, user_input)"
   ]
  }
 ],
 "metadata": {
  "kernelspec": {
   "display_name": "Python 3",
   "language": "python",
   "name": "python3"
  },
  "language_info": {
   "codemirror_mode": {
    "name": "ipython",
    "version": 3
   },
   "file_extension": ".py",
   "mimetype": "text/x-python",
   "name": "python",
   "nbconvert_exporter": "python",
   "pygments_lexer": "ipython3",
   "version": "3.8.5"
  }
 },
 "nbformat": 4,
 "nbformat_minor": 4
}
