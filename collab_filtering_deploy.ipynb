{
 "cells": [
  {
   "cell_type": "markdown",
   "metadata": {},
   "source": [
    "# Update (12.13)\n",
    "### read_date(file_path)\n",
    "* input: file_path\n",
    "* output: \n",
    "     - csr: csr matrix of user profile data\n",
    "     - courses: list of courses\n",
    "     \n",
    "### memory_based(csr, courses, user_input, top_n = 10, random_state=42)\n",
    "* input: \n",
    "    - csr\n",
    "    - courses\n",
    "    - user_input\n",
    "    - csr, courses and the other inputs can be assigned inside the function. \n",
    "    \n",
    "* output:\n",
    "    - recommended courses\n",
    "    \n",
    "--------\n"
   ]
  },
  {
   "cell_type": "code",
   "execution_count": 12,
   "metadata": {},
   "outputs": [],
   "source": [
    "import pandas as pd\n",
    "import numpy as np\n",
    "from scipy.sparse import coo_matrix, vstack\n",
    "import pickle\n",
    "import numpy as np\n",
    "from sklearn.metrics.pairwise import cosine_similarity"
   ]
  },
  {
   "cell_type": "markdown",
   "metadata": {},
   "source": [
    "### Load csr and courses"
   ]
  },
  {
   "cell_type": "code",
   "execution_count": 6,
   "metadata": {},
   "outputs": [],
   "source": [
    "with open('assets/csr.pkl', \"rb\") as fIn:\n",
    "    csr = pickle.load(fIn)\n",
    "with open('assets/courses.pkl', \"rb\") as fIn:\n",
    "    courses = pickle.load(fIn)"
   ]
  },
  {
   "cell_type": "markdown",
   "metadata": {},
   "source": [
    "## Matrix-based collaborative filtering"
   ]
  },
  {
   "cell_type": "code",
   "execution_count": 56,
   "metadata": {},
   "outputs": [],
   "source": [
    "def memory_based(user_input, top_n = 10):\n",
    "    \n",
    "    for course in user_input:\n",
    "        if course in courses:\n",
    "            # Memory-based collaborative filtering\n",
    "            user_idx = -1\n",
    "\n",
    "            user_row = np.isin(courses, user_input)\n",
    "            uc_mat = vstack([csr, user_row]).tocsr()\n",
    "            # Normalize user-course matrix\n",
    "            norm_uc_mat = uc_mat - uc_mat.mean(axis = 1).reshape(-1,1)\n",
    "\n",
    "            # Cosine similarity of raw matrix\n",
    "            cossim = cosine_similarity(uc_mat)\n",
    "\n",
    "            # Calculate the numerator of V-hat(aj)\n",
    "            v_num = np.dot(cossim[user_idx,:], norm_uc_mat)\n",
    "\n",
    "            # Sum of V-hat(aj) numerator\n",
    "            v_num_sum = v_num.sum(axis = 0)\n",
    "\n",
    "            # V_hat(aj)\n",
    "            v_hat = v_num_sum/(cossim[user_idx,:].sum())\n",
    "\n",
    "            #Predicted rating of each course\n",
    "            pred_rating = np.add(v_hat, uc_mat.mean(axis = 1).reshape(-1,1)[user_idx])\n",
    "\n",
    "            # User vector\n",
    "            user_vec = uc_mat[user_idx].toarray().flatten()\n",
    "\n",
    "            # User's favorite course indices\n",
    "            user_fav_idx = np.argsort(-user_vec)\n",
    "\n",
    "            # User's favorite courses\n",
    "            user_fav = [courses[i] for i in user_fav_idx[:top_n]]\n",
    "            #print(f\"Top {top_n} favorite courses:\")\n",
    "            #print(user_fav)\n",
    "\n",
    "            # Flatten pred_rating\n",
    "            pred_rating = np.asarray(pred_rating).flatten()\n",
    "\n",
    "            # Argsort the rating except the courses taken by the user\n",
    "            recommend_index = np.argsort(-pred_rating[user_vec == 0])\n",
    "\n",
    "            # Recommend top courses\n",
    "            top_courses = [courses[i] for i in recommend_index[:top_n]]\n",
    "\n",
    "            print(f\"Top {top_n} recommended courses:\")\n",
    "            #print(top_courses)\n",
    "\n",
    "            #print()\n",
    "\n",
    "            # RMSE between true & predicted\n",
    "            rmse = np.sqrt(np.sum((user_vec[user_vec != 0] - pred_rating[user_vec != 0]) ** 2))\n",
    "            #print(f\"RMSE = {rmse}\")\n",
    "            \n",
    "            return top_courses, rmse\n",
    "            \n",
    "        else:\n",
    "            return print('At least one of the courses entered not valid.')      "
   ]
  },
  {
   "cell_type": "code",
   "execution_count": 57,
   "metadata": {},
   "outputs": [
    {
     "data": {
      "text/plain": [
       "array(['SLAVI 313', 'CELL 112', 'HISTOR 320', 'HISTOR 227', 'MIDEAS 381',\n",
       "       'WG 297', 'ASIANLA 303', 'LATINOA 315', 'AMA 498', 'MAT 175'],\n",
       "      dtype='<U11')"
      ]
     },
     "execution_count": 57,
     "metadata": {},
     "output_type": "execute_result"
    }
   ],
   "source": [
    "np.random.choice(courses, size = 10, replace = False)"
   ]
  },
  {
   "cell_type": "code",
   "execution_count": 60,
   "metadata": {},
   "outputs": [],
   "source": [
    "user_input = ['SLAVI 313', 'CELL 112', 'HISTOR 320', 'HISTOR 227', 'MIDEAS 381',\n",
    "       'WG 297', 'ASIANLA 303', 'LATINOA 315', 'AMA 498', 'MAT 175']"
   ]
  },
  {
   "cell_type": "code",
   "execution_count": 61,
   "metadata": {},
   "outputs": [
    {
     "name": "stdout",
     "output_type": "stream",
     "text": [
      "Top 10 recommended courses:\n"
     ]
    },
    {
     "data": {
      "text/plain": [
       "(['EECS 367',\n",
       "  'EEC 481',\n",
       "  'EECS 281',\n",
       "  'EEC 280',\n",
       "  'EEC 270',\n",
       "  'MAT 403',\n",
       "  'MAT 422',\n",
       "  'MAT 451',\n",
       "  'MAT 425',\n",
       "  'MAT 480'],\n",
       " 2.352093525317244)"
      ]
     },
     "execution_count": 61,
     "metadata": {},
     "output_type": "execute_result"
    }
   ],
   "source": [
    "memory_based(user_input)"
   ]
  },
  {
   "cell_type": "code",
   "execution_count": null,
   "metadata": {},
   "outputs": [],
   "source": []
  }
 ],
 "metadata": {
  "kernelspec": {
   "display_name": "Python 3",
   "language": "python",
   "name": "python3"
  },
  "language_info": {
   "codemirror_mode": {
    "name": "ipython",
    "version": 3
   },
   "file_extension": ".py",
   "mimetype": "text/x-python",
   "name": "python",
   "nbconvert_exporter": "python",
   "pygments_lexer": "ipython3",
   "version": "3.8.2"
  }
 },
 "nbformat": 4,
 "nbformat_minor": 4
}
