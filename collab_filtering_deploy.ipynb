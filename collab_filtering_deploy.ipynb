{
 "cells": [
  {
   "cell_type": "code",
   "execution_count": 1,
   "metadata": {},
   "outputs": [],
   "source": [
    "import pandas as pd\n",
    "import numpy as np\n",
    "from scipy.sparse import coo_matrix, vstack\n",
    "import pickle\n",
    "import numpy as np\n",
    "from sklearn.metrics.pairwise import cosine_similarity"
   ]
  },
  {
   "cell_type": "code",
   "execution_count": 2,
   "metadata": {},
   "outputs": [],
   "source": [
    "with open('assets/csr.pkl', \"rb\") as fIn:\n",
    "    csr = pickle.load(fIn)\n",
    "    \n",
    "with open('assets/courses.pkl', \"rb\") as fIn:\n",
    "    courses = pickle.load(fIn)\n",
    "\n",
    "df = pd.read_csv('assets/fw.csv')"
   ]
  },
  {
   "cell_type": "code",
   "execution_count": 3,
   "metadata": {},
   "outputs": [],
   "source": [
    "def memory_based(user_input, top_n=10):\n",
    "\n",
    "    if top_n > 10:\n",
    "        print('Please enter the number of requested recommendations fewer than 10.')\n",
    "        pass\n",
    "    \n",
    "    else:\n",
    "\n",
    "        for course in user_input:\n",
    "            if course in courses:\n",
    "                # Memory-based collaborative filtering\n",
    "                user_idx = -1\n",
    "\n",
    "                user_row = np.isin(courses, user_input)\n",
    "                uc_mat = vstack([csr, user_row]).tocsr()\n",
    "                # Normalize user-course matrix\n",
    "                norm_uc_mat = uc_mat - uc_mat.mean(axis = 1).reshape(-1,1)\n",
    "\n",
    "                # Cosine similarity of raw matrix\n",
    "                cossim = cosine_similarity(uc_mat)\n",
    "\n",
    "                # Calculate the numerator of V-hat(aj)\n",
    "                v_num = np.dot(cossim[user_idx,:], norm_uc_mat)\n",
    "\n",
    "                # Sum of V-hat(aj) numerator\n",
    "                v_num_sum = v_num.sum(axis = 0)\n",
    "\n",
    "                # V_hat(aj)\n",
    "                v_hat = v_num_sum/(cossim[user_idx,:].sum())\n",
    "\n",
    "                #Predicted rating of each course\n",
    "                pred_rating = np.add(v_hat, uc_mat.mean(axis = 1).reshape(-1,1)[user_idx])\n",
    "\n",
    "                # User vector\n",
    "                user_vec = uc_mat[user_idx].toarray().flatten()\n",
    "\n",
    "                # User's favorite course indices\n",
    "                user_fav_idx = np.argsort(-user_vec)\n",
    "\n",
    "                # User's favorite courses\n",
    "                user_fav = [courses[i] for i in user_fav_idx[:top_n]]\n",
    "\n",
    "                # Flatten pred_rating\n",
    "                pred_rating = np.asarray(pred_rating).flatten()\n",
    "\n",
    "                # Argsort the rating except the courses taken by the user\n",
    "                recommend_index = np.argsort(-pred_rating[user_vec == 0])\n",
    "\n",
    "                # Recommend top courses\n",
    "                top_courses = [courses[i] for i in recommend_index]\n",
    "\n",
    "                # Get top_n offered courses that are recommended \n",
    "                offered = []\n",
    "                count = 0\n",
    "                for t in top_courses:\n",
    "                    if t in list(df['course']):\n",
    "                        offered.append(t)\n",
    "                        count += 1\n",
    "                        if count >= top_n:\n",
    "                            break\n",
    "\n",
    "                rec_df = df.set_index('course', drop = True)\n",
    "                rec_df = rec_df.loc[offered].reset_index()\n",
    "                rec_df = rec_df[['course', 'Term', 'Subject', 'Course Title', 'description', 'credits', 'requirements_distribution']]\n",
    "\n",
    "                return rec_df\n",
    "\n",
    "            else:\n",
    "                return print('At least one of the courses entered not valid.')      "
   ]
  },
  {
   "cell_type": "code",
   "execution_count": null,
   "metadata": {},
   "outputs": [],
   "source": [
    "user_input = []\n",
    "\n",
    "for i in range(10):\n",
    "    course = input(f'Course {i+1}: Please enter a course you have taken. One course at a time.')\n",
    "    user_input.append(course)"
   ]
  },
  {
   "cell_type": "code",
   "execution_count": null,
   "metadata": {},
   "outputs": [],
   "source": [
    "memory_based(user_input)"
   ]
  },
  {
   "cell_type": "code",
   "execution_count": null,
   "metadata": {},
   "outputs": [],
   "source": []
  }
 ],
 "metadata": {
  "kernelspec": {
   "display_name": "Python 3",
   "language": "python",
   "name": "python3"
  },
  "language_info": {
   "codemirror_mode": {
    "name": "ipython",
    "version": 3
   },
   "file_extension": ".py",
   "mimetype": "text/x-python",
   "name": "python",
   "nbconvert_exporter": "python",
   "pygments_lexer": "ipython3",
   "version": "3.8.2"
  }
 },
 "nbformat": 4,
 "nbformat_minor": 4
}
