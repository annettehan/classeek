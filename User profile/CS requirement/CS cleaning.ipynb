{
 "cells": [
  {
   "cell_type": "code",
   "execution_count": 118,
   "metadata": {
    "id": "iLYy7lX5c4OT"
   },
   "outputs": [],
   "source": [
    "import pandas as pd\n",
    "import numpy as np\n",
    "\n",
    "from collections import defaultdict\n",
    "\n",
    "from easydict import EasyDict"
   ]
  },
  {
   "cell_type": "markdown",
   "metadata": {},
   "source": [
    "### Computer Science Program Major Requirements only"
   ]
  },
  {
   "cell_type": "code",
   "execution_count": 119,
   "metadata": {
    "colab": {
     "base_uri": "https://localhost:8080/",
     "height": 346
    },
    "executionInfo": {
     "elapsed": 242,
     "status": "error",
     "timestamp": 1636055197786,
     "user": {
      "displayName": "Yeseul Kim",
      "photoUrl": "https://lh3.googleusercontent.com/a/default-user=s64",
      "userId": "08638322441438244688"
     },
     "user_tz": 420
    },
    "id": "nWcULKXVc4Oj",
    "outputId": "6522c0a2-186f-4e2e-fa38-5c47b5512f48"
   },
   "outputs": [],
   "source": [
    "df = pd.read_excel('Computer Science Program Major Requirements only.xlsx')"
   ]
  },
  {
   "cell_type": "code",
   "execution_count": 120,
   "metadata": {
    "id": "ci-zksW9c4Ok",
    "outputId": "21014944-4faa-4753-b08a-4269822ac200"
   },
   "outputs": [],
   "source": [
    "df.drop_duplicates(subset=['Subject/Catalog'], inplace=True)\n",
    "df['Subject/Catalog'] = df['Subject/Catalog'].str.strip()\n",
    "df['Subject/Catalog'] = df['Subject/Catalog'].str.replace('  ', ' ')"
   ]
  },
  {
   "cell_type": "code",
   "execution_count": 121,
   "metadata": {},
   "outputs": [
    {
     "data": {
      "text/plain": [
       "Course List Description    object\n",
       "Course ID/ Wildcard        object\n",
       "Subject/Catalog            object\n",
       "Course Title               object\n",
       "Require                    object\n",
       "dtype: object"
      ]
     },
     "execution_count": 121,
     "metadata": {},
     "output_type": "execute_result"
    }
   ],
   "source": [
    "df.dtypes"
   ]
  },
  {
   "cell_type": "code",
   "execution_count": 122,
   "metadata": {},
   "outputs": [],
   "source": [
    "f_21 = pd.read_csv('FA2021.csv')\n",
    "w_22 = pd.read_csv('WN2022.csv')"
   ]
  },
  {
   "cell_type": "code",
   "execution_count": 123,
   "metadata": {},
   "outputs": [],
   "source": [
    "def create_course_col(df):\n",
    "    subject = df['Subject']\n",
    "    df['subject'] = [s[s.find(\"(\")+1:s.find(\")\")] for s in subject]\n",
    "    df['course'] = df['subject'] + df['Catalog Nbr']\n",
    "    df.sort_values(by=['course'], inplace=True)\n",
    "    return df"
   ]
  },
  {
   "cell_type": "code",
   "execution_count": 124,
   "metadata": {
    "tags": []
   },
   "outputs": [
    {
     "data": {
      "text/html": [
       "<div>\n",
       "<style scoped>\n",
       "    .dataframe tbody tr th:only-of-type {\n",
       "        vertical-align: middle;\n",
       "    }\n",
       "\n",
       "    .dataframe tbody tr th {\n",
       "        vertical-align: top;\n",
       "    }\n",
       "\n",
       "    .dataframe thead th {\n",
       "        text-align: right;\n",
       "    }\n",
       "</style>\n",
       "<table border=\"1\" class=\"dataframe\">\n",
       "  <thead>\n",
       "    <tr style=\"text-align: right;\">\n",
       "      <th></th>\n",
       "      <th>Term</th>\n",
       "      <th>Session</th>\n",
       "      <th>Acad Group</th>\n",
       "      <th>Class Nbr</th>\n",
       "      <th>Subject</th>\n",
       "      <th>Catalog Nbr</th>\n",
       "      <th>Section</th>\n",
       "      <th>Course Title</th>\n",
       "      <th>Component</th>\n",
       "      <th>Codes</th>\n",
       "      <th>...</th>\n",
       "      <th>SU</th>\n",
       "      <th>Start Date</th>\n",
       "      <th>End Date</th>\n",
       "      <th>Time</th>\n",
       "      <th>Location</th>\n",
       "      <th>Instructor</th>\n",
       "      <th>Units</th>\n",
       "      <th>Unnamed: 23</th>\n",
       "      <th>subject</th>\n",
       "      <th>course</th>\n",
       "    </tr>\n",
       "  </thead>\n",
       "  <tbody>\n",
       "    <tr>\n",
       "      <th>8092</th>\n",
       "      <td>Winter 2022</td>\n",
       "      <td>Regular Academic Session</td>\n",
       "      <td>Literature, Sci, and the Arts</td>\n",
       "      <td>34814</td>\n",
       "      <td>Afroamerican &amp; African Studies (AAS)</td>\n",
       "      <td>103</td>\n",
       "      <td>4</td>\n",
       "      <td>Social Sci Seminar</td>\n",
       "      <td>SEM</td>\n",
       "      <td>PDR</td>\n",
       "      <td>...</td>\n",
       "      <td>NaN</td>\n",
       "      <td>01/05/2022</td>\n",
       "      <td>04/19/2022</td>\n",
       "      <td>230-4PM</td>\n",
       "      <td>706 BMT</td>\n",
       "      <td>Abdul Khabeer</td>\n",
       "      <td>3.00</td>\n",
       "      <td>NaN</td>\n",
       "      <td>AAS</td>\n",
       "      <td>AAS 103</td>\n",
       "    </tr>\n",
       "    <tr>\n",
       "      <th>8094</th>\n",
       "      <td>Winter 2022</td>\n",
       "      <td>Regular Academic Session</td>\n",
       "      <td>Literature, Sci, and the Arts</td>\n",
       "      <td>36990</td>\n",
       "      <td>Afroamerican &amp; African Studies (AAS)</td>\n",
       "      <td>104</td>\n",
       "      <td>4</td>\n",
       "      <td>Humanities Seminar</td>\n",
       "      <td>SEM</td>\n",
       "      <td>P RW</td>\n",
       "      <td>...</td>\n",
       "      <td>NaN</td>\n",
       "      <td>01/05/2022</td>\n",
       "      <td>04/19/2022</td>\n",
       "      <td>1-4PM</td>\n",
       "      <td>5521 HH</td>\n",
       "      <td>Wells</td>\n",
       "      <td>3.00</td>\n",
       "      <td>NaN</td>\n",
       "      <td>AAS</td>\n",
       "      <td>AAS 104</td>\n",
       "    </tr>\n",
       "    <tr>\n",
       "      <th>8095</th>\n",
       "      <td>Winter 2022</td>\n",
       "      <td>Regular Academic Session</td>\n",
       "      <td>Literature, Sci, and the Arts</td>\n",
       "      <td>37588</td>\n",
       "      <td>Afroamerican &amp; African Studies (AAS)</td>\n",
       "      <td>104</td>\n",
       "      <td>5</td>\n",
       "      <td>Humanities Seminar</td>\n",
       "      <td>SEM</td>\n",
       "      <td>P R</td>\n",
       "      <td>...</td>\n",
       "      <td>NaN</td>\n",
       "      <td>01/05/2022</td>\n",
       "      <td>04/19/2022</td>\n",
       "      <td>1130-1PM</td>\n",
       "      <td>1060 EH</td>\n",
       "      <td>Ekotto</td>\n",
       "      <td>3.00</td>\n",
       "      <td>NaN</td>\n",
       "      <td>AAS</td>\n",
       "      <td>AAS 104</td>\n",
       "    </tr>\n",
       "    <tr>\n",
       "      <th>8093</th>\n",
       "      <td>Winter 2022</td>\n",
       "      <td>Regular Academic Session</td>\n",
       "      <td>Literature, Sci, and the Arts</td>\n",
       "      <td>26479</td>\n",
       "      <td>Afroamerican &amp; African Studies (AAS)</td>\n",
       "      <td>104</td>\n",
       "      <td>3</td>\n",
       "      <td>Humanities Seminar</td>\n",
       "      <td>SEM</td>\n",
       "      <td>P RW</td>\n",
       "      <td>...</td>\n",
       "      <td>NaN</td>\n",
       "      <td>01/05/2022</td>\n",
       "      <td>04/19/2022</td>\n",
       "      <td>10-1130AM</td>\n",
       "      <td>2402 MLB</td>\n",
       "      <td>Santamarina</td>\n",
       "      <td>3.00</td>\n",
       "      <td>NaN</td>\n",
       "      <td>AAS</td>\n",
       "      <td>AAS 104</td>\n",
       "    </tr>\n",
       "    <tr>\n",
       "      <th>8096</th>\n",
       "      <td>Winter 2022</td>\n",
       "      <td>Regular Academic Session</td>\n",
       "      <td>Literature, Sci, and the Arts</td>\n",
       "      <td>19498</td>\n",
       "      <td>Afroamerican &amp; African Studies (AAS)</td>\n",
       "      <td>116</td>\n",
       "      <td>2</td>\n",
       "      <td>Swahili II</td>\n",
       "      <td>REC</td>\n",
       "      <td>P  W</td>\n",
       "      <td>...</td>\n",
       "      <td>NaN</td>\n",
       "      <td>01/05/2022</td>\n",
       "      <td>04/19/2022</td>\n",
       "      <td>9-10AM</td>\n",
       "      <td>1460 MH</td>\n",
       "      <td>Mwipopo</td>\n",
       "      <td>4.00</td>\n",
       "      <td>NaN</td>\n",
       "      <td>AAS</td>\n",
       "      <td>AAS 116</td>\n",
       "    </tr>\n",
       "    <tr>\n",
       "      <th>...</th>\n",
       "      <td>...</td>\n",
       "      <td>...</td>\n",
       "      <td>...</td>\n",
       "      <td>...</td>\n",
       "      <td>...</td>\n",
       "      <td>...</td>\n",
       "      <td>...</td>\n",
       "      <td>...</td>\n",
       "      <td>...</td>\n",
       "      <td>...</td>\n",
       "      <td>...</td>\n",
       "      <td>...</td>\n",
       "      <td>...</td>\n",
       "      <td>...</td>\n",
       "      <td>...</td>\n",
       "      <td>...</td>\n",
       "      <td>...</td>\n",
       "      <td>...</td>\n",
       "      <td>...</td>\n",
       "      <td>...</td>\n",
       "      <td>...</td>\n",
       "    </tr>\n",
       "    <tr>\n",
       "      <th>11216</th>\n",
       "      <td>Winter 2022</td>\n",
       "      <td>Regular Academic Session</td>\n",
       "      <td>Literature, Sci, and the Arts</td>\n",
       "      <td>27995</td>\n",
       "      <td>Yiddish (YIDDISH)</td>\n",
       "      <td>432</td>\n",
       "      <td>1</td>\n",
       "      <td>Beg Yiddish 2-Grad</td>\n",
       "      <td>REC</td>\n",
       "      <td>P  W</td>\n",
       "      <td>...</td>\n",
       "      <td>NaN</td>\n",
       "      <td>01/05/2022</td>\n",
       "      <td>04/19/2022</td>\n",
       "      <td>1-230PM</td>\n",
       "      <td>3205 MLB</td>\n",
       "      <td>NaN</td>\n",
       "      <td>4.00</td>\n",
       "      <td>NaN</td>\n",
       "      <td>YIDDISH</td>\n",
       "      <td>YIDDISH 432</td>\n",
       "    </tr>\n",
       "    <tr>\n",
       "      <th>11217</th>\n",
       "      <td>Winter 2022</td>\n",
       "      <td>Regular Academic Session</td>\n",
       "      <td>Literature, Sci, and the Arts</td>\n",
       "      <td>27995</td>\n",
       "      <td>Yiddish (YIDDISH)</td>\n",
       "      <td>432</td>\n",
       "      <td>1</td>\n",
       "      <td>Beg Yiddish 2-Grad</td>\n",
       "      <td>REC</td>\n",
       "      <td>P  W</td>\n",
       "      <td>...</td>\n",
       "      <td>NaN</td>\n",
       "      <td>01/05/2022</td>\n",
       "      <td>04/19/2022</td>\n",
       "      <td>1-230PM</td>\n",
       "      <td>3205 MLB</td>\n",
       "      <td>Luchina</td>\n",
       "      <td>4.00</td>\n",
       "      <td>NaN</td>\n",
       "      <td>YIDDISH</td>\n",
       "      <td>YIDDISH 432</td>\n",
       "    </tr>\n",
       "    <tr>\n",
       "      <th>11219</th>\n",
       "      <td>Winter 2022</td>\n",
       "      <td>Regular Academic Session</td>\n",
       "      <td>Literature, Sci, and the Arts</td>\n",
       "      <td>27996</td>\n",
       "      <td>Yiddish (YIDDISH)</td>\n",
       "      <td>532</td>\n",
       "      <td>1</td>\n",
       "      <td>Int Yiddish 2-Grad</td>\n",
       "      <td>REC</td>\n",
       "      <td>P  W</td>\n",
       "      <td>...</td>\n",
       "      <td>NaN</td>\n",
       "      <td>01/05/2022</td>\n",
       "      <td>04/19/2022</td>\n",
       "      <td>4-530PM</td>\n",
       "      <td>3205 MLB</td>\n",
       "      <td>NaN</td>\n",
       "      <td>4.00</td>\n",
       "      <td>NaN</td>\n",
       "      <td>YIDDISH</td>\n",
       "      <td>YIDDISH 532</td>\n",
       "    </tr>\n",
       "    <tr>\n",
       "      <th>11220</th>\n",
       "      <td>Winter 2022</td>\n",
       "      <td>Regular Academic Session</td>\n",
       "      <td>Literature, Sci, and the Arts</td>\n",
       "      <td>27996</td>\n",
       "      <td>Yiddish (YIDDISH)</td>\n",
       "      <td>532</td>\n",
       "      <td>1</td>\n",
       "      <td>Int Yiddish 2-Grad</td>\n",
       "      <td>REC</td>\n",
       "      <td>P  W</td>\n",
       "      <td>...</td>\n",
       "      <td>NaN</td>\n",
       "      <td>01/05/2022</td>\n",
       "      <td>04/19/2022</td>\n",
       "      <td>4-530PM</td>\n",
       "      <td>3205 MLB</td>\n",
       "      <td>Luchina</td>\n",
       "      <td>4.00</td>\n",
       "      <td>NaN</td>\n",
       "      <td>YIDDISH</td>\n",
       "      <td>YIDDISH 532</td>\n",
       "    </tr>\n",
       "    <tr>\n",
       "      <th>11218</th>\n",
       "      <td>Winter 2022</td>\n",
       "      <td>Regular Academic Session</td>\n",
       "      <td>Literature, Sci, and the Arts</td>\n",
       "      <td>27996</td>\n",
       "      <td>Yiddish (YIDDISH)</td>\n",
       "      <td>532</td>\n",
       "      <td>1</td>\n",
       "      <td>Int Yiddish 2-Grad</td>\n",
       "      <td>REC</td>\n",
       "      <td>P  W</td>\n",
       "      <td>...</td>\n",
       "      <td>NaN</td>\n",
       "      <td>01/05/2022</td>\n",
       "      <td>04/19/2022</td>\n",
       "      <td>4-5PM</td>\n",
       "      <td>3205 MLB</td>\n",
       "      <td>NaN</td>\n",
       "      <td>4.00</td>\n",
       "      <td>NaN</td>\n",
       "      <td>YIDDISH</td>\n",
       "      <td>YIDDISH 532</td>\n",
       "    </tr>\n",
       "  </tbody>\n",
       "</table>\n",
       "<p>22906 rows × 26 columns</p>\n",
       "</div>"
      ],
      "text/plain": [
       "              Term                   Session                     Acad Group  \\\n",
       "8092   Winter 2022  Regular Academic Session  Literature, Sci, and the Arts   \n",
       "8094   Winter 2022  Regular Academic Session  Literature, Sci, and the Arts   \n",
       "8095   Winter 2022  Regular Academic Session  Literature, Sci, and the Arts   \n",
       "8093   Winter 2022  Regular Academic Session  Literature, Sci, and the Arts   \n",
       "8096   Winter 2022  Regular Academic Session  Literature, Sci, and the Arts   \n",
       "...            ...                       ...                            ...   \n",
       "11216  Winter 2022  Regular Academic Session  Literature, Sci, and the Arts   \n",
       "11217  Winter 2022  Regular Academic Session  Literature, Sci, and the Arts   \n",
       "11219  Winter 2022  Regular Academic Session  Literature, Sci, and the Arts   \n",
       "11220  Winter 2022  Regular Academic Session  Literature, Sci, and the Arts   \n",
       "11218  Winter 2022  Regular Academic Session  Literature, Sci, and the Arts   \n",
       "\n",
       "       Class Nbr                               Subject Catalog Nbr  Section  \\\n",
       "8092       34814  Afroamerican & African Studies (AAS)         103        4   \n",
       "8094       36990  Afroamerican & African Studies (AAS)         104        4   \n",
       "8095       37588  Afroamerican & African Studies (AAS)         104        5   \n",
       "8093       26479  Afroamerican & African Studies (AAS)         104        3   \n",
       "8096       19498  Afroamerican & African Studies (AAS)         116        2   \n",
       "...          ...                                   ...         ...      ...   \n",
       "11216      27995                     Yiddish (YIDDISH)         432        1   \n",
       "11217      27995                     Yiddish (YIDDISH)         432        1   \n",
       "11219      27996                     Yiddish (YIDDISH)         532        1   \n",
       "11220      27996                     Yiddish (YIDDISH)         532        1   \n",
       "11218      27996                     Yiddish (YIDDISH)         532        1   \n",
       "\n",
       "             Course Title Component Codes  ...   SU  Start Date    End Date  \\\n",
       "8092   Social Sci Seminar       SEM  PDR   ...  NaN  01/05/2022  04/19/2022   \n",
       "8094   Humanities Seminar       SEM  P RW  ...  NaN  01/05/2022  04/19/2022   \n",
       "8095   Humanities Seminar       SEM  P R   ...  NaN  01/05/2022  04/19/2022   \n",
       "8093   Humanities Seminar       SEM  P RW  ...  NaN  01/05/2022  04/19/2022   \n",
       "8096           Swahili II       REC  P  W  ...  NaN  01/05/2022  04/19/2022   \n",
       "...                   ...       ...   ...  ...  ...         ...         ...   \n",
       "11216  Beg Yiddish 2-Grad       REC  P  W  ...  NaN  01/05/2022  04/19/2022   \n",
       "11217  Beg Yiddish 2-Grad       REC  P  W  ...  NaN  01/05/2022  04/19/2022   \n",
       "11219  Int Yiddish 2-Grad       REC  P  W  ...  NaN  01/05/2022  04/19/2022   \n",
       "11220  Int Yiddish 2-Grad       REC  P  W  ...  NaN  01/05/2022  04/19/2022   \n",
       "11218  Int Yiddish 2-Grad       REC  P  W  ...  NaN  01/05/2022  04/19/2022   \n",
       "\n",
       "            Time  Location     Instructor Units Unnamed: 23  subject  \\\n",
       "8092     230-4PM   706 BMT  Abdul Khabeer  3.00         NaN      AAS   \n",
       "8094       1-4PM   5521 HH          Wells  3.00         NaN      AAS   \n",
       "8095    1130-1PM   1060 EH         Ekotto  3.00         NaN      AAS   \n",
       "8093   10-1130AM  2402 MLB    Santamarina  3.00         NaN      AAS   \n",
       "8096      9-10AM   1460 MH        Mwipopo  4.00         NaN      AAS   \n",
       "...          ...       ...            ...   ...         ...      ...   \n",
       "11216    1-230PM  3205 MLB            NaN  4.00         NaN  YIDDISH   \n",
       "11217    1-230PM  3205 MLB        Luchina  4.00         NaN  YIDDISH   \n",
       "11219    4-530PM  3205 MLB            NaN  4.00         NaN  YIDDISH   \n",
       "11220    4-530PM  3205 MLB        Luchina  4.00         NaN  YIDDISH   \n",
       "11218      4-5PM  3205 MLB            NaN  4.00         NaN  YIDDISH   \n",
       "\n",
       "            course  \n",
       "8092       AAS 103  \n",
       "8094       AAS 104  \n",
       "8095       AAS 104  \n",
       "8093       AAS 104  \n",
       "8096       AAS 116  \n",
       "...            ...  \n",
       "11216  YIDDISH 432  \n",
       "11217  YIDDISH 432  \n",
       "11219  YIDDISH 532  \n",
       "11220  YIDDISH 532  \n",
       "11218  YIDDISH 532  \n",
       "\n",
       "[22906 rows x 26 columns]"
      ]
     },
     "execution_count": 124,
     "metadata": {},
     "output_type": "execute_result"
    }
   ],
   "source": [
    "create_course_col(f_21)\n",
    "create_course_col(w_22)"
   ]
  },
  {
   "cell_type": "code",
   "execution_count": 125,
   "metadata": {},
   "outputs": [
    {
     "data": {
      "text/plain": [
       "Index(['Term', 'Session', 'Acad Group', 'Class Nbr', 'Subject', 'Catalog Nbr',\n",
       "       'Section', 'Course Title', 'Component', 'Codes', 'M', 'T', 'W', 'TH',\n",
       "       'F', 'S', 'SU', 'Start Date', 'End Date', 'Time', 'Location',\n",
       "       'Instructor', 'Units', 'Unnamed: 23', 'subject', 'course'],\n",
       "      dtype='object')"
      ]
     },
     "execution_count": 125,
     "metadata": {},
     "output_type": "execute_result"
    }
   ],
   "source": [
    "f_21.columns"
   ]
  },
  {
   "cell_type": "code",
   "execution_count": 126,
   "metadata": {},
   "outputs": [],
   "source": [
    "df = df.merge(f_21[['Units', 'course']], left_on=['Subject/Catalog'], right_on=['course'], how='left')"
   ]
  },
  {
   "cell_type": "code",
   "execution_count": 127,
   "metadata": {},
   "outputs": [],
   "source": [
    "df = df.merge(w_22[['Units', 'course']], left_on=['Subject/Catalog'], right_on=['course'], how='left')"
   ]
  },
  {
   "cell_type": "code",
   "execution_count": 128,
   "metadata": {},
   "outputs": [],
   "source": [
    "df.drop_duplicates(subset=['Subject/Catalog'], inplace=True)"
   ]
  },
  {
   "cell_type": "code",
   "execution_count": 129,
   "metadata": {},
   "outputs": [],
   "source": [
    "df = df.reset_index().drop(columns='index')"
   ]
  },
  {
   "cell_type": "code",
   "execution_count": 130,
   "metadata": {
    "tags": []
   },
   "outputs": [
    {
     "data": {
      "text/html": [
       "<div>\n",
       "<style scoped>\n",
       "    .dataframe tbody tr th:only-of-type {\n",
       "        vertical-align: middle;\n",
       "    }\n",
       "\n",
       "    .dataframe tbody tr th {\n",
       "        vertical-align: top;\n",
       "    }\n",
       "\n",
       "    .dataframe thead th {\n",
       "        text-align: right;\n",
       "    }\n",
       "</style>\n",
       "<table border=\"1\" class=\"dataframe\">\n",
       "  <thead>\n",
       "    <tr style=\"text-align: right;\">\n",
       "      <th></th>\n",
       "      <th>Course List Description</th>\n",
       "      <th>Course ID/ Wildcard</th>\n",
       "      <th>Subject/Catalog</th>\n",
       "      <th>Course Title</th>\n",
       "      <th>Require</th>\n",
       "      <th>Units_x</th>\n",
       "      <th>course_x</th>\n",
       "      <th>Units_y</th>\n",
       "      <th>course_y</th>\n",
       "    </tr>\n",
       "  </thead>\n",
       "  <tbody>\n",
       "    <tr>\n",
       "      <th>0</th>\n",
       "      <td>CS-LSA major declaration Cal I</td>\n",
       "      <td>1794</td>\n",
       "      <td>MATH 115</td>\n",
       "      <td>Calculus I</td>\n",
       "      <td>One</td>\n",
       "      <td>4.00</td>\n",
       "      <td>MATH 115</td>\n",
       "      <td>4.00</td>\n",
       "      <td>MATH 115</td>\n",
       "    </tr>\n",
       "    <tr>\n",
       "      <th>1</th>\n",
       "      <td>CS-LSA major declaration Cal I</td>\n",
       "      <td>21317</td>\n",
       "      <td>MATH 120</td>\n",
       "      <td>Exam Calc Credit I</td>\n",
       "      <td>One</td>\n",
       "      <td>NaN</td>\n",
       "      <td>NaN</td>\n",
       "      <td>NaN</td>\n",
       "      <td>NaN</td>\n",
       "    </tr>\n",
       "    <tr>\n",
       "      <th>2</th>\n",
       "      <td>CS-LSA major declaration Cal I</td>\n",
       "      <td>5723</td>\n",
       "      <td>MATH 185</td>\n",
       "      <td>Honors Calc I</td>\n",
       "      <td>One</td>\n",
       "      <td>4.00</td>\n",
       "      <td>MATH 185</td>\n",
       "      <td>NaN</td>\n",
       "      <td>NaN</td>\n",
       "    </tr>\n",
       "    <tr>\n",
       "      <th>3</th>\n",
       "      <td>CS-LSA major declaration Cal I</td>\n",
       "      <td>5725</td>\n",
       "      <td>MATH 295</td>\n",
       "      <td>Honors Math I</td>\n",
       "      <td>One</td>\n",
       "      <td>4.00</td>\n",
       "      <td>MATH 295</td>\n",
       "      <td>NaN</td>\n",
       "      <td>NaN</td>\n",
       "    </tr>\n",
       "    <tr>\n",
       "      <th>4</th>\n",
       "      <td>CS-LSA major declaration Cal II</td>\n",
       "      <td>21318</td>\n",
       "      <td>MATH 121</td>\n",
       "      <td>Exam Calc Credit II</td>\n",
       "      <td>One</td>\n",
       "      <td>NaN</td>\n",
       "      <td>NaN</td>\n",
       "      <td>NaN</td>\n",
       "      <td>NaN</td>\n",
       "    </tr>\n",
       "    <tr>\n",
       "      <th>...</th>\n",
       "      <td>...</td>\n",
       "      <td>...</td>\n",
       "      <td>...</td>\n",
       "      <td>...</td>\n",
       "      <td>...</td>\n",
       "      <td>...</td>\n",
       "      <td>...</td>\n",
       "      <td>...</td>\n",
       "      <td>...</td>\n",
       "    </tr>\n",
       "    <tr>\n",
       "      <th>87</th>\n",
       "      <td>Computer Science Capstone</td>\n",
       "      <td>45440</td>\n",
       "      <td>EECS 443</td>\n",
       "      <td>Senior Thesis</td>\n",
       "      <td>One</td>\n",
       "      <td>3.00</td>\n",
       "      <td>EECS 443</td>\n",
       "      <td>3.00</td>\n",
       "      <td>EECS 443</td>\n",
       "    </tr>\n",
       "    <tr>\n",
       "      <th>88</th>\n",
       "      <td>Computer Science Capstone</td>\n",
       "      <td>44359</td>\n",
       "      <td>EECS 441</td>\n",
       "      <td>Mbl App Dev Entrprnr</td>\n",
       "      <td>One</td>\n",
       "      <td>4.00</td>\n",
       "      <td>EECS 441</td>\n",
       "      <td>4.00</td>\n",
       "      <td>EECS 441</td>\n",
       "    </tr>\n",
       "    <tr>\n",
       "      <th>89</th>\n",
       "      <td>Computer Science Capstone</td>\n",
       "      <td>45917</td>\n",
       "      <td>EECS 473</td>\n",
       "      <td>Adv Embedded Sys</td>\n",
       "      <td>One</td>\n",
       "      <td>4.00</td>\n",
       "      <td>EECS 473</td>\n",
       "      <td>NaN</td>\n",
       "      <td>NaN</td>\n",
       "    </tr>\n",
       "    <tr>\n",
       "      <th>90</th>\n",
       "      <td>Computer Science Capstone</td>\n",
       "      <td>48402</td>\n",
       "      <td>EECS 495</td>\n",
       "      <td>Software for Access</td>\n",
       "      <td>One</td>\n",
       "      <td>4.00</td>\n",
       "      <td>EECS 495</td>\n",
       "      <td>NaN</td>\n",
       "      <td>NaN</td>\n",
       "    </tr>\n",
       "    <tr>\n",
       "      <th>91</th>\n",
       "      <td>Computer Science Capstone</td>\n",
       "      <td>12129</td>\n",
       "      <td>EECS 398</td>\n",
       "      <td>Special Topics</td>\n",
       "      <td>One</td>\n",
       "      <td>NaN</td>\n",
       "      <td>NaN</td>\n",
       "      <td>NaN</td>\n",
       "      <td>NaN</td>\n",
       "    </tr>\n",
       "  </tbody>\n",
       "</table>\n",
       "<p>92 rows × 9 columns</p>\n",
       "</div>"
      ],
      "text/plain": [
       "            Course List Description Course ID/ Wildcard Subject/Catalog  \\\n",
       "0    CS-LSA major declaration Cal I                1794        MATH 115   \n",
       "1    CS-LSA major declaration Cal I               21317        MATH 120   \n",
       "2    CS-LSA major declaration Cal I                5723        MATH 185   \n",
       "3    CS-LSA major declaration Cal I                5725        MATH 295   \n",
       "4   CS-LSA major declaration Cal II               21318        MATH 121   \n",
       "..                              ...                 ...             ...   \n",
       "87        Computer Science Capstone               45440        EECS 443   \n",
       "88        Computer Science Capstone               44359        EECS 441   \n",
       "89        Computer Science Capstone               45917        EECS 473   \n",
       "90        Computer Science Capstone               48402        EECS 495   \n",
       "91        Computer Science Capstone               12129        EECS 398   \n",
       "\n",
       "            Course Title Require Units_x  course_x Units_y  course_y  \n",
       "0             Calculus I     One    4.00  MATH 115    4.00  MATH 115  \n",
       "1     Exam Calc Credit I     One     NaN       NaN     NaN       NaN  \n",
       "2          Honors Calc I     One    4.00  MATH 185     NaN       NaN  \n",
       "3          Honors Math I     One    4.00  MATH 295     NaN       NaN  \n",
       "4    Exam Calc Credit II     One     NaN       NaN     NaN       NaN  \n",
       "..                   ...     ...     ...       ...     ...       ...  \n",
       "87         Senior Thesis     One    3.00  EECS 443    3.00  EECS 443  \n",
       "88  Mbl App Dev Entrprnr     One    4.00  EECS 441    4.00  EECS 441  \n",
       "89      Adv Embedded Sys     One    4.00  EECS 473     NaN       NaN  \n",
       "90   Software for Access     One    4.00  EECS 495     NaN       NaN  \n",
       "91        Special Topics     One     NaN       NaN     NaN       NaN  \n",
       "\n",
       "[92 rows x 9 columns]"
      ]
     },
     "execution_count": 130,
     "metadata": {},
     "output_type": "execute_result"
    }
   ],
   "source": [
    "df"
   ]
  },
  {
   "cell_type": "code",
   "execution_count": 131,
   "metadata": {},
   "outputs": [],
   "source": [
    "df.rename(columns={'Units_x': 'Credits'}, inplace=True)"
   ]
  },
  {
   "cell_type": "code",
   "execution_count": 132,
   "metadata": {},
   "outputs": [],
   "source": [
    "df.drop(columns=['course_x', 'course_y', 'Units_y'], inplace=True)"
   ]
  },
  {
   "cell_type": "code",
   "execution_count": 133,
   "metadata": {},
   "outputs": [],
   "source": [
    "df['Credits'] = pd.to_numeric(df['Credits'], errors='coerce')"
   ]
  },
  {
   "cell_type": "code",
   "execution_count": 134,
   "metadata": {},
   "outputs": [],
   "source": [
    "df['Credits'] = df.groupby('Course List Description')['Credits'].transform(lambda x: x.fillna(x.median()))"
   ]
  },
  {
   "cell_type": "code",
   "execution_count": 135,
   "metadata": {},
   "outputs": [],
   "source": [
    "df.to_csv('Computer Science Program Major Requirements only.csv', index=False)"
   ]
  },
  {
   "cell_type": "code",
   "execution_count": 136,
   "metadata": {},
   "outputs": [],
   "source": [
    "# df.to_clipboard()"
   ]
  },
  {
   "cell_type": "code",
   "execution_count": 137,
   "metadata": {},
   "outputs": [
    {
     "data": {
      "text/html": [
       "<div>\n",
       "<style scoped>\n",
       "    .dataframe tbody tr th:only-of-type {\n",
       "        vertical-align: middle;\n",
       "    }\n",
       "\n",
       "    .dataframe tbody tr th {\n",
       "        vertical-align: top;\n",
       "    }\n",
       "\n",
       "    .dataframe thead th {\n",
       "        text-align: right;\n",
       "    }\n",
       "</style>\n",
       "<table border=\"1\" class=\"dataframe\">\n",
       "  <thead>\n",
       "    <tr style=\"text-align: right;\">\n",
       "      <th></th>\n",
       "      <th>Course List Description</th>\n",
       "      <th>Course ID/ Wildcard</th>\n",
       "      <th>Subject/Catalog</th>\n",
       "      <th>Course Title</th>\n",
       "      <th>Require</th>\n",
       "      <th>Credits</th>\n",
       "    </tr>\n",
       "  </thead>\n",
       "  <tbody>\n",
       "    <tr>\n",
       "      <th>0</th>\n",
       "      <td>CS-LSA major declaration Cal I</td>\n",
       "      <td>1794</td>\n",
       "      <td>MATH 115</td>\n",
       "      <td>Calculus I</td>\n",
       "      <td>One</td>\n",
       "      <td>4.0</td>\n",
       "    </tr>\n",
       "    <tr>\n",
       "      <th>1</th>\n",
       "      <td>CS-LSA major declaration Cal I</td>\n",
       "      <td>21317</td>\n",
       "      <td>MATH 120</td>\n",
       "      <td>Exam Calc Credit I</td>\n",
       "      <td>One</td>\n",
       "      <td>4.0</td>\n",
       "    </tr>\n",
       "    <tr>\n",
       "      <th>2</th>\n",
       "      <td>CS-LSA major declaration Cal I</td>\n",
       "      <td>5723</td>\n",
       "      <td>MATH 185</td>\n",
       "      <td>Honors Calc I</td>\n",
       "      <td>One</td>\n",
       "      <td>4.0</td>\n",
       "    </tr>\n",
       "    <tr>\n",
       "      <th>3</th>\n",
       "      <td>CS-LSA major declaration Cal I</td>\n",
       "      <td>5725</td>\n",
       "      <td>MATH 295</td>\n",
       "      <td>Honors Math I</td>\n",
       "      <td>One</td>\n",
       "      <td>4.0</td>\n",
       "    </tr>\n",
       "    <tr>\n",
       "      <th>4</th>\n",
       "      <td>CS-LSA major declaration Cal II</td>\n",
       "      <td>21318</td>\n",
       "      <td>MATH 121</td>\n",
       "      <td>Exam Calc Credit II</td>\n",
       "      <td>One</td>\n",
       "      <td>4.0</td>\n",
       "    </tr>\n",
       "    <tr>\n",
       "      <th>...</th>\n",
       "      <td>...</td>\n",
       "      <td>...</td>\n",
       "      <td>...</td>\n",
       "      <td>...</td>\n",
       "      <td>...</td>\n",
       "      <td>...</td>\n",
       "    </tr>\n",
       "    <tr>\n",
       "      <th>87</th>\n",
       "      <td>Computer Science Capstone</td>\n",
       "      <td>45440</td>\n",
       "      <td>EECS 443</td>\n",
       "      <td>Senior Thesis</td>\n",
       "      <td>One</td>\n",
       "      <td>3.0</td>\n",
       "    </tr>\n",
       "    <tr>\n",
       "      <th>88</th>\n",
       "      <td>Computer Science Capstone</td>\n",
       "      <td>44359</td>\n",
       "      <td>EECS 441</td>\n",
       "      <td>Mbl App Dev Entrprnr</td>\n",
       "      <td>One</td>\n",
       "      <td>4.0</td>\n",
       "    </tr>\n",
       "    <tr>\n",
       "      <th>89</th>\n",
       "      <td>Computer Science Capstone</td>\n",
       "      <td>45917</td>\n",
       "      <td>EECS 473</td>\n",
       "      <td>Adv Embedded Sys</td>\n",
       "      <td>One</td>\n",
       "      <td>4.0</td>\n",
       "    </tr>\n",
       "    <tr>\n",
       "      <th>90</th>\n",
       "      <td>Computer Science Capstone</td>\n",
       "      <td>48402</td>\n",
       "      <td>EECS 495</td>\n",
       "      <td>Software for Access</td>\n",
       "      <td>One</td>\n",
       "      <td>4.0</td>\n",
       "    </tr>\n",
       "    <tr>\n",
       "      <th>91</th>\n",
       "      <td>Computer Science Capstone</td>\n",
       "      <td>12129</td>\n",
       "      <td>EECS 398</td>\n",
       "      <td>Special Topics</td>\n",
       "      <td>One</td>\n",
       "      <td>4.0</td>\n",
       "    </tr>\n",
       "  </tbody>\n",
       "</table>\n",
       "<p>92 rows × 6 columns</p>\n",
       "</div>"
      ],
      "text/plain": [
       "            Course List Description Course ID/ Wildcard Subject/Catalog  \\\n",
       "0    CS-LSA major declaration Cal I                1794        MATH 115   \n",
       "1    CS-LSA major declaration Cal I               21317        MATH 120   \n",
       "2    CS-LSA major declaration Cal I                5723        MATH 185   \n",
       "3    CS-LSA major declaration Cal I                5725        MATH 295   \n",
       "4   CS-LSA major declaration Cal II               21318        MATH 121   \n",
       "..                              ...                 ...             ...   \n",
       "87        Computer Science Capstone               45440        EECS 443   \n",
       "88        Computer Science Capstone               44359        EECS 441   \n",
       "89        Computer Science Capstone               45917        EECS 473   \n",
       "90        Computer Science Capstone               48402        EECS 495   \n",
       "91        Computer Science Capstone               12129        EECS 398   \n",
       "\n",
       "            Course Title Require  Credits  \n",
       "0             Calculus I     One      4.0  \n",
       "1     Exam Calc Credit I     One      4.0  \n",
       "2          Honors Calc I     One      4.0  \n",
       "3          Honors Math I     One      4.0  \n",
       "4    Exam Calc Credit II     One      4.0  \n",
       "..                   ...     ...      ...  \n",
       "87         Senior Thesis     One      3.0  \n",
       "88  Mbl App Dev Entrprnr     One      4.0  \n",
       "89      Adv Embedded Sys     One      4.0  \n",
       "90   Software for Access     One      4.0  \n",
       "91        Special Topics     One      4.0  \n",
       "\n",
       "[92 rows x 6 columns]"
      ]
     },
     "execution_count": 137,
     "metadata": {},
     "output_type": "execute_result"
    }
   ],
   "source": [
    "df"
   ]
  },
  {
   "cell_type": "code",
   "execution_count": 138,
   "metadata": {},
   "outputs": [],
   "source": [
    "# cs_df = df.set_index('Subject/Catalog', drop=False)"
   ]
  },
  {
   "cell_type": "code",
   "execution_count": null,
   "metadata": {},
   "outputs": [],
   "source": []
  },
  {
   "cell_type": "markdown",
   "metadata": {},
   "source": [
    "### Class Standing\n",
    "\n",
    "Class standing is determined by the number of credits earned toward a degree:\n",
    "\n",
    "First Year:\n",
    "- Fewer than 25 credits\n",
    "\n",
    "Sophomore:\n",
    "- 25 through 54 credits\n",
    "\n",
    "Junior:\n",
    "- 55 through 84 credits\n",
    "\n",
    "Senior:\n",
    "- 85 credits or more"
   ]
  },
  {
   "cell_type": "code",
   "execution_count": 159,
   "metadata": {},
   "outputs": [],
   "source": [
    "req_order = df['Course List Description'].unique()"
   ]
  },
  {
   "cell_type": "code",
   "execution_count": 160,
   "metadata": {},
   "outputs": [
    {
     "data": {
      "text/plain": [
       "array(['CS-LSA major declaration Cal I',\n",
       "       'CS-LSA major declaration Cal II', 'CS-LSA major declaration ',\n",
       "       'Core Probability', 'Core CS',\n",
       "       'Upper Level CS Technical Electives (ULCS) ',\n",
       "       'Computer Science Capstone'], dtype=object)"
      ]
     },
     "execution_count": 160,
     "metadata": {},
     "output_type": "execute_result"
    }
   ],
   "source": [
    "req_order"
   ]
  },
  {
   "cell_type": "code",
   "execution_count": 172,
   "metadata": {},
   "outputs": [],
   "source": [
    "calI = df[df['Course List Description'] == 'CS-LSA major declaration Cal I']['Subject/Catalog'].tolist()"
   ]
  },
  {
   "cell_type": "code",
   "execution_count": 169,
   "metadata": {},
   "outputs": [],
   "source": [
    "rng = np.random.default_rng(seed=1)"
   ]
  },
  {
   "cell_type": "code",
   "execution_count": null,
   "metadata": {},
   "outputs": [],
   "source": [
    "deg_keys = list(req_d.keys())\n",
    "deg_keys_taken = rng.choice(deg_keys)\n",
    "\n",
    "while total_credits < n_credits:\n",
    "    deg_key = rng.choice(deg_keys, size=1, replacement=False)"
   ]
  },
  {
   "cell_type": "code",
   "execution_count": null,
   "metadata": {},
   "outputs": [],
   "source": [
    "df"
   ]
  },
  {
   "cell_type": "code",
   "execution_count": null,
   "metadata": {},
   "outputs": [],
   "source": []
  },
  {
   "cell_type": "code",
   "execution_count": 187,
   "metadata": {},
   "outputs": [],
   "source": [
    "calI_course = rng.choice(calI, size=1, replace=False)\n",
    "calI_credit = df[df['Subject/Catalog'] == calI_course[0]]['Credits']"
   ]
  },
  {
   "cell_type": "code",
   "execution_count": 180,
   "metadata": {},
   "outputs": [
    {
     "data": {
      "text/plain": [
       "'MATH 185'"
      ]
     },
     "execution_count": 180,
     "metadata": {},
     "output_type": "execute_result"
    }
   ],
   "source": [
    "calI_course[0]"
   ]
  },
  {
   "cell_type": "code",
   "execution_count": 186,
   "metadata": {},
   "outputs": [
    {
     "data": {
      "text/plain": [
       "2    4.0\n",
       "Name: Credits, dtype: float64"
      ]
     },
     "execution_count": 186,
     "metadata": {},
     "output_type": "execute_result"
    }
   ],
   "source": [
    "total_credits = total_credits + calI_credit"
   ]
  },
  {
   "cell_type": "code",
   "execution_count": 194,
   "metadata": {},
   "outputs": [],
   "source": [
    "total_credits = 0\n",
    "courses_taken = []\n",
    "\n",
    "if total_credits < 50:\n",
    "    calI_course = rng.choice(calI, size=1, replace=False)\n",
    "    calI_credit = df[df['Subject/Catalog'] == calI_course[0]]['Credits']\n",
    "    courses_taken.append(calI_course)\n",
    "    "
   ]
  },
  {
   "cell_type": "code",
   "execution_count": 195,
   "metadata": {},
   "outputs": [
    {
     "data": {
      "text/plain": [
       "0    4.0\n",
       "Name: Credits, dtype: float64"
      ]
     },
     "execution_count": 195,
     "metadata": {},
     "output_type": "execute_result"
    }
   ],
   "source": [
    "total_credits"
   ]
  },
  {
   "cell_type": "code",
   "execution_count": 196,
   "metadata": {},
   "outputs": [
    {
     "data": {
      "text/plain": [
       "[array(['MATH 115'], dtype='<U8')]"
      ]
     },
     "execution_count": 196,
     "metadata": {},
     "output_type": "execute_result"
    }
   ],
   "source": [
    "courses_taken"
   ]
  },
  {
   "cell_type": "code",
   "execution_count": 201,
   "metadata": {},
   "outputs": [],
   "source": [
    "calI_course = rng.choice(calI, size=1, replace=False)\n",
    "calI_credit = df[df['Subject/Catalog'] == calI_course[0]]['Credits']\n",
    "courses_taken.append(calI_course)"
   ]
  },
  {
   "cell_type": "code",
   "execution_count": 202,
   "metadata": {},
   "outputs": [
    {
     "data": {
      "text/plain": [
       "[array(['MATH 115'], dtype='<U8'),\n",
       " array(['MATH 120'], dtype='<U8'),\n",
       " array(['MATH 295'], dtype='<U8'),\n",
       " array(['MATH 120'], dtype='<U8')]"
      ]
     },
     "execution_count": 202,
     "metadata": {},
     "output_type": "execute_result"
    }
   ],
   "source": [
    "courses_taken"
   ]
  },
  {
   "cell_type": "code",
   "execution_count": 277,
   "metadata": {},
   "outputs": [],
   "source": [
    "def gen_student(number_student):\n",
    "    \n",
    "    req_order = df['Course List Description'].unique()\n",
    "    \n",
    "    require = []\n",
    "    courses_taken = []\n",
    "    \n",
    "    for req in req_order:\n",
    "        for i in range(number_student):\n",
    "            \n",
    "            requirement = df[df['Course List Description'] == req]['Subject/Catalog'].tolist()\n",
    "        \n",
    "            req_course = rng.choice(requirement, size=1, replace=False)\n",
    "            req_credit = df[df['Subject/Catalog'] == requirement[0]]['Credits']\n",
    "            courses_taken.append(req_course)\n",
    "            require.append(req)\n",
    "        \n",
    "    gen_student_df = pd.DataFrame({'courses_taken': courses_taken})\n",
    "\n",
    "    return gen_student_df\n",
    "    return len(require), len(courses_taken)"
   ]
  },
  {
   "cell_type": "code",
   "execution_count": 278,
   "metadata": {},
   "outputs": [
    {
     "data": {
      "text/html": [
       "<div>\n",
       "<style scoped>\n",
       "    .dataframe tbody tr th:only-of-type {\n",
       "        vertical-align: middle;\n",
       "    }\n",
       "\n",
       "    .dataframe tbody tr th {\n",
       "        vertical-align: top;\n",
       "    }\n",
       "\n",
       "    .dataframe thead th {\n",
       "        text-align: right;\n",
       "    }\n",
       "</style>\n",
       "<table border=\"1\" class=\"dataframe\">\n",
       "  <thead>\n",
       "    <tr style=\"text-align: right;\">\n",
       "      <th></th>\n",
       "      <th>courses_taken</th>\n",
       "    </tr>\n",
       "  </thead>\n",
       "  <tbody>\n",
       "    <tr>\n",
       "      <th>0</th>\n",
       "      <td>[MATH 120]</td>\n",
       "    </tr>\n",
       "    <tr>\n",
       "      <th>1</th>\n",
       "      <td>[MATH 115]</td>\n",
       "    </tr>\n",
       "    <tr>\n",
       "      <th>2</th>\n",
       "      <td>[MATH 185]</td>\n",
       "    </tr>\n",
       "    <tr>\n",
       "      <th>3</th>\n",
       "      <td>[MATH 295]</td>\n",
       "    </tr>\n",
       "    <tr>\n",
       "      <th>4</th>\n",
       "      <td>[MATH 115]</td>\n",
       "    </tr>\n",
       "    <tr>\n",
       "      <th>...</th>\n",
       "      <td>...</td>\n",
       "    </tr>\n",
       "    <tr>\n",
       "      <th>695</th>\n",
       "      <td>[EECS 443]</td>\n",
       "    </tr>\n",
       "    <tr>\n",
       "      <th>696</th>\n",
       "      <td>[EECS 443]</td>\n",
       "    </tr>\n",
       "    <tr>\n",
       "      <th>697</th>\n",
       "      <td>[EECS 441]</td>\n",
       "    </tr>\n",
       "    <tr>\n",
       "      <th>698</th>\n",
       "      <td>[EECS 398]</td>\n",
       "    </tr>\n",
       "    <tr>\n",
       "      <th>699</th>\n",
       "      <td>[EECS 441]</td>\n",
       "    </tr>\n",
       "  </tbody>\n",
       "</table>\n",
       "<p>700 rows × 1 columns</p>\n",
       "</div>"
      ],
      "text/plain": [
       "    courses_taken\n",
       "0      [MATH 120]\n",
       "1      [MATH 115]\n",
       "2      [MATH 185]\n",
       "3      [MATH 295]\n",
       "4      [MATH 115]\n",
       "..            ...\n",
       "695    [EECS 443]\n",
       "696    [EECS 443]\n",
       "697    [EECS 441]\n",
       "698    [EECS 398]\n",
       "699    [EECS 441]\n",
       "\n",
       "[700 rows x 1 columns]"
      ]
     },
     "execution_count": 278,
     "metadata": {},
     "output_type": "execute_result"
    }
   ],
   "source": [
    "gen_student(100)"
   ]
  },
  {
   "cell_type": "code",
   "execution_count": 232,
   "metadata": {},
   "outputs": [],
   "source": [
    "req_order = df['Course List Description'].unique()"
   ]
  },
  {
   "cell_type": "code",
   "execution_count": 233,
   "metadata": {},
   "outputs": [],
   "source": [
    "require = []"
   ]
  },
  {
   "cell_type": "code",
   "execution_count": 236,
   "metadata": {},
   "outputs": [],
   "source": [
    "for req in req_order:\n",
    "    requirement = df[df['Course List Description'] == req]['Subject/Catalog'].tolist()\n",
    "    require.append(requirement)"
   ]
  },
  {
   "cell_type": "code",
   "execution_count": 237,
   "metadata": {},
   "outputs": [
    {
     "data": {
      "text/plain": [
       "[[],\n",
       " ['MATH 115', 'MATH 120', 'MATH 185', 'MATH 295'],\n",
       " ['MATH 121', 'MATH 156', 'MATH 186', 'MATH 116'],\n",
       " ['EECS 203', 'EECS 280'],\n",
       " ['STATS 412',\n",
       "  'IOE 265',\n",
       "  'STATS 250',\n",
       "  'STATS 426',\n",
       "  'TO 301',\n",
       "  'EECS 301',\n",
       "  'EECS 401',\n",
       "  'STATS 280',\n",
       "  'ECON 451'],\n",
       " ['EECS 281', 'EECS 370', 'EECS 376'],\n",
       " ['EECS 367',\n",
       "  'EECS 373',\n",
       "  'EECS 381',\n",
       "  'EECS 385',\n",
       "  'EECS 427',\n",
       "  'EECS 442',\n",
       "  'EECS 470',\n",
       "  'EECS 475',\n",
       "  'EECS 477',\n",
       "  'EECS 478',\n",
       "  'EECS 480',\n",
       "  'EECS 481',\n",
       "  'EECS 482',\n",
       "  'EECS 483',\n",
       "  'EECS 484',\n",
       "  'EECS 485',\n",
       "  'EECS 487',\n",
       "  'EECS 489',\n",
       "  'EECS 490',\n",
       "  'EECS 492',\n",
       "  'EECS 493',\n",
       "  'EECS 494',\n",
       "  'EECS 497',\n",
       "  'EECS 527',\n",
       "  'EECS 543',\n",
       "  'EECS 545',\n",
       "  'EECS 547',\n",
       "  'SI 652',\n",
       "  'EECS 567',\n",
       "  'MECHENG 567',\n",
       "  'MFG 567',\n",
       "  'ROB 510',\n",
       "  'EECS 570',\n",
       "  'EECS 571',\n",
       "  'EECS 573',\n",
       "  'EECS 574',\n",
       "  'EECS 575',\n",
       "  'EECS 578',\n",
       "  'EECS 579',\n",
       "  'EECS 580',\n",
       "  'EECS 581',\n",
       "  'EECS 582',\n",
       "  'EECS 583',\n",
       "  'EECS 584',\n",
       "  'EECS 586',\n",
       "  'EECS 587',\n",
       "  'EECS 588',\n",
       "  'EECS 589',\n",
       "  'EECS 594',\n",
       "  'EECS 590',\n",
       "  'EECS 591',\n",
       "  'EECS 592',\n",
       "  'EECS 595',\n",
       "  'LING 541',\n",
       "  'SI 561',\n",
       "  'EECS 627',\n",
       "  'EECS 684',\n",
       "  'EECS 691',\n",
       "  'EECS 476',\n",
       "  'EECS 467',\n",
       "  'EECS 388',\n",
       "  'EECS 445',\n",
       "  'EECS 486',\n",
       "  'EECS 498',\n",
       "  'EECS 491'],\n",
       " ['EECS 443', 'EECS 441', 'EECS 473', 'EECS 495', 'EECS 398']]"
      ]
     },
     "execution_count": 237,
     "metadata": {},
     "output_type": "execute_result"
    }
   ],
   "source": [
    "require"
   ]
  },
  {
   "cell_type": "code",
   "execution_count": null,
   "metadata": {},
   "outputs": [],
   "source": []
  },
  {
   "cell_type": "code",
   "execution_count": null,
   "metadata": {},
   "outputs": [],
   "source": []
  },
  {
   "cell_type": "code",
   "execution_count": null,
   "metadata": {},
   "outputs": [],
   "source": []
  },
  {
   "cell_type": "code",
   "execution_count": null,
   "metadata": {},
   "outputs": [],
   "source": []
  },
  {
   "cell_type": "code",
   "execution_count": null,
   "metadata": {},
   "outputs": [],
   "source": []
  },
  {
   "cell_type": "code",
   "execution_count": null,
   "metadata": {},
   "outputs": [],
   "source": []
  },
  {
   "cell_type": "code",
   "execution_count": null,
   "metadata": {},
   "outputs": [],
   "source": []
  },
  {
   "cell_type": "code",
   "execution_count": null,
   "metadata": {},
   "outputs": [],
   "source": []
  },
  {
   "cell_type": "code",
   "execution_count": null,
   "metadata": {},
   "outputs": [],
   "source": []
  },
  {
   "cell_type": "code",
   "execution_count": null,
   "metadata": {},
   "outputs": [],
   "source": []
  },
  {
   "cell_type": "code",
   "execution_count": null,
   "metadata": {},
   "outputs": [],
   "source": []
  },
  {
   "cell_type": "code",
   "execution_count": null,
   "metadata": {},
   "outputs": [],
   "source": []
  },
  {
   "cell_type": "code",
   "execution_count": null,
   "metadata": {},
   "outputs": [],
   "source": []
  },
  {
   "cell_type": "code",
   "execution_count": null,
   "metadata": {},
   "outputs": [],
   "source": []
  },
  {
   "cell_type": "code",
   "execution_count": null,
   "metadata": {},
   "outputs": [],
   "source": []
  },
  {
   "cell_type": "code",
   "execution_count": null,
   "metadata": {},
   "outputs": [],
   "source": []
  }
 ],
 "metadata": {
  "colab": {
   "name": "CS cleaning.ipynb",
   "provenance": []
  },
  "kernelspec": {
   "display_name": "Python 3",
   "language": "python",
   "name": "python3"
  },
  "language_info": {
   "codemirror_mode": {
    "name": "ipython",
    "version": 3
   },
   "file_extension": ".py",
   "mimetype": "text/x-python",
   "name": "python",
   "nbconvert_exporter": "python",
   "pygments_lexer": "ipython3",
   "version": "3.8.2"
  }
 },
 "nbformat": 4,
 "nbformat_minor": 4
}
