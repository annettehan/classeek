{
 "cells": [
  {
   "cell_type": "markdown",
   "metadata": {},
   "source": [
    "## This notebook:\n",
    "- Recommend a course based on free text the user inputs (this is more like an Information Retrieval system, research engine, because the user input is free text, like Google search)\n",
    "1.    \n",
    "    - User enters a block of text (free text, no preset options)\n",
    "    - This block of text would describe their interest\n",
    "    - Process this block of text\n",
    "    \n",
    "2.    \n",
    "    - Process text of the descriptions of courses\n",
    "    \n",
    "3.    \n",
    "    - Match the topic of user's input text and all the courses\n",
    "    - Compute similarity scores\n",
    "    - Rank these scores from high to low\n",
    "    - Return the n number of recommendations needed by order of similarity"
   ]
  },
  {
   "cell_type": "code",
   "execution_count": 16,
   "metadata": {},
   "outputs": [],
   "source": [
    "import pandas as pd\n",
    "import numpy as np\n",
    "import sklearn"
   ]
  },
  {
   "cell_type": "code",
   "execution_count": 5,
   "metadata": {},
   "outputs": [],
   "source": [
    "online = pd.read_csv('assets/original/2021-10-19-MichiganOnline-courses.csv')\n",
    "f_21 = pd.read_csv('assets/f_21_merge.csv')\n",
    "w_22 = pd.read_csv('assets/w_22_merge.csv')"
   ]
  },
  {
   "cell_type": "code",
   "execution_count": 6,
   "metadata": {},
   "outputs": [],
   "source": [
    "df = f_21\n",
    "df.drop_duplicates(subset=['course'], inplace=True)\n",
    "df.dropna(subset=['description'], inplace=True)\n",
    "df.fillna('', inplace=True)"
   ]
  },
  {
   "cell_type": "code",
   "execution_count": 7,
   "metadata": {},
   "outputs": [
    {
     "data": {
      "text/html": [
       "<div>\n",
       "<style scoped>\n",
       "    .dataframe tbody tr th:only-of-type {\n",
       "        vertical-align: middle;\n",
       "    }\n",
       "\n",
       "    .dataframe tbody tr th {\n",
       "        vertical-align: top;\n",
       "    }\n",
       "\n",
       "    .dataframe thead th {\n",
       "        text-align: right;\n",
       "    }\n",
       "</style>\n",
       "<table border=\"1\" class=\"dataframe\">\n",
       "  <thead>\n",
       "    <tr style=\"text-align: right;\">\n",
       "      <th></th>\n",
       "      <th>Class Nbr</th>\n",
       "      <th>course</th>\n",
       "      <th>Term</th>\n",
       "      <th>Session</th>\n",
       "      <th>Acad Group</th>\n",
       "      <th>Subject</th>\n",
       "      <th>Course Title</th>\n",
       "      <th>description</th>\n",
       "      <th>Component</th>\n",
       "      <th>Time</th>\n",
       "      <th>...</th>\n",
       "      <th>Seats Remaining</th>\n",
       "      <th>Has WL</th>\n",
       "      <th>Units</th>\n",
       "      <th>sub_title</th>\n",
       "      <th>credits</th>\n",
       "      <th>requirements_distribution</th>\n",
       "      <th>consent</th>\n",
       "      <th>advisory_prerequisites</th>\n",
       "      <th>other_course_info</th>\n",
       "      <th>repeatability</th>\n",
       "    </tr>\n",
       "  </thead>\n",
       "  <tbody>\n",
       "    <tr>\n",
       "      <th>0</th>\n",
       "      <td>30282</td>\n",
       "      <td>AAS 103</td>\n",
       "      <td>Fall 2021</td>\n",
       "      <td>Regular Academic Session</td>\n",
       "      <td>Literature, Sci, and the Arts</td>\n",
       "      <td>Afroamerican &amp; African Studies (AAS) Open Sect...</td>\n",
       "      <td>Social Sci Seminar</td>\n",
       "      <td>This course seeks to introduce students to eve...</td>\n",
       "      <td>SEM</td>\n",
       "      <td>1-230PM</td>\n",
       "      <td>...</td>\n",
       "      <td>1</td>\n",
       "      <td>Y</td>\n",
       "      <td>3.00</td>\n",
       "      <td>- Reading Africa: Critical Perspectives on Po...</td>\n",
       "      <td>3</td>\n",
       "      <td>SS</td>\n",
       "      <td></td>\n",
       "      <td>Enrollment restricted to first-year students, ...</td>\n",
       "      <td>(Cross-Area Courses). May not be included in a...</td>\n",
       "      <td>May not be repeated for credit.</td>\n",
       "    </tr>\n",
       "    <tr>\n",
       "      <th>3</th>\n",
       "      <td>30276</td>\n",
       "      <td>AAS 104</td>\n",
       "      <td>Fall 2021</td>\n",
       "      <td>Regular Academic Session</td>\n",
       "      <td>Literature, Sci, and the Arts</td>\n",
       "      <td>Afroamerican &amp; African Studies (AAS) Open Sect...</td>\n",
       "      <td>Humanities Seminar</td>\n",
       "      <td>This seminar introduces first-year students to...</td>\n",
       "      <td>SEM</td>\n",
       "      <td>1130-1PM</td>\n",
       "      <td>...</td>\n",
       "      <td>2</td>\n",
       "      <td>Y</td>\n",
       "      <td>3.00</td>\n",
       "      <td>- Black Lives and Life Writing: How We Tell S...</td>\n",
       "      <td>3</td>\n",
       "      <td>HU</td>\n",
       "      <td>With permission of instructor.</td>\n",
       "      <td>Enrollment restricted to first-year students, ...</td>\n",
       "      <td>(Cross-Area Courses). May not be included in a...</td>\n",
       "      <td>May not be repeated for credit.</td>\n",
       "    </tr>\n",
       "    <tr>\n",
       "      <th>21</th>\n",
       "      <td>19186</td>\n",
       "      <td>AAS 115</td>\n",
       "      <td>Fall 2021</td>\n",
       "      <td>Regular Academic Session</td>\n",
       "      <td>Literature, Sci, and the Arts</td>\n",
       "      <td>Afroamerican &amp; African Studies (AAS) Open Sect...</td>\n",
       "      <td>Elementary Swahili</td>\n",
       "      <td>This course is an introduction to spoken and w...</td>\n",
       "      <td>REC</td>\n",
       "      <td>1-2PM</td>\n",
       "      <td>...</td>\n",
       "      <td>13</td>\n",
       "      <td>Y</td>\n",
       "      <td>4.00</td>\n",
       "      <td>- Swahili Language and Culture</td>\n",
       "      <td>4</td>\n",
       "      <td></td>\n",
       "      <td></td>\n",
       "      <td></td>\n",
       "      <td></td>\n",
       "      <td>May not be repeated for credit.</td>\n",
       "    </tr>\n",
       "    <tr>\n",
       "      <th>25</th>\n",
       "      <td>26657</td>\n",
       "      <td>AAS 125</td>\n",
       "      <td>Fall 2021</td>\n",
       "      <td>Regular Academic Session</td>\n",
       "      <td>Literature, Sci, and the Arts</td>\n",
       "      <td>Afroamerican &amp; African Studies (AAS) Open Sect...</td>\n",
       "      <td>Elem Yoruba I</td>\n",
       "      <td>This course is designed to introduce the Yorub...</td>\n",
       "      <td>REC</td>\n",
       "      <td>9-10AM</td>\n",
       "      <td>...</td>\n",
       "      <td>5</td>\n",
       "      <td>Y</td>\n",
       "      <td>4.00</td>\n",
       "      <td>- Yoruba</td>\n",
       "      <td>4</td>\n",
       "      <td></td>\n",
       "      <td></td>\n",
       "      <td></td>\n",
       "      <td>May not repeat the same language at the same l...</td>\n",
       "      <td>May not be repeated for credit.</td>\n",
       "    </tr>\n",
       "    <tr>\n",
       "      <th>26</th>\n",
       "      <td>30898</td>\n",
       "      <td>AAS 202</td>\n",
       "      <td>Fall 2021</td>\n",
       "      <td>Regular Academic Session</td>\n",
       "      <td>Literature, Sci, and the Arts</td>\n",
       "      <td>Afroamerican &amp; African Studies (AAS) Open Sect...</td>\n",
       "      <td>Intro Afr Diasp Stds</td>\n",
       "      <td>Is the African Diaspora a concept or an actual...</td>\n",
       "      <td>SEM</td>\n",
       "      <td>1-230PM</td>\n",
       "      <td>...</td>\n",
       "      <td>9</td>\n",
       "      <td>Y</td>\n",
       "      <td>3.00</td>\n",
       "      <td>- Global Blackness</td>\n",
       "      <td>3</td>\n",
       "      <td></td>\n",
       "      <td></td>\n",
       "      <td></td>\n",
       "      <td></td>\n",
       "      <td>May not be repeated for credit.</td>\n",
       "    </tr>\n",
       "  </tbody>\n",
       "</table>\n",
       "<p>5 rows × 23 columns</p>\n",
       "</div>"
      ],
      "text/plain": [
       "    Class Nbr   course       Term                   Session  \\\n",
       "0       30282  AAS 103  Fall 2021  Regular Academic Session   \n",
       "3       30276  AAS 104  Fall 2021  Regular Academic Session   \n",
       "21      19186  AAS 115  Fall 2021  Regular Academic Session   \n",
       "25      26657  AAS 125  Fall 2021  Regular Academic Session   \n",
       "26      30898  AAS 202  Fall 2021  Regular Academic Session   \n",
       "\n",
       "                       Acad Group  \\\n",
       "0   Literature, Sci, and the Arts   \n",
       "3   Literature, Sci, and the Arts   \n",
       "21  Literature, Sci, and the Arts   \n",
       "25  Literature, Sci, and the Arts   \n",
       "26  Literature, Sci, and the Arts   \n",
       "\n",
       "                                              Subject          Course Title  \\\n",
       "0   Afroamerican & African Studies (AAS) Open Sect...    Social Sci Seminar   \n",
       "3   Afroamerican & African Studies (AAS) Open Sect...    Humanities Seminar   \n",
       "21  Afroamerican & African Studies (AAS) Open Sect...    Elementary Swahili   \n",
       "25  Afroamerican & African Studies (AAS) Open Sect...         Elem Yoruba I   \n",
       "26  Afroamerican & African Studies (AAS) Open Sect...  Intro Afr Diasp Stds   \n",
       "\n",
       "                                          description Component      Time  \\\n",
       "0   This course seeks to introduce students to eve...       SEM   1-230PM   \n",
       "3   This seminar introduces first-year students to...       SEM  1130-1PM   \n",
       "21  This course is an introduction to spoken and w...       REC     1-2PM   \n",
       "25  This course is designed to introduce the Yorub...       REC    9-10AM   \n",
       "26  Is the African Diaspora a concept or an actual...       SEM   1-230PM   \n",
       "\n",
       "    ... Seats Remaining Has WL Units  \\\n",
       "0   ...               1      Y  3.00   \n",
       "3   ...               2      Y  3.00   \n",
       "21  ...              13      Y  4.00   \n",
       "25  ...               5      Y  4.00   \n",
       "26  ...               9      Y  3.00   \n",
       "\n",
       "                                            sub_title credits  \\\n",
       "0    - Reading Africa: Critical Perspectives on Po...       3   \n",
       "3    - Black Lives and Life Writing: How We Tell S...       3   \n",
       "21                     - Swahili Language and Culture       4   \n",
       "25                                           - Yoruba       4   \n",
       "26                                 - Global Blackness       3   \n",
       "\n",
       "   requirements_distribution                         consent  \\\n",
       "0                         SS                                   \n",
       "3                         HU  With permission of instructor.   \n",
       "21                                                             \n",
       "25                                                             \n",
       "26                                                             \n",
       "\n",
       "                               advisory_prerequisites  \\\n",
       "0   Enrollment restricted to first-year students, ...   \n",
       "3   Enrollment restricted to first-year students, ...   \n",
       "21                                                      \n",
       "25                                                      \n",
       "26                                                      \n",
       "\n",
       "                                    other_course_info  \\\n",
       "0   (Cross-Area Courses). May not be included in a...   \n",
       "3   (Cross-Area Courses). May not be included in a...   \n",
       "21                                                      \n",
       "25  May not repeat the same language at the same l...   \n",
       "26                                                      \n",
       "\n",
       "                      repeatability  \n",
       "0   May not be repeated for credit.  \n",
       "3   May not be repeated for credit.  \n",
       "21  May not be repeated for credit.  \n",
       "25  May not be repeated for credit.  \n",
       "26  May not be repeated for credit.  \n",
       "\n",
       "[5 rows x 23 columns]"
      ]
     },
     "execution_count": 7,
     "metadata": {},
     "output_type": "execute_result"
    }
   ],
   "source": [
    "df.head()"
   ]
  },
  {
   "cell_type": "code",
   "execution_count": 8,
   "metadata": {},
   "outputs": [],
   "source": [
    "df_1 = df[['Class Nbr', 'course', 'Course Title','description']]"
   ]
  },
  {
   "cell_type": "code",
   "execution_count": 9,
   "metadata": {},
   "outputs": [
    {
     "data": {
      "text/plain": [
       "['This course seeks to introduce students to everyday life in urban Africa. The course is designed to equip students with basic and useful knowledge about the how urban residents – rich and poor, newcomers and old-timers, young and old, men and women – negotiate the challenges of living in cities.  This course focuses on networks, associational life, and relationships that are the ties that bind urban residents together.  Social organization, religious belief and practice, ethnicity, economic and political systems, the arts, and popular culture are some of the topics we will explore.  We will be approaching these themes from a variety of disciplinary perspectives, including history, anthropology, literature, political science, sociology, and economics.',\n",
       " 'This seminar introduces first-year students to the intellectual community of humanities scholars working in the field of Afroamerican and African studies.  The topic of the seminar varies from year to year.',\n",
       " 'This course is an introduction to spoken and written Swahili. It is designed to help students learn elementary spoken Swahili and the proper written grammar of the language. The course provides some exposure to the people and cultures of the Swahili-speaking communities.',\n",
       " 'This course is designed to introduce the Yoruba language and culture to non-native speakers.  Emphasis will be put on listening, speaking, reading and writing through communicative activities, enabling the students to perform the various tasks in the target language. Classes will also include role-plays and oral presentations.',\n",
       " 'Is the African Diaspora a concept or an actual geographical location? Is it singular or are there multiple African diasporas? What does diaspora have to do with the multi-lingual, multicultural continent of over fifty countries that make up Africa? What impact has Africa and its diaspora(s) had on the so-called “white” West and its development as a site of tremendous wealth and privilege? AAS 202 engages these questions by exploring the long historical, economic, and political relationships between \"the West\" (e.g., United States, Britain, France, and Germany) and selected countries in Africa and the diaspora (e.g., Jamaica, Haiti, Brazil, Mali, Liberia, Ethiopia, Democratic Republic of Congo, and South Africa). Topics include: pre-colonial African empires; the Middle Passage; child soldiers; public health; conflict minerals; slavery and resistance; migration; empire, colonialism, and post-colonialism; twentieth-century freedom movements; religion; and popular forms of cultural expression.',\n",
       " 'This course concentrates on developing communicative skills to enable the learners engage in meaningful verbal interactions with other Swahili speakers. In order to achieve this goal, most lessons are task-based, both pedagogic and real-life tasks. Activities such as role-play, creating sample materials, discussion, storytelling, describing scenes, and studying authentic cultural objects are used.  Reading and writing passages are carried out as would be in a Swahili speaking community.  Prerequisite: AAS 116 or permission from the instructor after testing.',\n",
       " 'This intermediate level course sequence is designed for students who have successfully completed the Elementary sequence, or with the permission of the instructor. Instruction is offered through a distance-learning, course share program at Indiana University. It broadens speaking, reading and writing skills as students engage in discussions and writing on more complex topics. Videos, audio tapes, newspapers, magazines and the internet provide resources for the content of materials of the students’ interests as well as exposure to more advanced language. They are encouraged to discuss culture as well as news from Africa. Students begin to read short novels, plays, poetry, and essays. Using a variety of materials, students acquire a solid knowledge of morphology and syntax, vocabulary, and more complex practice in speaking and writing. Swahili is currently the only language available at the Intermediate level, but additional languages may be added in the future.',\n",
       " 'The history of early Africa is expansive, encompassing several millennia and several thousands of square miles. It entails the peopling of a continent, the rise of centralized kingdoms and long-distance trade networks, technological innovation, the birth of diverse cultural forms and social identities, violent confrontations, and creative ideas about what it means to live together. It is also a difficult history to access as most African civilizations before the 19th century prioritized unwritten forms of communication. This class presents several important episodes in the long history of early African civilization and introduces students to the ways historians of the distant past think about and use various forms of evidence including language, material culture, oral traditions, and folklore.',\n",
       " 'The course introduces students to the confluence of political and economic forces at the local,\\r\\nnational, regional, and global levels that have helped shape the trajectory of African development.\\r\\nThe course is divided into three parts: the first examines the meaning and evolution of the political\\r\\neconomy of development in the context of Africa’s unfolding history from pre-independence\\r\\nthrough the era of structural adjustment. The second applies an understanding of political economy\\r\\nto topical development issues such as environment and climate change, causes and consequences of\\r\\nconflict, health and development, and international aid. The latter section applies the political\\r\\neconomy framework to particular African country case studies.',\n",
       " 'In this course we will study the emergence and early development of African American literature, from 1773 to the Harlem Renaissance. We will do literary close readings of texts to think through many of the issues relating to the development of an African American literary tradition. What constitutes a tradition? Can there be more than one? Along with these questions, we will examine our own assumptions about this literature and the many ways in which these texts reflect the different experiences of African Americans intent on gaining a national voice in a slaveholding and racially polarized nation.']"
      ]
     },
     "execution_count": 9,
     "metadata": {},
     "output_type": "execute_result"
    }
   ],
   "source": [
    "corpus = df_1['description'].tolist()\n",
    "corpus[:10]"
   ]
  },
  {
   "cell_type": "code",
   "execution_count": 10,
   "metadata": {},
   "outputs": [],
   "source": [
    "import spacy\n",
    "\n",
    "nlp = spacy.load('en_core_web_md')"
   ]
  },
  {
   "cell_type": "markdown",
   "metadata": {},
   "source": [
    "## Bert Sentence Transformer "
   ]
  },
  {
   "cell_type": "code",
   "execution_count": 11,
   "metadata": {},
   "outputs": [],
   "source": [
    "#pip install sentence_transformers"
   ]
  },
  {
   "cell_type": "code",
   "execution_count": 12,
   "metadata": {},
   "outputs": [],
   "source": [
    "from sentence_transformers import SentenceTransformer\n",
    "import scipy.spatial\n",
    "embedder = SentenceTransformer('bert-base-nli-mean-tokens')"
   ]
  },
  {
   "cell_type": "code",
   "execution_count": 13,
   "metadata": {},
   "outputs": [
    {
     "name": "stdout",
     "output_type": "stream",
     "text": [
      "Wall time: 10min 16s\n"
     ]
    }
   ],
   "source": [
    "%%time\n",
    "corpus_embeddings = embedder.encode(corpus)"
   ]
  },
  {
   "cell_type": "markdown",
   "metadata": {},
   "source": [
    "## Candidate Genration using Faiss vector similarity search library  \n",
    "Faiss is a library developed by Facebook AI Research. It is for effecient similarity search and clustering of dense vectors."
   ]
  },
  {
   "cell_type": "code",
   "execution_count": 14,
   "metadata": {},
   "outputs": [],
   "source": [
    "#pip install faiss-cpu"
   ]
  },
  {
   "cell_type": "markdown",
   "metadata": {},
   "source": [
    "Faiss is a library developed by Facebook AI Research. It is for effecient similarity search and clustering of dense vectors.\n",
    "1. Tutorial : https://github.com/facebookresearch/faiss/wiki/Getting-started  \n",
    "2. facebookrearch : https://github.com/facebookresearch/faiss"
   ]
  },
  {
   "cell_type": "code",
   "execution_count": 17,
   "metadata": {},
   "outputs": [
    {
     "name": "stdout",
     "output_type": "stream",
     "text": [
      "True\n",
      "1910\n"
     ]
    }
   ],
   "source": [
    "import faiss\n",
    "d= 768\n",
    "index = faiss.IndexFlatL2(d)\n",
    "print(index.is_trained)\n",
    "index.add(np.stack(corpus_embeddings, axis=0))\n",
    "print(index.ntotal)"
   ]
  },
  {
   "cell_type": "code",
   "execution_count": 33,
   "metadata": {},
   "outputs": [],
   "source": [
    "def recommander(df, queries, k):\n",
    "    # query free text input from user about his interest\n",
    "    # we want to see k nearest neighbors of query\n",
    "    # df could be f_21, w_22\n",
    "\n",
    "    df_1 = df[['Class Nbr', 'course', 'Course Title','description']]\n",
    "    query_embeddings = embedder.encode(queries)\n",
    "    D, I = index.search(query_embeddings, k)     # actual search\n",
    "\n",
    "    for query, query_embedding in zip(queries, query_embeddings):\n",
    "        distances, indices = index.search(np.asarray(query_embedding).reshape(1,768),k)\n",
    "        print(\"\\n======================\\n\")\n",
    "        print(\"Query:\", query)\n",
    "        print(\"\\nTop 5 most similar sentences in corpus:\")\n",
    "        for idx in range(0,k):\n",
    "            print(corpus[indices[0,idx]], \"(Distance: %.4f)\" % distances[0,idx])\n"
   ]
  },
  {
   "cell_type": "code",
   "execution_count": 34,
   "metadata": {},
   "outputs": [
    {
     "name": "stdout",
     "output_type": "stream",
     "text": [
      "\n",
      "======================\n",
      "\n",
      "Query: I am interested in computer science\n",
      "\n",
      "Top 5 most similar sentences in corpus:\n",
      "Introduction to programming with a focus on applications in informatics.  Covers the fundamental elements of a modern programming language and how to access data on the internet.  Explores how humans and technology complement one another, including techniques used to coordinate groups of people working together on software development. (Distance: 153.2221)\n",
      "Includes the study of digital synthesis techniques. Special attention is given to the relationship between technology, the creative process, and individual statement. (Distance: 160.4367)\n",
      "Includes the study of digital synthesis techniques. Special attention is given to the relationship between technology, the creative process, and individual statement. (Distance: 160.4367)\n",
      "Practical experience in the use of a system of computer programs for social scientists. (Distance: 162.5113)\n",
      "Advanced technical communication for computer science.  Design and writing of user and task analysis, requirements documents, specifications, proposals, reports and documentation, all aimed at diverse organizational audiences. Preparation and delivery of final oral presentations and written project reports.  (Distance: 167.1653)\n",
      "\n",
      "======================\n",
      "\n",
      "Query: I like pop music\n",
      "\n",
      "Top 5 most similar sentences in corpus:\n",
      "Sure, pop culture is fun. It’s great to watch an Academy Award winner, read a best seller. But stories that sell shape our values and beliefs, change how we act and what we do – often in powerful ways. Given the power of what’s popular, we better understand how that power works. Let’s read some best-selling books, watch a few Academy Award-winning movies, and see what we can figure out. (Distance: 245.6423)\n",
      "In this course, we will explore French-language podcasts, a medium whose popularity has exploded in recent years. While there seems to be a podcast for every subject imaginable, we will give particular attention to personal stories – what are the ethics and implications of telling one’s story via podcast? In what ways does telling one’s story in a podcast to align with or differ from other formats? (Distance: 248.1490)\n",
      "Music is undoubtedly one of the most powerful art forms that exist. It gives us the ability to communicate, to reflect, to express, and to connect. Music joins together nations across the world and people of all backgrounds. But does music have the power to participate in the world of science and physiology and offer real healing? (Distance: 255.0293)\n",
      "A survey of musical concepts and repertories of the Western and non-Western world. (Distance: 277.3761)\n",
      "This course introduces the basic tools of Information Theory, Entropy, Relative Entropy, and Information, and highlights their utility with applications drawn from various disciplines.  After introducing the basics of probability theory and information theory, we explore topics including coding, data compression, channel capacity, thermodynamics, population dynamics, gene transcription, network science, and more.  Familiarity with a simple computational package is a plus, but not required. (Distance: 279.7503)\n",
      "\n",
      "======================\n",
      "\n",
      "Query: I like Asian culture, especially Janpanese history\n",
      "\n",
      "Top 5 most similar sentences in corpus:\n",
      "This course serves as an introduction to the history and culture of a great city or a group of great cities in Asia (e.g. Tokyo, Seoul, Shanghai, Mumbai). This course focuses on a number of key issues that are critical to making sense of these cities: the relationship between modern and premodern cities, the historical linkages between different Asian cities, and the challenges faced by most Asian cities, including cosmopolitanism, social inequality, suburbanization, pollution, etc. (Distance: 197.2614)\n",
      "In this course, we’ll read a series of works from Greco-Roman antiquity long held to be among the “Great Books” of world literature. We’ll explore the ways in which these texts can still speak to us today because of their remarkably intense focus on central questions of human existence, such as: What makes you who you are? What makes a good life? What is justice? What is your relation to people different from yourself, whether because of their ethnicity, class, or gender? At the same time, however, we’ll ask why these texts, in particular, became “Great Books” because of the answers they provide to these questions, and whether these answers are still our answers. Students will, in addition, have the opportunity to write about modern books and films that are related to the ancient texts but come from diverse perspectives and national traditions. (Distance: 199.7424)\n",
      "This course introduces the basic tools of Information Theory, Entropy, Relative Entropy, and Information, and highlights their utility with applications drawn from various disciplines.  After introducing the basics of probability theory and information theory, we explore topics including coding, data compression, channel capacity, thermodynamics, population dynamics, gene transcription, network science, and more.  Familiarity with a simple computational package is a plus, but not required. (Distance: 200.7072)\n",
      "This course introduces the basic tools of Information Theory, Entropy, Relative Entropy, and Information, and highlights their utility with applications drawn from various disciplines.  After introducing the basics of probability theory and information theory, we explore topics including coding, data compression, channel capacity, thermodynamics, population dynamics, gene transcription, network science, and more.  Familiarity with a simple computational package is a plus, but not required. (Distance: 200.7072)\n",
      "This course introduces the basic tools of Information Theory, Entropy, Relative Entropy, and Information, and highlights their utility with applications drawn from various disciplines.  After introducing the basics of probability theory and information theory, we explore topics including coding, data compression, channel capacity, thermodynamics, population dynamics, gene transcription, network science, and more.  Familiarity with a simple computational package is a plus, but not required. (Distance: 200.7072)\n",
      "\n",
      "======================\n",
      "\n",
      "Query: I like to use computer skill to resolve biological problems\n",
      "\n",
      "Top 5 most similar sentences in corpus:\n",
      "Artificial agents provide possible models of human cognition, and\n",
      "machine learning represents a substrate upon which models of agents\n",
      "are constructed.  This course is an introduction to machine learning.\n",
      "Although the introduction is general, techniques and applications that\n",
      "arise in natural language processing receive special attention.\n",
      " (Distance: 121.1692)\n",
      "Artificial agents provide possible models of human cognition, and\n",
      "machine learning represents a substrate upon which models of agents\n",
      "are constructed.  This course is an introduction to machine learning.\n",
      "Although the introduction is general, techniques and applications that\n",
      "arise in natural language processing receive special attention.\n",
      " (Distance: 121.1692)\n",
      "From mutants to high-throughput DNA sequencing to targeted genome editing, researchers have developed a powerful set of genetic tools for simple model systems to human populations. This class covers the theory and application of genetic methods from the foundational to the latest technical advances using examples from the primary research literature. (Distance: 142.3947)\n",
      "Basic interdisciplinary concepts needed to implement a microprocessor based control system. Sensors and actuators. Quadrature decoding. Pulse width modulation. DC motors. Force feedback algorithms for human computer interaction. Real time operating systems. Networking. Use of MATLAB to model hybrid dynamical systems. Autocode generation for rapid prototyping. Lecture and laboratory. (Distance: 145.0772)\n",
      "The course introduces fundamental concepts and methods for structural bioinformatics and the advanced applications.  Topics\n",
      "include sequence and structure alignment methods, methods of protein folding and protein structure prediction (homologous modeling, threading an ab intio folding), basics of molecular dynamics and Monte Carlo simulation, principle and application of machine learning, and techniques of protein structure determination (X-ray crystallography NMR and cryo-EM). Emphasis is on the understanding of the concepts plus practical utilization, with the objective to help students use cutting-edge bioinformatics tool/methods to solve problems in their own research. (Distance: 145.3300)\n"
     ]
    }
   ],
   "source": [
    "queries =[\"I am interested in computer science\",\n",
    "         \"I like pop music\", \n",
    "        \"I like Asian culture, especially Janpanese history\", \n",
    "        \"I like to use computer skill to resolve biological problems\"]\n",
    "recommander(f_21, queries, 5)"
   ]
  },
  {
   "cell_type": "code",
   "execution_count": null,
   "metadata": {},
   "outputs": [],
   "source": []
  }
 ],
 "metadata": {
  "interpreter": {
   "hash": "ac59ebe37160ed0dfa835113d9b8498d9f09ceb179beaac4002f036b9467c963"
  },
  "kernelspec": {
   "display_name": "Python 3.9.5 64-bit",
   "language": "python",
   "name": "python3"
  },
  "language_info": {
   "codemirror_mode": {
    "name": "ipython",
    "version": 3
   },
   "file_extension": ".py",
   "mimetype": "text/x-python",
   "name": "python",
   "nbconvert_exporter": "python",
   "pygments_lexer": "ipython3",
   "version": "3.9.5"
  },
  "orig_nbformat": 4
 },
 "nbformat": 4,
 "nbformat_minor": 2
}
